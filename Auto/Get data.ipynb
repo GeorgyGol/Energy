{
 "cells": [
  {
   "cell_type": "markdown",
   "metadata": {},
   "source": [
    "# Read WWW for various car data\n",
    "and create lqlite3 database"
   ]
  },
  {
   "cell_type": "code",
   "execution_count": 153,
   "metadata": {},
   "outputs": [],
   "source": [
    "import pandas as pd\n",
    "from bs4 import BeautifulSoup\n",
    "import requests\n",
    "import sqlite3\n",
    "import re\n",
    "from datetime import datetime, timedelta\n",
    "from collections import OrderedDict\n",
    "\n",
    "strCarSalesQ=r'https://auto.vercity.ru/statistics/sales/europe/{0}/russia/01-12/'\n",
    "strCarProdsQ=r'https://auto.vercity.ru/statistics/production/europe/{0}/russia/01-12/'\n",
    "\n",
    "conn=sqlite3.connect('cars.sqlite3') #connect or create database\n"
   ]
  },
  {
   "cell_type": "code",
   "execution_count": 133,
   "metadata": {},
   "outputs": [],
   "source": [
    "curYear=2010\n",
    "\n",
    "def get_date_list(iYear):\n",
    "        dates=['{0}-01-01'.format(iYear), '{0}-01-01'.format(iYear+1)]\n",
    "        start, end=[datetime.strptime(_, '%Y-%m-%d') for _ in dates]\n",
    "        od=OrderedDict(((start+timedelta(_)).strftime(r'%b-%Y'), None) for _ in range((end-start).days))\n",
    "        return list(od.keys())\n",
    "\n",
    "def GetYearsSalesData(curYear, strSource=strCarSalesQ):\n",
    "\n",
    "    r=requests.get(strSource.format(curYear))\n",
    "    soup=BeautifulSoup(r.text, 'html.parser')\n",
    "    \n",
    "    lstHeads=['Model']+get_date_list(curYear)\n",
    "    pdf=pd.DataFrame(columns=lstHeads)\n",
    "    #print(pdf)\n",
    "\n",
    "    lstVals=[]\n",
    "    lstI=[1]+list(range(3, 15)) #+ [16] \n",
    "\n",
    "    for dv in soup.findAll('div', class_='pages_table-scrollable'):\n",
    "        t=dv.table\n",
    "        for tr in t.find_all('tr'):\n",
    "            th=tr.find_all('th')\n",
    "            if len(th)==0:\n",
    "                tds=tr.find_all('td')\n",
    "                if re.sub('\\s', '', tds[1].text) =='N/A':\n",
    "                    break\n",
    "                lstVals=[re.sub('\\s', '', c.text) for i, c in enumerate(tds) if i in lstI]\n",
    "                pdf=pdf.append(pd.Series(lstVals, index=lstHeads), ignore_index=True)\n",
    "    return pdf.set_index('Model')\n",
    "\n",
    "#print(GetYearsSalesData(2010).stack())\n"
   ]
  },
  {
   "cell_type": "markdown",
   "metadata": {},
   "source": [
    "## 1. Car sales (https://auto.vercity.ru/statistics/sales/)\n",
    "###  For Russia\n",
    "\n",
    "https://auto.vercity.ru/statistics/sales/europe/2010/russia/01-12/"
   ]
  },
  {
   "cell_type": "code",
   "execution_count": 144,
   "metadata": {},
   "outputs": [
    {
     "name": "stderr",
     "output_type": "stream",
     "text": [
      "/home/egor/anaconda3/lib/python3.6/site-packages/ipykernel_launcher.py:1: FutureWarning: Sorting because non-concatenation axis is not aligned. A future version\n",
      "of pandas will change to not sort by default.\n",
      "\n",
      "To accept the future behavior, pass 'sort=False'.\n",
      "\n",
      "To retain the current behavior and silence the warning, pass 'sort=True'.\n",
      "\n",
      "  \"\"\"Entry point for launching an IPython kernel.\n"
     ]
    },
    {
     "name": "stdout",
     "output_type": "stream",
     "text": [
      "      Model      date  Count\n",
      "0     Acura  Jan-2010      0\n",
      "1     Acura  Feb-2010      0\n",
      "2     Acura  Mar-2010      0\n",
      "3     Acura  Apr-2010      0\n",
      "4     Acura  May-2010      0\n",
      "5     Acura  Jun-2010      0\n",
      "6     Acura  Jul-2010      0\n",
      "7     Acura  Aug-2010      0\n",
      "8     Acura  Sep-2010      0\n",
      "9     Acura  Oct-2010      0\n",
      "10    Acura  Nov-2010      0\n",
      "11    Acura  Dec-2010      0\n",
      "12    Acura  Jan-2011      0\n",
      "13    Acura  Feb-2011      0\n",
      "14    Acura  Mar-2011      0\n",
      "15    Acura  Apr-2011      0\n",
      "16    Acura  May-2011      0\n",
      "17    Acura  Jun-2011      0\n",
      "18    Acura  Jul-2011      0\n",
      "19    Acura  Aug-2011      0\n",
      "20    Acura  Sep-2011      0\n",
      "21    Acura  Oct-2011      0\n",
      "22    Acura  Nov-2011      0\n",
      "23    Acura  Dec-2011      0\n",
      "24    Acura  Jan-2012      0\n",
      "25    Acura  Feb-2012      0\n",
      "26    Acura  Mar-2012      0\n",
      "27    Acura  Apr-2012      0\n",
      "28    Acura  May-2012      0\n",
      "29    Acura  Jun-2012      0\n",
      "...     ...       ...    ...\n",
      "7158    УАЗ  Jul-2016   3290\n",
      "7159    УАЗ  Aug-2016   4161\n",
      "7160    УАЗ  Sep-2016   4220\n",
      "7161    УАЗ  Oct-2016   5316\n",
      "7162    УАЗ  Nov-2016   4642\n",
      "7163    УАЗ  Dec-2016   5909\n",
      "7164    УАЗ  Jan-2017   1735\n",
      "7165    УАЗ  Feb-2017   3507\n",
      "7166    УАЗ  Mar-2017   4582\n",
      "7167    УАЗ  Apr-2017   3151\n",
      "7168    УАЗ  May-2017   2586\n",
      "7169    УАЗ  Jun-2017   2849\n",
      "7170    УАЗ  Jul-2017   2802\n",
      "7171    УАЗ  Aug-2017   3579\n",
      "7172    УАЗ  Sep-2017   3901\n",
      "7173    УАЗ  Oct-2017   4029\n",
      "7174    УАЗ  Nov-2017   4288\n",
      "7175    УАЗ  Dec-2017   4623\n",
      "7176    УАЗ  Jan-2018   1935\n",
      "7177    УАЗ  Feb-2018   2674\n",
      "7178    УАЗ  Mar-2018   2832\n",
      "7179    УАЗ  Apr-2018   3342\n",
      "7180    УАЗ  May-2018   3630\n",
      "7181    УАЗ  Jun-2018   3122\n",
      "7182    УАЗ  Jul-2018   2726\n",
      "7183    УАЗ  Aug-2018   3315\n",
      "7184    УАЗ  Sep-2018      0\n",
      "7185    УАЗ  Oct-2018      0\n",
      "7186    УАЗ  Nov-2018      0\n",
      "7187    УАЗ  Dec-2018      0\n",
      "\n",
      "[7188 rows x 3 columns]\n"
     ]
    }
   ],
   "source": [
    "#read www-data and make dataframe\n",
    "sales_df=pd.concat([GetYearsSalesData(Y) for Y in range(2010, 2019)], axis=1) \n",
    "\n",
    "sales_df=sales_df.stack().reset_index().rename(columns={'level_0':'Model', 'level_1':'date', 0:'Count'})\n",
    "sales_df['Count']=sales_df['Count'].apply(pd.to_numeric)\n",
    "\n",
    "print(sales_df.head(10))\n",
    "\n"
   ]
  },
  {
   "cell_type": "code",
   "execution_count": 150,
   "metadata": {},
   "outputs": [],
   "source": [
    "sales_df=sales_df[sales_df['Count']!=0]\n",
    "\n",
    "sales_df.to_sql('sales_ru', con=conn, if_exists='replace', index=False)\n"
   ]
  },
  {
   "cell_type": "markdown",
   "metadata": {},
   "source": [
    "## 2. Car production (https://auto.vercity.ru/statistics/production/)\n",
    "###  For Russia\n",
    "\n",
    "https://auto.vercity.ru/statistics/production/europe/2018/russia/"
   ]
  },
  {
   "cell_type": "code",
   "execution_count": 154,
   "metadata": {},
   "outputs": [
    {
     "name": "stderr",
     "output_type": "stream",
     "text": [
      "/home/egor/anaconda3/lib/python3.6/site-packages/ipykernel_launcher.py:1: FutureWarning: Sorting because non-concatenation axis is not aligned. A future version\n",
      "of pandas will change to not sort by default.\n",
      "\n",
      "To accept the future behavior, pass 'sort=False'.\n",
      "\n",
      "To retain the current behavior and silence the warning, pass 'sort=True'.\n",
      "\n",
      "  \"\"\"Entry point for launching an IPython kernel.\n"
     ]
    },
    {
     "name": "stdout",
     "output_type": "stream",
     "text": [
      "  Model      date  Count\n",
      "0   BAW  Jan-2010      0\n",
      "1   BAW  Feb-2010      0\n",
      "2   BAW  Mar-2010      0\n",
      "3   BAW  Apr-2010      0\n",
      "4   BAW  May-2010      0\n",
      "5   BAW  Jun-2010      0\n",
      "6   BAW  Jul-2010      0\n",
      "7   BAW  Aug-2010      0\n",
      "8   BAW  Sep-2010      0\n",
      "9   BAW  Oct-2010      0\n"
     ]
    }
   ],
   "source": [
    "prod_df=pd.concat([GetYearsSalesData(Y, strSource=strCarProdsQ) for Y in range(2010, 2019)], axis=1) \n",
    "\n",
    "prod_df=prod_df.stack().reset_index().rename(columns={'level_0':'Model', 'level_1':'date', 0:'Count'})\n",
    "prod_df['Count']=prod_df['Count'].apply(pd.to_numeric)\n",
    "\n",
    "print(prod_df.head(10))"
   ]
  },
  {
   "cell_type": "code",
   "execution_count": 156,
   "metadata": {},
   "outputs": [],
   "source": [
    "prod_df=prod_df[prod_df['Count']!=0]\n",
    "\n",
    "prod_df.to_sql('production_ru', con=conn, if_exists='replace', index=False)"
   ]
  },
  {
   "cell_type": "code",
   "execution_count": 159,
   "metadata": {},
   "outputs": [
    {
     "name": "stdout",
     "output_type": "stream",
     "text": [
      "     Model      date  Count\n",
      "3744  Opel  Jan-2010    576\n",
      "3745  Opel  Feb-2010    252\n",
      "3746  Opel  Mar-2010    837\n",
      "3747  Opel  Apr-2010   1212\n",
      "3748  Opel  May-2010   1393\n",
      "3749  Opel  Jun-2010   1816\n",
      "3750  Opel  Jul-2010   2404\n",
      "3751  Opel  Aug-2010   2671\n",
      "3752  Opel  Sep-2010   2841\n",
      "3753  Opel  Oct-2010   2520\n",
      "3754  Opel  Nov-2010   2401\n",
      "3755  Opel  Dec-2010   2970\n",
      "3756  Opel  Jan-2011   1656\n",
      "3757  Opel  Feb-2011   2235\n",
      "3758  Opel  Mar-2011   2547\n",
      "3759  Opel  Apr-2011   2520\n",
      "3760  Opel  May-2011   2379\n",
      "3761  Opel  Jun-2011   2600\n",
      "3762  Opel  Jul-2011   2616\n",
      "3763  Opel  Aug-2011   3028\n",
      "3764  Opel  Sep-2011   3800\n",
      "3765  Opel  Oct-2011   4228\n",
      "3766  Opel  Nov-2011   3619\n",
      "3767  Opel  Dec-2011   3500\n",
      "3768  Opel  Jan-2012   2103\n",
      "3769  Opel  Feb-2012   6463\n",
      "3770  Opel  Mar-2012   5790\n",
      "3771  Opel  Apr-2012   4803\n",
      "3772  Opel  May-2012   4460\n",
      "3773  Opel  Jun-2012   4623\n",
      "...    ...       ...    ...\n",
      "3776  Opel  Sep-2012   4017\n",
      "3777  Opel  Oct-2012   4983\n",
      "3778  Opel  Nov-2012   5476\n",
      "3779  Opel  Dec-2012   6309\n",
      "3780  Opel  Jan-2013   4359\n",
      "3781  Opel  Feb-2013   3350\n",
      "3782  Opel  Mar-2013   3199\n",
      "3783  Opel  Apr-2013   4887\n",
      "3784  Opel  May-2013   4165\n",
      "3785  Opel  Jun-2013   3976\n",
      "3786  Opel  Jul-2013   4494\n",
      "3787  Opel  Aug-2013   5033\n",
      "3788  Opel  Sep-2013   4310\n",
      "3789  Opel  Oct-2013   4723\n",
      "3790  Opel  Nov-2013   8722\n",
      "3791  Opel  Dec-2013   9301\n",
      "3792  Opel  Jan-2014   4037\n",
      "3793  Opel  Feb-2014   4754\n",
      "3794  Opel  Mar-2014   6240\n",
      "3795  Opel  Apr-2014   4800\n",
      "3796  Opel  May-2014   4965\n",
      "3797  Opel  Jun-2014   4805\n",
      "3798  Opel  Jul-2014   4090\n",
      "3799  Opel  Aug-2014   3856\n",
      "3800  Opel  Sep-2014   2581\n",
      "3801  Opel  Oct-2014   2001\n",
      "3802  Opel  Nov-2014    743\n",
      "3803  Opel  Dec-2014   1095\n",
      "3805  Opel  Feb-2015   1103\n",
      "3806  Opel  Mar-2015     11\n",
      "\n",
      "[62 rows x 3 columns]\n"
     ]
    }
   ],
   "source": [
    "print(prod_df[prod_df['Model']=='Opel'])"
   ]
  },
  {
   "cell_type": "code",
   "execution_count": null,
   "metadata": {},
   "outputs": [],
   "source": []
  }
 ],
 "metadata": {
  "kernelspec": {
   "display_name": "Python 3",
   "language": "python",
   "name": "python3"
  },
  "language_info": {
   "codemirror_mode": {
    "name": "ipython",
    "version": 3
   },
   "file_extension": ".py",
   "mimetype": "text/x-python",
   "name": "python",
   "nbconvert_exporter": "python",
   "pygments_lexer": "ipython3",
   "version": "3.6.4"
  }
 },
 "nbformat": 4,
 "nbformat_minor": 2
}
