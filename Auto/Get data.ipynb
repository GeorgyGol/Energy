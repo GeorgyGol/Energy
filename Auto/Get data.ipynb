{
 "cells": [
  {
   "cell_type": "markdown",
   "metadata": {},
   "source": [
    "# Read WWW for various car data\n",
    "and create lqlite3 database"
   ]
  },
  {
   "cell_type": "code",
   "execution_count": 1,
   "metadata": {},
   "outputs": [],
   "source": [
    "import pandas as pd\n",
    "from bs4 import BeautifulSoup\n",
    "import requests\n",
    "import sqlite3\n",
    "import re\n",
    "from datetime import datetime, timedelta\n",
    "from collections import OrderedDict\n",
    "import time\n",
    "\n",
    "import sqlalchemy as sa\n",
    "\n",
    "\n",
    "strCarSalesQ=r'https://auto.vercity.ru/statistics/sales/europe/{year}/{country}/01-12/'\n",
    "strCarProdsQ=r'https://auto.vercity.ru/statistics/production/europe/{year}/{country}/01-12/'\n",
    "\n",
    "#conn=sqlite3.connect('cars.sqlite3') #connect or create database\n",
    "eng_co=sa.create_engine('sqlite+pysqlite:///cars.sqlite3') #, echo=True)"
   ]
  },
  {
   "cell_type": "code",
   "execution_count": 2,
   "metadata": {},
   "outputs": [],
   "source": [
    "class CarDataFrame(pd.DataFrame):\n",
    "\n",
    "    @property\n",
    "    def _constructor(self):\n",
    "        return CarDataFrame\n",
    "\n",
    "    def to_datetime(self, strField='date', format='%b-%Y'):\n",
    "        self[strField]=pd.to_datetime(self[strField], format=format)\n",
    "        return self\n",
    "    \n",
    "    def to_sql(self, name, con, flavor='sqlite', schema=None, if_exists='fail', index=True,\n",
    "               index_label=None, chunksize=10, dtype=None):\n",
    "\n",
    "        def drop_table(strTName):\n",
    "            meta=sa.MetaData(bind=con)\n",
    "            try:\n",
    "                tbl_=sa.Table(strTName, meta, autoload=True, autoload_with=con)\n",
    "                tbl_.drop(con, checkfirst=False)\n",
    "            except:\n",
    "                pass\n",
    "        \n",
    "        def create_table(strTName, strDateName='date', strModelName='Model', strCountName='Count'):\n",
    "            metadata=sa.MetaData(bind=con)\n",
    "            bname_t=sa.Table(strTName, metadata,\n",
    "                        sa.Column(strDateName, sa.String, primary_key=True, nullable=False, autoincrement=False),\n",
    "                        sa.Column(strModelName, sa.String, primary_key=True, nullable=False, autoincrement=False),\n",
    "                        sa.Column(strCountName, sa.Float, primary_key=False, nullable=False, autoincrement=False))\n",
    "            metadata.create_all()\n",
    "\n",
    "        def buff_insert(alch_table, insert_prefix, values, buff_size=chunksize):\n",
    "            def iterate_group(iterator, count):\n",
    "                itr=iter(iterator)\n",
    "                for i in range(0, len(iterator), count):\n",
    "                    yield iterator[i:i+count]\n",
    "        \n",
    "            for i in iterate_group(values, buff_size):\n",
    "                \n",
    "                inserter = alch_table.insert(prefixes=insert_prefix, values=i)\n",
    "                con.execute(inserter)\n",
    "             \n",
    "        if if_exists=='replace':\n",
    "            drop_table(name)\n",
    "            if_exists='fail'\n",
    "        \n",
    "        if not con.dialect.has_table(con, name):\n",
    "            create_table(name)\n",
    "            \n",
    "        meta=sa.MetaData(bind=con)\n",
    "        tbl_names=sa.Table(name, meta, autoload=True, autoload_with=con)\n",
    "        vals=self.to_dict(orient='records')\n",
    "\n",
    "        inserter=None\n",
    "\n",
    "        if flavor == 'mysql':\n",
    "            if if_exists in ['append', 'ignore']:\n",
    "                inserter = tbl_names.insert(prefixes=['IGNORE'], values=vals)\n",
    "            elif if_exists in ['update', 'upsert']:\n",
    "                ins_state = sa.dialects.mysql.insert(tbl_names).values(vals)\n",
    "                inserter = ins_state.on_duplicate_key_update(Date=ins_state.inserted.Date)\n",
    "            elif if_exists=='fail':\n",
    "                inserter = tbl_names.insert(values=vals)\n",
    "            con.execute(inserter)\n",
    "                \n",
    "        if flavor == 'sqlite':\n",
    "            if if_exists in ['append', 'ignore']:\n",
    "                #inserter = tbl_names.insert(prefixes=['OR IGNORE'], values=vals)\n",
    "                buff_insert(tbl_names, ['OR IGNORE'], vals, buff_size=chunksize)\n",
    "            elif if_exists in ['update', 'upsert']:\n",
    "                buff_insert(tbl_names, ['OR REPLACE'], vals, buff_size=chunksize)\n",
    "                #inserter = tbl_names.insert(prefixes=['OR REPLACE'], values=vals)\n",
    "            elif if_exists=='fail':\n",
    "                buff_insert(tbl_names, None, vals, buff_size=chunksize)\n",
    "        \n"
   ]
  },
  {
   "cell_type": "code",
   "execution_count": 3,
   "metadata": {},
   "outputs": [],
   "source": [
    "startYear=2010\n",
    "endYear=datetime.now().year+1\n",
    "\n",
    "update_behaviour='upsert'\n",
    "\n",
    "def get_date_list(iYear):\n",
    "        dates=['{0}-01-01'.format(iYear), '{0}-01-01'.format(iYear+1)]\n",
    "        start, end=[datetime.strptime(_, '%Y-%m-%d') for _ in dates]\n",
    "        od=OrderedDict(((start+timedelta(_)).strftime(r'%b-%Y'), None) for _ in range((end-start).days))\n",
    "        return list(od.keys())\n",
    "\n",
    "def GetYearsSalesData(curYear, strSource=strCarSalesQ, country='russia'):\n",
    "    print('Reading from ', strSource.format(year=curYear, country=country), end=' ... ')\n",
    "    \n",
    "    r=requests.get(strSource.format(year=curYear, country=country))\n",
    "    soup=BeautifulSoup(r.text, 'html.parser')\n",
    "    \n",
    "    lstHeads=['Model']+get_date_list(curYear)\n",
    "    pdf=pd.DataFrame(columns=lstHeads)\n",
    "    #print(pdf)\n",
    "\n",
    "    lstVals=[]\n",
    "    lstI=[1]+list(range(3, 15)) #+ [16] \n",
    "\n",
    "    for dv in soup.findAll('div', class_='pages_table-scrollable'):\n",
    "        t=dv.table\n",
    "        for tr in t.find_all('tr'):\n",
    "            th=tr.find_all('th')\n",
    "            if len(th)==0:\n",
    "                tds=tr.find_all('td')\n",
    "                if re.sub('\\s', '', tds[1].text) =='N/A':\n",
    "                    break\n",
    "                lstVals=[re.sub('\\s', '', c.text) for i, c in enumerate(tds) if i in lstI]\n",
    "                pdf=pdf.append(pd.Series(lstVals, index=lstHeads), ignore_index=True)\n",
    "    time.sleep(3)\n",
    "    print('Year {year}, country {country}, reading {items} items'.format(year=curYear, country=country, items=pdf.shape))\n",
    "    return pdf.set_index('Model')\n",
    "\n",
    "#print(GetYearsSalesData(2010).stack())\n",
    "\n",
    "\n",
    "def crawldata(strURL, start_year=startYear, end_year=endYear, country='russia'):\n",
    "    sales_df=pd.concat([GetYearsSalesData(Y, strSource=strURL, country=country) for Y in range(start_year, end_year)], axis=1) \n",
    "\n",
    "    sales_df=sales_df.stack().reset_index().rename(columns={'level_0':'Model', 'level_1':'date', 0:'Count'})\n",
    "    sales_df['Count']=sales_df['Count'].apply(pd.to_numeric)\n",
    "\n",
    "    sales_df['date']=pd.to_datetime(sales_df['date'], format='%b-%Y')\n",
    "    sales_df=sales_df.sort_values(by='date', inplace=False, ascending=True)\n",
    "    sales_df['date']=sales_df['date'].dt.strftime('%b-%Y')\n",
    "    \n",
    "    return CarDataFrame(sales_df[sales_df['Count']!=0])"
   ]
  },
  {
   "cell_type": "markdown",
   "metadata": {},
   "source": [
    "## 1. Car sales (https://auto.vercity.ru/statistics/sales/)\n",
    "###  For Russia\n",
    "\n",
    "https://auto.vercity.ru/statistics/sales/europe/2010/russia/01-12/"
   ]
  },
  {
   "cell_type": "code",
   "execution_count": 4,
   "metadata": {},
   "outputs": [
    {
     "name": "stdout",
     "output_type": "stream",
     "text": [
      "Reading from  https://auto.vercity.ru/statistics/sales/europe/2010/russia/01-12/ ... Year 2010, country russia, reading (53, 13) items\n",
      "Reading from  https://auto.vercity.ru/statistics/sales/europe/2011/russia/01-12/ ... Year 2011, country russia, reading (50, 13) items\n",
      "Reading from  https://auto.vercity.ru/statistics/sales/europe/2012/russia/01-12/ ... Year 2012, country russia, reading (54, 13) items\n",
      "Reading from  https://auto.vercity.ru/statistics/sales/europe/2013/russia/01-12/ ... Year 2013, country russia, reading (55, 13) items\n",
      "Reading from  https://auto.vercity.ru/statistics/sales/europe/2014/russia/01-12/ ... Year 2014, country russia, reading (60, 13) items\n",
      "Reading from  https://auto.vercity.ru/statistics/sales/europe/2015/russia/01-12/ ... Year 2015, country russia, reading (55, 13) items\n",
      "Reading from  https://auto.vercity.ru/statistics/sales/europe/2016/russia/01-12/ ... Year 2016, country russia, reading (55, 13) items\n",
      "Reading from  https://auto.vercity.ru/statistics/sales/europe/2017/russia/01-12/ ... Year 2017, country russia, reading (54, 13) items\n",
      "Reading from  https://auto.vercity.ru/statistics/sales/europe/2018/russia/01-12/ ... Year 2018, country russia, reading (53, 13) items\n"
     ]
    },
    {
     "name": "stderr",
     "output_type": "stream",
     "text": [
      "/home/egor/anaconda3/lib/python3.6/site-packages/ipykernel_launcher.py:43: FutureWarning: Sorting because non-concatenation axis is not aligned. A future version\n",
      "of pandas will change to not sort by default.\n",
      "\n",
      "To accept the future behavior, pass 'sort=False'.\n",
      "\n",
      "To retain the current behavior and silence the warning, pass 'sort=True'.\n",
      "\n"
     ]
    },
    {
     "name": "stdout",
     "output_type": "stream",
     "text": [
      "              Model      date  Count\n",
      "2241          Honda  Oct-2018    489\n",
      "3645  Mercedes-Benz  Oct-2018   3936\n",
      "489      Brilliance  Oct-2018     14\n",
      "2133         Hawtai  Oct-2018     16\n",
      "4677          Smart  Oct-2018     24\n",
      "2625          Iveco  Oct-2018     32\n",
      "1365       DongFeng  Oct-2018    151\n",
      "1089        Citroen  Oct-2018    251\n",
      "2109          Haval  Oct-2018    358\n",
      "3297          Lexus  Oct-2018   1742\n",
      "1785          Foton  Oct-2018     33\n",
      "5109         Toyota  Oct-2018   8424\n"
     ]
    }
   ],
   "source": [
    "sales_ru=crawldata(strCarSalesQ)\n",
    "\n",
    "sales_ru.to_sql('sales_ru', con=eng_co, if_exists=update_behaviour, index=False)\n",
    "\n",
    "print(sales_ru.tail(12))\n"
   ]
  },
  {
   "cell_type": "markdown",
   "metadata": {},
   "source": [
    "### For Ukraine - https://auto.vercity.ru/statistics/sales/europe/2018/ukraine/"
   ]
  },
  {
   "cell_type": "code",
   "execution_count": 5,
   "metadata": {},
   "outputs": [
    {
     "name": "stdout",
     "output_type": "stream",
     "text": [
      "Reading from  https://auto.vercity.ru/statistics/sales/europe/2010/ukraine/01-12/ ... Year 2010, country ukraine, reading (0, 13) items\n",
      "Reading from  https://auto.vercity.ru/statistics/sales/europe/2011/ukraine/01-12/ ... Year 2011, country ukraine, reading (35, 13) items\n",
      "Reading from  https://auto.vercity.ru/statistics/sales/europe/2012/ukraine/01-12/ ... Year 2012, country ukraine, reading (34, 13) items\n",
      "Reading from  https://auto.vercity.ru/statistics/sales/europe/2013/ukraine/01-12/ ... Year 2013, country ukraine, reading (22, 13) items\n",
      "Reading from  https://auto.vercity.ru/statistics/sales/europe/2014/ukraine/01-12/ ... Year 2014, country ukraine, reading (25, 13) items\n",
      "Reading from  https://auto.vercity.ru/statistics/sales/europe/2015/ukraine/01-12/ ... Year 2015, country ukraine, reading (27, 13) items\n",
      "Reading from  https://auto.vercity.ru/statistics/sales/europe/2016/ukraine/01-12/ ... Year 2016, country ukraine, reading (30, 13) items\n",
      "Reading from  https://auto.vercity.ru/statistics/sales/europe/2017/ukraine/01-12/ ... Year 2017, country ukraine, reading (26, 13) items\n",
      "Reading from  https://auto.vercity.ru/statistics/sales/europe/2018/ukraine/01-12/ ... Year 2018, country ukraine, reading (23, 13) items\n"
     ]
    },
    {
     "name": "stderr",
     "output_type": "stream",
     "text": [
      "/home/egor/anaconda3/lib/python3.6/site-packages/ipykernel_launcher.py:43: FutureWarning: Sorting because non-concatenation axis is not aligned. A future version\n",
      "of pandas will change to not sort by default.\n",
      "\n",
      "To accept the future behavior, pass 'sort=False'.\n",
      "\n",
      "To retain the current behavior and silence the warning, pass 'sort=True'.\n",
      "\n"
     ]
    },
    {
     "name": "stdout",
     "output_type": "stream",
     "text": [
      "              Model      date  Count\n",
      "1148      LandRover  Sep-2018     48\n",
      "1496     Mitsubishi  Sep-2018    234\n",
      "2216         Suzuki  Sep-2018    257\n",
      "524            Fiat  Sep-2018    102\n",
      "1784        Peugeot  Sep-2018    198\n",
      "908         Hyundai  Sep-2018    407\n",
      "1820        Porsche  Sep-2018     44\n",
      "1040            Kia  Sep-2018    436\n",
      "1688           Opel  Sep-2018     15\n",
      "620            Ford  Sep-2018    224\n",
      "2408     Volkswagen  Sep-2018    501\n",
      "1364  Mercedes-Benz  Sep-2018    231\n"
     ]
    }
   ],
   "source": [
    "sales_ukraine=crawldata(strCarSalesQ, country='ukraine')\n",
    "\n",
    "sales_ukraine.to_sql('sales_ukraine', con=eng_co, if_exists=update_behaviour, index=False)\n",
    "\n",
    "print(sales_ukraine.tail(12))"
   ]
  },
  {
   "cell_type": "markdown",
   "metadata": {},
   "source": [
    "### Poland - https://auto.vercity.ru/statistics/sales/europe/2018/poland/"
   ]
  },
  {
   "cell_type": "code",
   "execution_count": 6,
   "metadata": {},
   "outputs": [
    {
     "name": "stdout",
     "output_type": "stream",
     "text": [
      "Reading from  https://auto.vercity.ru/statistics/sales/europe/2010/poland/01-12/ ... Year 2010, country poland, reading (43, 13) items\n",
      "Reading from  https://auto.vercity.ru/statistics/sales/europe/2011/poland/01-12/ ... Year 2011, country poland, reading (45, 13) items\n",
      "Reading from  https://auto.vercity.ru/statistics/sales/europe/2012/poland/01-12/ ... Year 2012, country poland, reading (53, 13) items\n",
      "Reading from  https://auto.vercity.ru/statistics/sales/europe/2013/poland/01-12/ ... Year 2013, country poland, reading (51, 13) items\n",
      "Reading from  https://auto.vercity.ru/statistics/sales/europe/2014/poland/01-12/ ... Year 2014, country poland, reading (48, 13) items\n",
      "Reading from  https://auto.vercity.ru/statistics/sales/europe/2015/poland/01-12/ ... Year 2015, country poland, reading (51, 13) items\n",
      "Reading from  https://auto.vercity.ru/statistics/sales/europe/2016/poland/01-12/ ... Year 2016, country poland, reading (50, 13) items\n",
      "Reading from  https://auto.vercity.ru/statistics/sales/europe/2017/poland/01-12/ ... Year 2017, country poland, reading (52, 13) items\n",
      "Reading from  https://auto.vercity.ru/statistics/sales/europe/2018/poland/01-12/ ... Year 2018, country poland, reading (54, 13) items\n"
     ]
    },
    {
     "name": "stderr",
     "output_type": "stream",
     "text": [
      "/home/egor/anaconda3/lib/python3.6/site-packages/ipykernel_launcher.py:43: FutureWarning: Sorting because non-concatenation axis is not aligned. A future version\n",
      "of pandas will change to not sort by default.\n",
      "\n",
      "To accept the future behavior, pass 'sort=False'.\n",
      "\n",
      "To retain the current behavior and silence the warning, pass 'sort=True'.\n",
      "\n"
     ]
    },
    {
     "name": "stdout",
     "output_type": "stream",
     "text": [
      "            Model      date  Count\n",
      "537           BMW  Oct-2018   1691\n",
      "2085       Jaguar  Oct-2018     91\n",
      "3117        Mazda  Oct-2018   1168\n",
      "801     Chevrolet  Oct-2018      1\n",
      "1701        Honda  Oct-2018    584\n",
      "4425        Skoda  Oct-2018   5834\n",
      "4149  Rolls-Royce  Oct-2018      1\n",
      "4845       Suzuki  Oct-2018    839\n",
      "3633       Nissan  Oct-2018    710\n",
      "1581         Ford  Oct-2018   2422\n",
      "3009     Maserati  Oct-2018      8\n",
      "4065      Renault  Oct-2018   1415\n"
     ]
    }
   ],
   "source": [
    "sales_poland=crawldata(strCarSalesQ, country='poland')\n",
    "\n",
    "sales_poland.to_sql('sales_ploand', con=eng_co, if_exists=update_behaviour, index=False)\n",
    "\n",
    "print(sales_poland.tail(12))"
   ]
  },
  {
   "cell_type": "markdown",
   "metadata": {},
   "source": [
    "### Belarus - https://auto.vercity.ru/statistics/sales/europe/2018/belarus/"
   ]
  },
  {
   "cell_type": "code",
   "execution_count": 7,
   "metadata": {},
   "outputs": [
    {
     "name": "stdout",
     "output_type": "stream",
     "text": [
      "Reading from  https://auto.vercity.ru/statistics/sales/europe/2010/belarus/01-12/ ... Year 2010, country belarus, reading (2, 13) items\n",
      "Reading from  https://auto.vercity.ru/statistics/sales/europe/2011/belarus/01-12/ ... Year 2011, country belarus, reading (2, 13) items\n",
      "Reading from  https://auto.vercity.ru/statistics/sales/europe/2012/belarus/01-12/ ... Year 2012, country belarus, reading (4, 13) items\n",
      "Reading from  https://auto.vercity.ru/statistics/sales/europe/2013/belarus/01-12/ ... Year 2013, country belarus, reading (2, 13) items\n",
      "Reading from  https://auto.vercity.ru/statistics/sales/europe/2014/belarus/01-12/ ... Year 2014, country belarus, reading (2, 13) items\n",
      "Reading from  https://auto.vercity.ru/statistics/sales/europe/2015/belarus/01-12/ ... Year 2015, country belarus, reading (2, 13) items\n",
      "Reading from  https://auto.vercity.ru/statistics/sales/europe/2016/belarus/01-12/ ... Year 2016, country belarus, reading (2, 13) items\n",
      "Reading from  https://auto.vercity.ru/statistics/sales/europe/2017/belarus/01-12/ ... Year 2017, country belarus, reading (2, 13) items\n",
      "Reading from  https://auto.vercity.ru/statistics/sales/europe/2018/belarus/01-12/ ... Year 2018, country belarus, reading (1, 13) items\n"
     ]
    },
    {
     "name": "stderr",
     "output_type": "stream",
     "text": [
      "/home/egor/anaconda3/lib/python3.6/site-packages/ipykernel_launcher.py:43: FutureWarning: Sorting because non-concatenation axis is not aligned. A future version\n",
      "of pandas will change to not sort by default.\n",
      "\n",
      "To accept the future behavior, pass 'sort=False'.\n",
      "\n",
      "To retain the current behavior and silence the warning, pass 'sort=True'.\n",
      "\n"
     ]
    },
    {
     "name": "stdout",
     "output_type": "stream",
     "text": [
      "    Model      date  Count\n",
      "213   МАЗ  Oct-2017    712\n",
      "214   МАЗ  Nov-2017    947\n",
      "215   МАЗ  Dec-2017   1074\n",
      "216   МАЗ  Jan-2018    569\n",
      "217   МАЗ  Feb-2018    528\n",
      "218   МАЗ  Mar-2018    974\n",
      "219   МАЗ  Apr-2018    579\n",
      "220   МАЗ  May-2018    768\n",
      "221   МАЗ  Jun-2018    967\n",
      "222   МАЗ  Jul-2018    636\n",
      "223   МАЗ  Aug-2018    775\n",
      "224   МАЗ  Sep-2018    845\n"
     ]
    }
   ],
   "source": [
    "sales_belarus=crawldata(strCarSalesQ, country='belarus')\n",
    "\n",
    "sales_belarus.to_sql('sales_belarus', con=eng_co, if_exists=update_behaviour, index=False)\n",
    "\n",
    "print(sales_belarus.tail(12))"
   ]
  },
  {
   "cell_type": "markdown",
   "metadata": {},
   "source": [
    "### Germany -https://auto.vercity.ru/statistics/sales/europe/2018/germany/"
   ]
  },
  {
   "cell_type": "code",
   "execution_count": 8,
   "metadata": {},
   "outputs": [
    {
     "name": "stdout",
     "output_type": "stream",
     "text": [
      "Reading from  https://auto.vercity.ru/statistics/sales/europe/2010/germany/01-12/ ... Year 2010, country germany, reading (51, 13) items\n",
      "Reading from  https://auto.vercity.ru/statistics/sales/europe/2011/germany/01-12/ ... Year 2011, country germany, reading (59, 13) items\n",
      "Reading from  https://auto.vercity.ru/statistics/sales/europe/2012/germany/01-12/ ... Year 2012, country germany, reading (58, 13) items\n",
      "Reading from  https://auto.vercity.ru/statistics/sales/europe/2013/germany/01-12/ ... Year 2013, country germany, reading (55, 13) items\n",
      "Reading from  https://auto.vercity.ru/statistics/sales/europe/2014/germany/01-12/ ... Year 2014, country germany, reading (63, 13) items\n",
      "Reading from  https://auto.vercity.ru/statistics/sales/europe/2015/germany/01-12/ ... Year 2015, country germany, reading (66, 13) items\n",
      "Reading from  https://auto.vercity.ru/statistics/sales/europe/2016/germany/01-12/ ... Year 2016, country germany, reading (62, 13) items\n",
      "Reading from  https://auto.vercity.ru/statistics/sales/europe/2017/germany/01-12/ ... Year 2017, country germany, reading (65, 13) items\n",
      "Reading from  https://auto.vercity.ru/statistics/sales/europe/2018/germany/01-12/ ... Year 2018, country germany, reading (63, 13) items\n"
     ]
    },
    {
     "name": "stderr",
     "output_type": "stream",
     "text": [
      "/home/egor/anaconda3/lib/python3.6/site-packages/ipykernel_launcher.py:43: FutureWarning: Sorting because non-concatenation axis is not aligned. A future version\n",
      "of pandas will change to not sort by default.\n",
      "\n",
      "To accept the future behavior, pass 'sort=False'.\n",
      "\n",
      "To retain the current behavior and silence the warning, pass 'sort=True'.\n",
      "\n"
     ]
    },
    {
     "name": "stdout",
     "output_type": "stream",
     "text": [
      "              Model      date  Count\n",
      "5577      SsangYong  Oct-2018    150\n",
      "6213            VDL  Oct-2018      7\n",
      "1653           Fiat  Oct-2018   5433\n",
      "5625  StreetScooter  Oct-2018    717\n",
      "501        Bergmann  Oct-2018      1\n",
      "5469        Solaris  Oct-2018     14\n",
      "5925          Temsa  Oct-2018      4\n",
      "741       Chevrolet  Oct-2018    123\n",
      "2205       Infiniti  Oct-2018     26\n",
      "4473        Peugeot  Oct-2018   6567\n",
      "1029            DAF  Oct-2018    139\n",
      "2637           Jeep  Oct-2018   1171\n"
     ]
    }
   ],
   "source": [
    "sales_germany=crawldata(strCarSalesQ, country='germany')\n",
    "\n",
    "sales_germany.to_sql('sales_germany', con=eng_co, if_exists=update_behaviour, index=False)\n",
    "\n",
    "print(sales_germany.tail(12))"
   ]
  },
  {
   "cell_type": "markdown",
   "metadata": {},
   "source": [
    "### France - https://auto.vercity.ru/statistics/sales/europe/2018/france/"
   ]
  },
  {
   "cell_type": "code",
   "execution_count": 9,
   "metadata": {},
   "outputs": [
    {
     "name": "stdout",
     "output_type": "stream",
     "text": [
      "Reading from  https://auto.vercity.ru/statistics/sales/europe/2010/france/01-12/ ... Year 2010, country france, reading (43, 13) items\n",
      "Reading from  https://auto.vercity.ru/statistics/sales/europe/2011/france/01-12/ ... Year 2011, country france, reading (55, 13) items\n",
      "Reading from  https://auto.vercity.ru/statistics/sales/europe/2012/france/01-12/ ... Year 2012, country france, reading (57, 13) items\n",
      "Reading from  https://auto.vercity.ru/statistics/sales/europe/2013/france/01-12/ ... Year 2013, country france, reading (57, 13) items\n",
      "Reading from  https://auto.vercity.ru/statistics/sales/europe/2014/france/01-12/ ... Year 2014, country france, reading (55, 13) items\n",
      "Reading from  https://auto.vercity.ru/statistics/sales/europe/2015/france/01-12/ ... Year 2015, country france, reading (62, 13) items\n",
      "Reading from  https://auto.vercity.ru/statistics/sales/europe/2016/france/01-12/ ... Year 2016, country france, reading (60, 13) items\n",
      "Reading from  https://auto.vercity.ru/statistics/sales/europe/2017/france/01-12/ ... Year 2017, country france, reading (60, 13) items\n",
      "Reading from  https://auto.vercity.ru/statistics/sales/europe/2018/france/01-12/ ... Year 2018, country france, reading (60, 13) items\n"
     ]
    },
    {
     "name": "stderr",
     "output_type": "stream",
     "text": [
      "/home/egor/anaconda3/lib/python3.6/site-packages/ipykernel_launcher.py:43: FutureWarning: Sorting because non-concatenation axis is not aligned. A future version\n",
      "of pandas will change to not sort by default.\n",
      "\n",
      "To accept the future behavior, pass 'sort=False'.\n",
      "\n",
      "To retain the current behavior and silence the warning, pass 'sort=True'.\n",
      "\n"
     ]
    },
    {
     "name": "stdout",
     "output_type": "stream",
     "text": [
      "           Model      date  Count\n",
      "3057    Liebherr  Oct-2018     10\n",
      "3957        Opel  Oct-2018   7083\n",
      "393          BMW  Oct-2018   5106\n",
      "4005      Otokar  Oct-2018      9\n",
      "2121       Isuzu  Oct-2018    176\n",
      "4113     Peugeot  Oct-2018  41888\n",
      "2229       Iveco  Oct-2018   2022\n",
      "993          DAF  Oct-2018    786\n",
      "2913   LandRover  Oct-2018    317\n",
      "3009       Lexus  Oct-2018    486\n",
      "285         Audi  Oct-2018   2754\n",
      "5949  Volkswagen  Oct-2018  11788\n"
     ]
    }
   ],
   "source": [
    "sales_france=crawldata(strCarSalesQ, country='france')\n",
    "\n",
    "sales_france.to_sql('sales_france', con=eng_co, if_exists=update_behaviour, index=False)\n",
    "\n",
    "print(sales_france.tail(12))"
   ]
  },
  {
   "cell_type": "markdown",
   "metadata": {},
   "source": [
    "### United Kingdom - https://auto.vercity.ru/statistics/sales/europe/2018/united_kingdom/"
   ]
  },
  {
   "cell_type": "code",
   "execution_count": 10,
   "metadata": {},
   "outputs": [
    {
     "name": "stdout",
     "output_type": "stream",
     "text": [
      "Reading from  https://auto.vercity.ru/statistics/sales/europe/2010/united_kingdom/01-12/ ... Year 2010, country united_kingdom, reading (54, 13) items\n",
      "Reading from  https://auto.vercity.ru/statistics/sales/europe/2011/united_kingdom/01-12/ ... Year 2011, country united_kingdom, reading (55, 13) items\n",
      "Reading from  https://auto.vercity.ru/statistics/sales/europe/2012/united_kingdom/01-12/ ... Year 2012, country united_kingdom, reading (54, 13) items\n",
      "Reading from  https://auto.vercity.ru/statistics/sales/europe/2013/united_kingdom/01-12/ ... Year 2013, country united_kingdom, reading (57, 13) items\n",
      "Reading from  https://auto.vercity.ru/statistics/sales/europe/2014/united_kingdom/01-12/ ... Year 2014, country united_kingdom, reading (61, 13) items\n",
      "Reading from  https://auto.vercity.ru/statistics/sales/europe/2015/united_kingdom/01-12/ ... Year 2015, country united_kingdom, reading (65, 13) items\n",
      "Reading from  https://auto.vercity.ru/statistics/sales/europe/2016/united_kingdom/01-12/ ... Year 2016, country united_kingdom, reading (46, 13) items\n",
      "Reading from  https://auto.vercity.ru/statistics/sales/europe/2017/united_kingdom/01-12/ ... Year 2017, country united_kingdom, reading (50, 13) items\n",
      "Reading from  https://auto.vercity.ru/statistics/sales/europe/2018/united_kingdom/01-12/ ... Year 2018, country united_kingdom, reading (52, 13) items\n"
     ]
    },
    {
     "name": "stderr",
     "output_type": "stream",
     "text": [
      "/home/egor/anaconda3/lib/python3.6/site-packages/ipykernel_launcher.py:43: FutureWarning: Sorting because non-concatenation axis is not aligned. A future version\n",
      "of pandas will change to not sort by default.\n",
      "\n",
      "To accept the future behavior, pass 'sort=False'.\n",
      "\n",
      "To retain the current behavior and silence the warning, pass 'sort=True'.\n",
      "\n"
     ]
    },
    {
     "name": "stdout",
     "output_type": "stream",
     "text": [
      "           Model      date  Count\n",
      "2901   LandRover  Oct-2018   7071\n",
      "3681  Mitsubishi  Oct-2018   2536\n",
      "5865       Volvo  Oct-2018   4538\n",
      "4833       Skoda  Oct-2018   5094\n",
      "681    Chevrolet  Oct-2018      1\n",
      "189       Alpine  Oct-2018      3\n",
      "345         Audi  Oct-2018   6208\n",
      "3861      Nissan  Oct-2018   7402\n",
      "2553         Kia  Oct-2018   6312\n",
      "2445        Jeep  Oct-2018    376\n",
      "3009       Lexus  Oct-2018    674\n",
      "3885        Opel  Oct-2018   1657\n"
     ]
    }
   ],
   "source": [
    "sales_uk=crawldata(strCarSalesQ, country='united_kingdom')\n",
    "\n",
    "sales_uk.to_sql('sales_uk', con=eng_co, if_exists=update_behaviour, index=False)\n",
    "\n",
    "print(sales_uk.tail(12))"
   ]
  },
  {
   "cell_type": "markdown",
   "metadata": {},
   "source": [
    "### China - https://auto.vercity.ru/statistics/sales/asia/2018/china/"
   ]
  },
  {
   "cell_type": "code",
   "execution_count": 11,
   "metadata": {},
   "outputs": [
    {
     "name": "stdout",
     "output_type": "stream",
     "text": [
      "Reading from  https://auto.vercity.ru/statistics/sales/europe/2010/china/01-12/ ... Year 2010, country china, reading (83, 13) items\n",
      "Reading from  https://auto.vercity.ru/statistics/sales/europe/2011/china/01-12/ ... Year 2011, country china, reading (87, 13) items\n",
      "Reading from  https://auto.vercity.ru/statistics/sales/europe/2012/china/01-12/ ... Year 2012, country china, reading (88, 13) items\n",
      "Reading from  https://auto.vercity.ru/statistics/sales/europe/2013/china/01-12/ ... Year 2013, country china, reading (90, 13) items\n",
      "Reading from  https://auto.vercity.ru/statistics/sales/europe/2014/china/01-12/ ... Year 2014, country china, reading (96, 13) items\n",
      "Reading from  https://auto.vercity.ru/statistics/sales/europe/2015/china/01-12/ ... Year 2015, country china, reading (100, 13) items\n",
      "Reading from  https://auto.vercity.ru/statistics/sales/europe/2016/china/01-12/ ... Year 2016, country china, reading (107, 13) items\n",
      "Reading from  https://auto.vercity.ru/statistics/sales/europe/2017/china/01-12/ ... Year 2017, country china, reading (106, 13) items\n",
      "Reading from  https://auto.vercity.ru/statistics/sales/europe/2018/china/01-12/ ... Year 2018, country china, reading (110, 13) items\n"
     ]
    },
    {
     "name": "stderr",
     "output_type": "stream",
     "text": [
      "/home/egor/anaconda3/lib/python3.6/site-packages/ipykernel_launcher.py:43: FutureWarning: Sorting because non-concatenation axis is not aligned. A future version\n",
      "of pandas will change to not sort by default.\n",
      "\n",
      "To accept the future behavior, pass 'sort=False'.\n",
      "\n",
      "To retain the current behavior and silence the warning, pass 'sort=True'.\n",
      "\n"
     ]
    },
    {
     "name": "stdout",
     "output_type": "stream",
     "text": [
      "         Model      date  Count\n",
      "6585     Lifan  Oct-2018   3461\n",
      "2961       FAW  Oct-2018  32902\n",
      "8649   Soueast  Oct-2018   5698\n",
      "3585   Gleagle  Oct-2018    811\n",
      "2349    Daewoo  Oct-2018     36\n",
      "5877      KAMA  Oct-2018   3187\n",
      "5985     Karry  Oct-2018   2697\n",
      "5229     Isuzu  Oct-2018   3013\n",
      "8949     Traum  Oct-2018   2153\n",
      "741     BeiBen  Oct-2018    127\n",
      "8313   Shaanxi  Oct-2018  12270\n",
      "10029   Yutong  Oct-2018   4677\n"
     ]
    }
   ],
   "source": [
    "sales_china=crawldata(strCarSalesQ, country='china')\n",
    "\n",
    "sales_china.to_sql('sales_china', con=eng_co, if_exists=update_behaviour, index=False)\n",
    "\n",
    "print(sales_china.tail(12))"
   ]
  },
  {
   "cell_type": "markdown",
   "metadata": {},
   "source": [
    "### Japan - https://auto.vercity.ru/statistics/sales/asia/2018/japan/"
   ]
  },
  {
   "cell_type": "code",
   "execution_count": 12,
   "metadata": {},
   "outputs": [
    {
     "name": "stdout",
     "output_type": "stream",
     "text": [
      "Reading from  https://auto.vercity.ru/statistics/sales/europe/2010/japan/01-12/ ... Year 2010, country japan, reading (58, 13) items\n",
      "Reading from  https://auto.vercity.ru/statistics/sales/europe/2011/japan/01-12/ ... Year 2011, country japan, reading (58, 13) items\n",
      "Reading from  https://auto.vercity.ru/statistics/sales/europe/2012/japan/01-12/ ... Year 2012, country japan, reading (61, 13) items\n",
      "Reading from  https://auto.vercity.ru/statistics/sales/europe/2013/japan/01-12/ ... Year 2013, country japan, reading (59, 13) items\n",
      "Reading from  https://auto.vercity.ru/statistics/sales/europe/2014/japan/01-12/ ... Year 2014, country japan, reading (62, 13) items\n",
      "Reading from  https://auto.vercity.ru/statistics/sales/europe/2015/japan/01-12/ ... Year 2015, country japan, reading (61, 13) items\n",
      "Reading from  https://auto.vercity.ru/statistics/sales/europe/2016/japan/01-12/ ... Year 2016, country japan, reading (59, 13) items\n",
      "Reading from  https://auto.vercity.ru/statistics/sales/europe/2017/japan/01-12/ ... Year 2017, country japan, reading (59, 13) items\n",
      "Reading from  https://auto.vercity.ru/statistics/sales/europe/2018/japan/01-12/ ... Year 2018, country japan, reading (59, 13) items\n"
     ]
    },
    {
     "name": "stderr",
     "output_type": "stream",
     "text": [
      "/home/egor/anaconda3/lib/python3.6/site-packages/ipykernel_launcher.py:43: FutureWarning: Sorting because non-concatenation axis is not aligned. A future version\n",
      "of pandas will change to not sort by default.\n",
      "\n",
      "To accept the future behavior, pass 'sort=False'.\n",
      "\n",
      "To retain the current behavior and silence the warning, pass 'sort=True'.\n",
      "\n"
     ]
    },
    {
     "name": "stdout",
     "output_type": "stream",
     "text": [
      "          Model      date  Count\n",
      "2961       Jeep  Oct-2018    803\n",
      "2421      Honda  Oct-2018  63844\n",
      "4293    Minerva  Oct-2018   1706\n",
      "3249     Lancia  Oct-2018      1\n",
      "3573      Lotus  Oct-2018     13\n",
      "1665   DeTomaso  Oct-2018      1\n",
      "5865     Subaru  Oct-2018  12841\n",
      "2637    Hyundai  Oct-2018      2\n",
      "1149  Chevrolet  Oct-2018     66\n",
      "1569   Daihatsu  Oct-2018  56431\n",
      "3465      Lexus  Oct-2018   3770\n",
      "3357  LandRover  Oct-2018    183\n"
     ]
    }
   ],
   "source": [
    "sales_japan=crawldata(strCarSalesQ, country='japan')\n",
    "\n",
    "sales_japan.to_sql('sales_japan', con=eng_co, if_exists=update_behaviour, index=False)\n",
    "\n",
    "print(sales_japan.tail(12))"
   ]
  },
  {
   "cell_type": "markdown",
   "metadata": {},
   "source": [
    "### USA - https://auto.vercity.ru/statistics/sales/north_america/2018/united_states/"
   ]
  },
  {
   "cell_type": "code",
   "execution_count": 13,
   "metadata": {},
   "outputs": [
    {
     "name": "stdout",
     "output_type": "stream",
     "text": [
      "Reading from  https://auto.vercity.ru/statistics/sales/europe/2010/united_states/01-12/ ... Year 2010, country united_states, reading (49, 13) items\n",
      "Reading from  https://auto.vercity.ru/statistics/sales/europe/2011/united_states/01-12/ ... Year 2011, country united_states, reading (47, 13) items\n",
      "Reading from  https://auto.vercity.ru/statistics/sales/europe/2012/united_states/01-12/ ... Year 2012, country united_states, reading (44, 13) items\n",
      "Reading from  https://auto.vercity.ru/statistics/sales/europe/2013/united_states/01-12/ ... Year 2013, country united_states, reading (44, 13) items\n",
      "Reading from  https://auto.vercity.ru/statistics/sales/europe/2014/united_states/01-12/ ... Year 2014, country united_states, reading (43, 13) items\n",
      "Reading from  https://auto.vercity.ru/statistics/sales/europe/2015/united_states/01-12/ ... Year 2015, country united_states, reading (51, 13) items\n",
      "Reading from  https://auto.vercity.ru/statistics/sales/europe/2016/united_states/01-12/ ... Year 2016, country united_states, reading (52, 13) items\n",
      "Reading from  https://auto.vercity.ru/statistics/sales/europe/2017/united_states/01-12/ ... Year 2017, country united_states, reading (52, 13) items\n",
      "Reading from  https://auto.vercity.ru/statistics/sales/europe/2018/united_states/01-12/ ... Year 2018, country united_states, reading (52, 13) items\n"
     ]
    },
    {
     "name": "stderr",
     "output_type": "stream",
     "text": [
      "/home/egor/anaconda3/lib/python3.6/site-packages/ipykernel_launcher.py:43: FutureWarning: Sorting because non-concatenation axis is not aligned. A future version\n",
      "of pandas will change to not sort by default.\n",
      "\n",
      "To accept the future behavior, pass 'sort=False'.\n",
      "\n",
      "To retain the current behavior and silence the warning, pass 'sort=True'.\n",
      "\n"
     ]
    },
    {
     "name": "stdout",
     "output_type": "stream",
     "text": [
      "              Model      date   Count\n",
      "2470           Jeep  Nov-2018   73784\n",
      "3262       Maserati  Nov-2018     835\n",
      "586           Buick  Nov-2018   16421\n",
      "802       Chevrolet  Nov-2018  165888\n",
      "2362         Jaguar  Nov-2018    3197\n",
      "3370          Mazda  Nov-2018   20660\n",
      "3478  Mercedes-Benz  Nov-2018   32879\n",
      "166       AlfaRomeo  Nov-2018    1957\n",
      "4834         Toyota  Nov-2018  163977\n",
      "3610        Minerva  Nov-2018    3528\n",
      "4726          Tesla  Nov-2018   16800\n",
      "2686            Kia  Nov-2018   45101\n"
     ]
    }
   ],
   "source": [
    "sales_usa=crawldata(strCarSalesQ, country='united_states')\n",
    "\n",
    "sales_usa.to_sql('sales_usa', con=eng_co, if_exists=update_behaviour, index=False)\n",
    "\n",
    "print(sales_usa.tail(12))\n"
   ]
  },
  {
   "cell_type": "markdown",
   "metadata": {},
   "source": [
    "### India - https://auto.vercity.ru/statistics/sales/asia/2018/india/"
   ]
  },
  {
   "cell_type": "code",
   "execution_count": 14,
   "metadata": {},
   "outputs": [
    {
     "name": "stdout",
     "output_type": "stream",
     "text": [
      "Reading from  https://auto.vercity.ru/statistics/sales/europe/2010/india/01-12/ ... Year 2010, country india, reading (26, 13) items\n",
      "Reading from  https://auto.vercity.ru/statistics/sales/europe/2011/india/01-12/ ... Year 2011, country india, reading (27, 13) items\n",
      "Reading from  https://auto.vercity.ru/statistics/sales/europe/2012/india/01-12/ ... Year 2012, country india, reading (29, 13) items\n",
      "Reading from  https://auto.vercity.ru/statistics/sales/europe/2013/india/01-12/ ... Year 2013, country india, reading (23, 13) items\n",
      "Reading from  https://auto.vercity.ru/statistics/sales/europe/2014/india/01-12/ ... Year 2014, country india, reading (24, 13) items\n",
      "Reading from  https://auto.vercity.ru/statistics/sales/europe/2015/india/01-12/ ... Year 2015, country india, reading (24, 13) items\n",
      "Reading from  https://auto.vercity.ru/statistics/sales/europe/2016/india/01-12/ ... Year 2016, country india, reading (24, 13) items\n",
      "Reading from  https://auto.vercity.ru/statistics/sales/europe/2017/india/01-12/ ... Year 2017, country india, reading (25, 13) items\n",
      "Reading from  https://auto.vercity.ru/statistics/sales/europe/2018/india/01-12/ ... Year 2018, country india, reading (23, 13) items\n"
     ]
    },
    {
     "name": "stderr",
     "output_type": "stream",
     "text": [
      "/home/egor/anaconda3/lib/python3.6/site-packages/ipykernel_launcher.py:43: FutureWarning: Sorting because non-concatenation axis is not aligned. A future version\n",
      "of pandas will change to not sort by default.\n",
      "\n",
      "To accept the future behavior, pass 'sort=False'.\n",
      "\n",
      "To retain the current behavior and silence the warning, pass 'sort=True'.\n",
      "\n"
     ]
    },
    {
     "name": "stdout",
     "output_type": "stream",
     "text": [
      "             Model      date  Count\n",
      "225   AshokLeyland  Oct-2018  14341\n",
      "1965       Renault  Oct-2018   7066\n",
      "477         Datsun  Oct-2018   2848\n",
      "1749        Nissan  Oct-2018    315\n",
      "801          Force  Oct-2018   1802\n",
      "1485      Mahindra  Oct-2018  48418\n",
      "2589    Volkswagen  Oct-2018   3191\n",
      "693           Fiat  Oct-2018    100\n",
      "1377          Jeep  Oct-2018   1150\n",
      "909           Ford  Oct-2018   9044\n",
      "2373          Tata  Oct-2018  57710\n",
      "1317         Isuzu  Oct-2018   1159\n"
     ]
    }
   ],
   "source": [
    "sales_india=crawldata(strCarSalesQ, country='india')\n",
    "\n",
    "sales_india.to_sql('sales_india', con=eng_co, if_exists=update_behaviour, index=False)\n",
    "\n",
    "print(sales_india.tail(12))"
   ]
  },
  {
   "cell_type": "markdown",
   "metadata": {},
   "source": [
    "### Brasil - https://auto.vercity.ru/statistics/sales/south_america/2018/brazil/"
   ]
  },
  {
   "cell_type": "code",
   "execution_count": 15,
   "metadata": {},
   "outputs": [
    {
     "name": "stdout",
     "output_type": "stream",
     "text": [
      "Reading from  https://auto.vercity.ru/statistics/sales/europe/2010/brazil/01-12/ ... Year 2010, country brazil, reading (23, 13) items\n",
      "Reading from  https://auto.vercity.ru/statistics/sales/europe/2011/brazil/01-12/ ... Year 2011, country brazil, reading (57, 13) items\n",
      "Reading from  https://auto.vercity.ru/statistics/sales/europe/2012/brazil/01-12/ ... Year 2012, country brazil, reading (60, 13) items\n",
      "Reading from  https://auto.vercity.ru/statistics/sales/europe/2013/brazil/01-12/ ... Year 2013, country brazil, reading (53, 13) items\n",
      "Reading from  https://auto.vercity.ru/statistics/sales/europe/2014/brazil/01-12/ ... Year 2014, country brazil, reading (60, 13) items\n",
      "Reading from  https://auto.vercity.ru/statistics/sales/europe/2015/brazil/01-12/ ... Year 2015, country brazil, reading (54, 13) items\n",
      "Reading from  https://auto.vercity.ru/statistics/sales/europe/2016/brazil/01-12/ ... Year 2016, country brazil, reading (49, 13) items\n",
      "Reading from  https://auto.vercity.ru/statistics/sales/europe/2017/brazil/01-12/ ... Year 2017, country brazil, reading (47, 13) items\n",
      "Reading from  https://auto.vercity.ru/statistics/sales/europe/2018/brazil/01-12/ ... Year 2018, country brazil, reading (48, 13) items\n"
     ]
    },
    {
     "name": "stderr",
     "output_type": "stream",
     "text": [
      "/home/egor/anaconda3/lib/python3.6/site-packages/ipykernel_launcher.py:43: FutureWarning: Sorting because non-concatenation axis is not aligned. A future version\n",
      "of pandas will change to not sort by default.\n",
      "\n",
      "To accept the future behavior, pass 'sort=False'.\n",
      "\n",
      "To retain the current behavior and silence the warning, pass 'sort=True'.\n",
      "\n"
     ]
    },
    {
     "name": "stdout",
     "output_type": "stream",
     "text": [
      "           Model      date  Count\n",
      "2817      Jinbei  Oct-2018      3\n",
      "5289  Volkswagen  Oct-2018  39564\n",
      "969      Citroen  Oct-2018   1211\n",
      "1329        Effa  Oct-2018      5\n",
      "1209       Dodge  Oct-2018     67\n",
      "2721        Jeep  Oct-2018   9856\n",
      "2433         JAC  Oct-2018    279\n",
      "5181     Troller  Oct-2018    115\n",
      "3225       Lifan  Oct-2018    118\n",
      "3321         MAN  Oct-2018    181\n",
      "1089         DAF  Oct-2018    267\n",
      "393          BMW  Oct-2018    724\n"
     ]
    }
   ],
   "source": [
    "sales_brazil=crawldata(strCarSalesQ, country='brazil')\n",
    "\n",
    "sales_brazil.to_sql('sales_brazil', con=eng_co, if_exists=update_behaviour, index=False)\n",
    "\n",
    "print(sales_brazil.tail(12))"
   ]
  },
  {
   "cell_type": "markdown",
   "metadata": {},
   "source": [
    "### SAR - https://auto.vercity.ru/statistics/sales/africa/2018/south_africa/"
   ]
  },
  {
   "cell_type": "code",
   "execution_count": 16,
   "metadata": {},
   "outputs": [
    {
     "name": "stdout",
     "output_type": "stream",
     "text": [
      "Reading from  https://auto.vercity.ru/statistics/sales/europe/2010/south_africa/01-12/ ... Year 2010, country south_africa, reading (38, 13) items\n",
      "Reading from  https://auto.vercity.ru/statistics/sales/europe/2011/south_africa/01-12/ ... Year 2011, country south_africa, reading (54, 13) items\n",
      "Reading from  https://auto.vercity.ru/statistics/sales/europe/2012/south_africa/01-12/ ... Year 2012, country south_africa, reading (55, 13) items\n",
      "Reading from  https://auto.vercity.ru/statistics/sales/europe/2013/south_africa/01-12/ ... Year 2013, country south_africa, reading (57, 13) items\n",
      "Reading from  https://auto.vercity.ru/statistics/sales/europe/2014/south_africa/01-12/ ... Year 2014, country south_africa, reading (58, 13) items\n",
      "Reading from  https://auto.vercity.ru/statistics/sales/europe/2015/south_africa/01-12/ ... Year 2015, country south_africa, reading (62, 13) items\n",
      "Reading from  https://auto.vercity.ru/statistics/sales/europe/2016/south_africa/01-12/ ... Year 2016, country south_africa, reading (60, 13) items\n",
      "Reading from  https://auto.vercity.ru/statistics/sales/europe/2017/south_africa/01-12/ ... Year 2017, country south_africa, reading (60, 13) items\n",
      "Reading from  https://auto.vercity.ru/statistics/sales/europe/2018/south_africa/01-12/ ... Year 2018, country south_africa, reading (52, 13) items\n"
     ]
    },
    {
     "name": "stderr",
     "output_type": "stream",
     "text": [
      "/home/egor/anaconda3/lib/python3.6/site-packages/ipykernel_launcher.py:43: FutureWarning: Sorting because non-concatenation axis is not aligned. A future version\n",
      "of pandas will change to not sort by default.\n",
      "\n",
      "To accept the future behavior, pass 'sort=False'.\n",
      "\n",
      "To retain the current behavior and silence the warning, pass 'sort=True'.\n",
      "\n"
     ]
    },
    {
     "name": "stdout",
     "output_type": "stream",
     "text": [
      "           Model      date  Count\n",
      "5205      Subaru  Oct-2018    101\n",
      "2781         JMC  Oct-2018     32\n",
      "1389         FAW  Oct-2018     44\n",
      "1461     Ferrari  Oct-2018      5\n",
      "309         Audi  Oct-2018    834\n",
      "417          BMW  Oct-2018   1211\n",
      "4149  Mitsubishi  Oct-2018    298\n",
      "93        Abarth  Oct-2018      1\n",
      "2709       Iveco  Oct-2018    118\n",
      "2613       Isuzu  Oct-2018   2462\n",
      "1569        Fiat  Oct-2018     90\n",
      "5925       Volvo  Oct-2018    471\n"
     ]
    }
   ],
   "source": [
    "sales_sar=crawldata(strCarSalesQ, country='south_africa')\n",
    "\n",
    "sales_sar.to_sql('sales_sar', con=eng_co, if_exists=update_behaviour, index=False)\n",
    "\n",
    "print(sales_sar.tail(12))"
   ]
  },
  {
   "cell_type": "markdown",
   "metadata": {},
   "source": [
    "### Korea - https://auto.vercity.ru/statistics/sales/asia/2018/south_korea/"
   ]
  },
  {
   "cell_type": "code",
   "execution_count": 17,
   "metadata": {},
   "outputs": [
    {
     "name": "stdout",
     "output_type": "stream",
     "text": [
      "Reading from  https://auto.vercity.ru/statistics/sales/europe/2010/south_korea/01-12/ ... Year 2010, country south_korea, reading (28, 13) items\n",
      "Reading from  https://auto.vercity.ru/statistics/sales/europe/2011/south_korea/01-12/ ... Year 2011, country south_korea, reading (34, 13) items\n",
      "Reading from  https://auto.vercity.ru/statistics/sales/europe/2012/south_korea/01-12/ ... Year 2012, country south_korea, reading (33, 13) items\n",
      "Reading from  https://auto.vercity.ru/statistics/sales/europe/2013/south_korea/01-12/ ... Year 2013, country south_korea, reading (32, 13) items\n",
      "Reading from  https://auto.vercity.ru/statistics/sales/europe/2014/south_korea/01-12/ ... Year 2014, country south_korea, reading (31, 13) items\n",
      "Reading from  https://auto.vercity.ru/statistics/sales/europe/2015/south_korea/01-12/ ... Year 2015, country south_korea, reading (34, 13) items\n",
      "Reading from  https://auto.vercity.ru/statistics/sales/europe/2016/south_korea/01-12/ ... Year 2016, country south_korea, reading (35, 13) items\n",
      "Reading from  https://auto.vercity.ru/statistics/sales/europe/2017/south_korea/01-12/ ... Year 2017, country south_korea, reading (34, 13) items\n",
      "Reading from  https://auto.vercity.ru/statistics/sales/europe/2018/south_korea/01-12/ ... Year 2018, country south_korea, reading (33, 13) items\n"
     ]
    },
    {
     "name": "stderr",
     "output_type": "stream",
     "text": [
      "/home/egor/anaconda3/lib/python3.6/site-packages/ipykernel_launcher.py:43: FutureWarning: Sorting because non-concatenation axis is not aligned. A future version\n",
      "of pandas will change to not sort by default.\n",
      "\n",
      "To accept the future behavior, pass 'sort=False'.\n",
      "\n",
      "To retain the current behavior and silence the warning, pass 'sort=True'.\n",
      "\n"
     ]
    },
    {
     "name": "stdout",
     "output_type": "stream",
     "text": [
      "            Model      date  Count\n",
      "1725         Jeep  Oct-2018    690\n",
      "2193      Lincoln  Oct-2018    300\n",
      "2601       Nissan  Oct-2018    405\n",
      "3525        Volvo  Oct-2018    687\n",
      "1833          Kia  Oct-2018  46100\n",
      "3177    SsangYong  Oct-2018  10082\n",
      "1413      Hyundai  Oct-2018  61162\n",
      "1629       Jaguar  Oct-2018    176\n",
      "2445      Minerva  Oct-2018   1183\n",
      "3321       Toyota  Oct-2018   1341\n",
      "1881  Lamborghini  Oct-2018      1\n",
      "297           BMW  Oct-2018   2131\n"
     ]
    }
   ],
   "source": [
    "sales_korea=crawldata(strCarSalesQ, country='south_korea')\n",
    "\n",
    "sales_korea.to_sql('sales_korea', con=eng_co, if_exists=update_behaviour, index=False)\n",
    "\n",
    "print(sales_korea.tail(12))"
   ]
  },
  {
   "cell_type": "markdown",
   "metadata": {},
   "source": [
    "### Italy - https://auto.vercity.ru/statistics/sales/europe/2018/italy/"
   ]
  },
  {
   "cell_type": "code",
   "execution_count": 18,
   "metadata": {},
   "outputs": [
    {
     "name": "stdout",
     "output_type": "stream",
     "text": [
      "Reading from  https://auto.vercity.ru/statistics/sales/europe/2010/italy/01-12/ ... Year 2010, country italy, reading (39, 13) items\n",
      "Reading from  https://auto.vercity.ru/statistics/sales/europe/2011/italy/01-12/ ... Year 2011, country italy, reading (42, 13) items\n",
      "Reading from  https://auto.vercity.ru/statistics/sales/europe/2012/italy/01-12/ ... Year 2012, country italy, reading (41, 13) items\n",
      "Reading from  https://auto.vercity.ru/statistics/sales/europe/2013/italy/01-12/ ... Year 2013, country italy, reading (41, 13) items\n",
      "Reading from  https://auto.vercity.ru/statistics/sales/europe/2014/italy/01-12/ ... Year 2014, country italy, reading (40, 13) items\n",
      "Reading from  https://auto.vercity.ru/statistics/sales/europe/2015/italy/01-12/ ... Year 2015, country italy, reading (45, 13) items\n",
      "Reading from  https://auto.vercity.ru/statistics/sales/europe/2016/italy/01-12/ ... Year 2016, country italy, reading (45, 13) items\n",
      "Reading from  https://auto.vercity.ru/statistics/sales/europe/2017/italy/01-12/ ... Year 2017, country italy, reading (45, 13) items\n",
      "Reading from  https://auto.vercity.ru/statistics/sales/europe/2018/italy/01-12/ ... Year 2018, country italy, reading (46, 13) items\n"
     ]
    },
    {
     "name": "stderr",
     "output_type": "stream",
     "text": [
      "/home/egor/anaconda3/lib/python3.6/site-packages/ipykernel_launcher.py:43: FutureWarning: Sorting because non-concatenation axis is not aligned. A future version\n",
      "of pandas will change to not sort by default.\n",
      "\n",
      "To accept the future behavior, pass 'sort=False'.\n",
      "\n",
      "To retain the current behavior and silence the warning, pass 'sort=True'.\n",
      "\n"
     ]
    },
    {
     "name": "stdout",
     "output_type": "stream",
     "text": [
      "          Model      date  Count\n",
      "741     Citroen  Oct-2018   7823\n",
      "1869       Jeep  Oct-2018   5574\n",
      "2229     Lancia  Oct-2018   4477\n",
      "1557   Infiniti  Oct-2018     16\n",
      "1353      Honda  Oct-2018    723\n",
      "1761     Jaguar  Oct-2018    897\n",
      "261        Audi  Oct-2018   4460\n",
      "4209     Suzuki  Oct-2018   3187\n",
      "105   AlfaRomeo  Oct-2018   1941\n",
      "3033     Nissan  Oct-2018   4736\n",
      "1029    Ferrari  Oct-2018     37\n",
      "3777      Skoda  Oct-2018   2230\n"
     ]
    }
   ],
   "source": [
    "sales_italy=crawldata(strCarSalesQ, country='italy')\n",
    "\n",
    "sales_italy.to_sql('sales_italy', con=eng_co, if_exists=update_behaviour, index=False)\n",
    "\n",
    "print(sales_italy.tail(12))"
   ]
  },
  {
   "cell_type": "markdown",
   "metadata": {},
   "source": [
    "### For test: some grouping and plotting"
   ]
  },
  {
   "cell_type": "code",
   "execution_count": 19,
   "metadata": {},
   "outputs": [
    {
     "data": {
      "application/javascript": [
       "/* Put everything inside the global mpl namespace */\n",
       "window.mpl = {};\n",
       "\n",
       "\n",
       "mpl.get_websocket_type = function() {\n",
       "    if (typeof(WebSocket) !== 'undefined') {\n",
       "        return WebSocket;\n",
       "    } else if (typeof(MozWebSocket) !== 'undefined') {\n",
       "        return MozWebSocket;\n",
       "    } else {\n",
       "        alert('Your browser does not have WebSocket support.' +\n",
       "              'Please try Chrome, Safari or Firefox ≥ 6. ' +\n",
       "              'Firefox 4 and 5 are also supported but you ' +\n",
       "              'have to enable WebSockets in about:config.');\n",
       "    };\n",
       "}\n",
       "\n",
       "mpl.figure = function(figure_id, websocket, ondownload, parent_element) {\n",
       "    this.id = figure_id;\n",
       "\n",
       "    this.ws = websocket;\n",
       "\n",
       "    this.supports_binary = (this.ws.binaryType != undefined);\n",
       "\n",
       "    if (!this.supports_binary) {\n",
       "        var warnings = document.getElementById(\"mpl-warnings\");\n",
       "        if (warnings) {\n",
       "            warnings.style.display = 'block';\n",
       "            warnings.textContent = (\n",
       "                \"This browser does not support binary websocket messages. \" +\n",
       "                    \"Performance may be slow.\");\n",
       "        }\n",
       "    }\n",
       "\n",
       "    this.imageObj = new Image();\n",
       "\n",
       "    this.context = undefined;\n",
       "    this.message = undefined;\n",
       "    this.canvas = undefined;\n",
       "    this.rubberband_canvas = undefined;\n",
       "    this.rubberband_context = undefined;\n",
       "    this.format_dropdown = undefined;\n",
       "\n",
       "    this.image_mode = 'full';\n",
       "\n",
       "    this.root = $('<div/>');\n",
       "    this._root_extra_style(this.root)\n",
       "    this.root.attr('style', 'display: inline-block');\n",
       "\n",
       "    $(parent_element).append(this.root);\n",
       "\n",
       "    this._init_header(this);\n",
       "    this._init_canvas(this);\n",
       "    this._init_toolbar(this);\n",
       "\n",
       "    var fig = this;\n",
       "\n",
       "    this.waiting = false;\n",
       "\n",
       "    this.ws.onopen =  function () {\n",
       "            fig.send_message(\"supports_binary\", {value: fig.supports_binary});\n",
       "            fig.send_message(\"send_image_mode\", {});\n",
       "            if (mpl.ratio != 1) {\n",
       "                fig.send_message(\"set_dpi_ratio\", {'dpi_ratio': mpl.ratio});\n",
       "            }\n",
       "            fig.send_message(\"refresh\", {});\n",
       "        }\n",
       "\n",
       "    this.imageObj.onload = function() {\n",
       "            if (fig.image_mode == 'full') {\n",
       "                // Full images could contain transparency (where diff images\n",
       "                // almost always do), so we need to clear the canvas so that\n",
       "                // there is no ghosting.\n",
       "                fig.context.clearRect(0, 0, fig.canvas.width, fig.canvas.height);\n",
       "            }\n",
       "            fig.context.drawImage(fig.imageObj, 0, 0);\n",
       "        };\n",
       "\n",
       "    this.imageObj.onunload = function() {\n",
       "        fig.ws.close();\n",
       "    }\n",
       "\n",
       "    this.ws.onmessage = this._make_on_message_function(this);\n",
       "\n",
       "    this.ondownload = ondownload;\n",
       "}\n",
       "\n",
       "mpl.figure.prototype._init_header = function() {\n",
       "    var titlebar = $(\n",
       "        '<div class=\"ui-dialog-titlebar ui-widget-header ui-corner-all ' +\n",
       "        'ui-helper-clearfix\"/>');\n",
       "    var titletext = $(\n",
       "        '<div class=\"ui-dialog-title\" style=\"width: 100%; ' +\n",
       "        'text-align: center; padding: 3px;\"/>');\n",
       "    titlebar.append(titletext)\n",
       "    this.root.append(titlebar);\n",
       "    this.header = titletext[0];\n",
       "}\n",
       "\n",
       "\n",
       "\n",
       "mpl.figure.prototype._canvas_extra_style = function(canvas_div) {\n",
       "\n",
       "}\n",
       "\n",
       "\n",
       "mpl.figure.prototype._root_extra_style = function(canvas_div) {\n",
       "\n",
       "}\n",
       "\n",
       "mpl.figure.prototype._init_canvas = function() {\n",
       "    var fig = this;\n",
       "\n",
       "    var canvas_div = $('<div/>');\n",
       "\n",
       "    canvas_div.attr('style', 'position: relative; clear: both; outline: 0');\n",
       "\n",
       "    function canvas_keyboard_event(event) {\n",
       "        return fig.key_event(event, event['data']);\n",
       "    }\n",
       "\n",
       "    canvas_div.keydown('key_press', canvas_keyboard_event);\n",
       "    canvas_div.keyup('key_release', canvas_keyboard_event);\n",
       "    this.canvas_div = canvas_div\n",
       "    this._canvas_extra_style(canvas_div)\n",
       "    this.root.append(canvas_div);\n",
       "\n",
       "    var canvas = $('<canvas/>');\n",
       "    canvas.addClass('mpl-canvas');\n",
       "    canvas.attr('style', \"left: 0; top: 0; z-index: 0; outline: 0\")\n",
       "\n",
       "    this.canvas = canvas[0];\n",
       "    this.context = canvas[0].getContext(\"2d\");\n",
       "\n",
       "    var backingStore = this.context.backingStorePixelRatio ||\n",
       "\tthis.context.webkitBackingStorePixelRatio ||\n",
       "\tthis.context.mozBackingStorePixelRatio ||\n",
       "\tthis.context.msBackingStorePixelRatio ||\n",
       "\tthis.context.oBackingStorePixelRatio ||\n",
       "\tthis.context.backingStorePixelRatio || 1;\n",
       "\n",
       "    mpl.ratio = (window.devicePixelRatio || 1) / backingStore;\n",
       "\n",
       "    var rubberband = $('<canvas/>');\n",
       "    rubberband.attr('style', \"position: absolute; left: 0; top: 0; z-index: 1;\")\n",
       "\n",
       "    var pass_mouse_events = true;\n",
       "\n",
       "    canvas_div.resizable({\n",
       "        start: function(event, ui) {\n",
       "            pass_mouse_events = false;\n",
       "        },\n",
       "        resize: function(event, ui) {\n",
       "            fig.request_resize(ui.size.width, ui.size.height);\n",
       "        },\n",
       "        stop: function(event, ui) {\n",
       "            pass_mouse_events = true;\n",
       "            fig.request_resize(ui.size.width, ui.size.height);\n",
       "        },\n",
       "    });\n",
       "\n",
       "    function mouse_event_fn(event) {\n",
       "        if (pass_mouse_events)\n",
       "            return fig.mouse_event(event, event['data']);\n",
       "    }\n",
       "\n",
       "    rubberband.mousedown('button_press', mouse_event_fn);\n",
       "    rubberband.mouseup('button_release', mouse_event_fn);\n",
       "    // Throttle sequential mouse events to 1 every 20ms.\n",
       "    rubberband.mousemove('motion_notify', mouse_event_fn);\n",
       "\n",
       "    rubberband.mouseenter('figure_enter', mouse_event_fn);\n",
       "    rubberband.mouseleave('figure_leave', mouse_event_fn);\n",
       "\n",
       "    canvas_div.on(\"wheel\", function (event) {\n",
       "        event = event.originalEvent;\n",
       "        event['data'] = 'scroll'\n",
       "        if (event.deltaY < 0) {\n",
       "            event.step = 1;\n",
       "        } else {\n",
       "            event.step = -1;\n",
       "        }\n",
       "        mouse_event_fn(event);\n",
       "    });\n",
       "\n",
       "    canvas_div.append(canvas);\n",
       "    canvas_div.append(rubberband);\n",
       "\n",
       "    this.rubberband = rubberband;\n",
       "    this.rubberband_canvas = rubberband[0];\n",
       "    this.rubberband_context = rubberband[0].getContext(\"2d\");\n",
       "    this.rubberband_context.strokeStyle = \"#000000\";\n",
       "\n",
       "    this._resize_canvas = function(width, height) {\n",
       "        // Keep the size of the canvas, canvas container, and rubber band\n",
       "        // canvas in synch.\n",
       "        canvas_div.css('width', width)\n",
       "        canvas_div.css('height', height)\n",
       "\n",
       "        canvas.attr('width', width * mpl.ratio);\n",
       "        canvas.attr('height', height * mpl.ratio);\n",
       "        canvas.attr('style', 'width: ' + width + 'px; height: ' + height + 'px;');\n",
       "\n",
       "        rubberband.attr('width', width);\n",
       "        rubberband.attr('height', height);\n",
       "    }\n",
       "\n",
       "    // Set the figure to an initial 600x600px, this will subsequently be updated\n",
       "    // upon first draw.\n",
       "    this._resize_canvas(600, 600);\n",
       "\n",
       "    // Disable right mouse context menu.\n",
       "    $(this.rubberband_canvas).bind(\"contextmenu\",function(e){\n",
       "        return false;\n",
       "    });\n",
       "\n",
       "    function set_focus () {\n",
       "        canvas.focus();\n",
       "        canvas_div.focus();\n",
       "    }\n",
       "\n",
       "    window.setTimeout(set_focus, 100);\n",
       "}\n",
       "\n",
       "mpl.figure.prototype._init_toolbar = function() {\n",
       "    var fig = this;\n",
       "\n",
       "    var nav_element = $('<div/>')\n",
       "    nav_element.attr('style', 'width: 100%');\n",
       "    this.root.append(nav_element);\n",
       "\n",
       "    // Define a callback function for later on.\n",
       "    function toolbar_event(event) {\n",
       "        return fig.toolbar_button_onclick(event['data']);\n",
       "    }\n",
       "    function toolbar_mouse_event(event) {\n",
       "        return fig.toolbar_button_onmouseover(event['data']);\n",
       "    }\n",
       "\n",
       "    for(var toolbar_ind in mpl.toolbar_items) {\n",
       "        var name = mpl.toolbar_items[toolbar_ind][0];\n",
       "        var tooltip = mpl.toolbar_items[toolbar_ind][1];\n",
       "        var image = mpl.toolbar_items[toolbar_ind][2];\n",
       "        var method_name = mpl.toolbar_items[toolbar_ind][3];\n",
       "\n",
       "        if (!name) {\n",
       "            // put a spacer in here.\n",
       "            continue;\n",
       "        }\n",
       "        var button = $('<button/>');\n",
       "        button.addClass('ui-button ui-widget ui-state-default ui-corner-all ' +\n",
       "                        'ui-button-icon-only');\n",
       "        button.attr('role', 'button');\n",
       "        button.attr('aria-disabled', 'false');\n",
       "        button.click(method_name, toolbar_event);\n",
       "        button.mouseover(tooltip, toolbar_mouse_event);\n",
       "\n",
       "        var icon_img = $('<span/>');\n",
       "        icon_img.addClass('ui-button-icon-primary ui-icon');\n",
       "        icon_img.addClass(image);\n",
       "        icon_img.addClass('ui-corner-all');\n",
       "\n",
       "        var tooltip_span = $('<span/>');\n",
       "        tooltip_span.addClass('ui-button-text');\n",
       "        tooltip_span.html(tooltip);\n",
       "\n",
       "        button.append(icon_img);\n",
       "        button.append(tooltip_span);\n",
       "\n",
       "        nav_element.append(button);\n",
       "    }\n",
       "\n",
       "    var fmt_picker_span = $('<span/>');\n",
       "\n",
       "    var fmt_picker = $('<select/>');\n",
       "    fmt_picker.addClass('mpl-toolbar-option ui-widget ui-widget-content');\n",
       "    fmt_picker_span.append(fmt_picker);\n",
       "    nav_element.append(fmt_picker_span);\n",
       "    this.format_dropdown = fmt_picker[0];\n",
       "\n",
       "    for (var ind in mpl.extensions) {\n",
       "        var fmt = mpl.extensions[ind];\n",
       "        var option = $(\n",
       "            '<option/>', {selected: fmt === mpl.default_extension}).html(fmt);\n",
       "        fmt_picker.append(option)\n",
       "    }\n",
       "\n",
       "    // Add hover states to the ui-buttons\n",
       "    $( \".ui-button\" ).hover(\n",
       "        function() { $(this).addClass(\"ui-state-hover\");},\n",
       "        function() { $(this).removeClass(\"ui-state-hover\");}\n",
       "    );\n",
       "\n",
       "    var status_bar = $('<span class=\"mpl-message\"/>');\n",
       "    nav_element.append(status_bar);\n",
       "    this.message = status_bar[0];\n",
       "}\n",
       "\n",
       "mpl.figure.prototype.request_resize = function(x_pixels, y_pixels) {\n",
       "    // Request matplotlib to resize the figure. Matplotlib will then trigger a resize in the client,\n",
       "    // which will in turn request a refresh of the image.\n",
       "    this.send_message('resize', {'width': x_pixels, 'height': y_pixels});\n",
       "}\n",
       "\n",
       "mpl.figure.prototype.send_message = function(type, properties) {\n",
       "    properties['type'] = type;\n",
       "    properties['figure_id'] = this.id;\n",
       "    this.ws.send(JSON.stringify(properties));\n",
       "}\n",
       "\n",
       "mpl.figure.prototype.send_draw_message = function() {\n",
       "    if (!this.waiting) {\n",
       "        this.waiting = true;\n",
       "        this.ws.send(JSON.stringify({type: \"draw\", figure_id: this.id}));\n",
       "    }\n",
       "}\n",
       "\n",
       "\n",
       "mpl.figure.prototype.handle_save = function(fig, msg) {\n",
       "    var format_dropdown = fig.format_dropdown;\n",
       "    var format = format_dropdown.options[format_dropdown.selectedIndex].value;\n",
       "    fig.ondownload(fig, format);\n",
       "}\n",
       "\n",
       "\n",
       "mpl.figure.prototype.handle_resize = function(fig, msg) {\n",
       "    var size = msg['size'];\n",
       "    if (size[0] != fig.canvas.width || size[1] != fig.canvas.height) {\n",
       "        fig._resize_canvas(size[0], size[1]);\n",
       "        fig.send_message(\"refresh\", {});\n",
       "    };\n",
       "}\n",
       "\n",
       "mpl.figure.prototype.handle_rubberband = function(fig, msg) {\n",
       "    var x0 = msg['x0'] / mpl.ratio;\n",
       "    var y0 = (fig.canvas.height - msg['y0']) / mpl.ratio;\n",
       "    var x1 = msg['x1'] / mpl.ratio;\n",
       "    var y1 = (fig.canvas.height - msg['y1']) / mpl.ratio;\n",
       "    x0 = Math.floor(x0) + 0.5;\n",
       "    y0 = Math.floor(y0) + 0.5;\n",
       "    x1 = Math.floor(x1) + 0.5;\n",
       "    y1 = Math.floor(y1) + 0.5;\n",
       "    var min_x = Math.min(x0, x1);\n",
       "    var min_y = Math.min(y0, y1);\n",
       "    var width = Math.abs(x1 - x0);\n",
       "    var height = Math.abs(y1 - y0);\n",
       "\n",
       "    fig.rubberband_context.clearRect(\n",
       "        0, 0, fig.canvas.width, fig.canvas.height);\n",
       "\n",
       "    fig.rubberband_context.strokeRect(min_x, min_y, width, height);\n",
       "}\n",
       "\n",
       "mpl.figure.prototype.handle_figure_label = function(fig, msg) {\n",
       "    // Updates the figure title.\n",
       "    fig.header.textContent = msg['label'];\n",
       "}\n",
       "\n",
       "mpl.figure.prototype.handle_cursor = function(fig, msg) {\n",
       "    var cursor = msg['cursor'];\n",
       "    switch(cursor)\n",
       "    {\n",
       "    case 0:\n",
       "        cursor = 'pointer';\n",
       "        break;\n",
       "    case 1:\n",
       "        cursor = 'default';\n",
       "        break;\n",
       "    case 2:\n",
       "        cursor = 'crosshair';\n",
       "        break;\n",
       "    case 3:\n",
       "        cursor = 'move';\n",
       "        break;\n",
       "    }\n",
       "    fig.rubberband_canvas.style.cursor = cursor;\n",
       "}\n",
       "\n",
       "mpl.figure.prototype.handle_message = function(fig, msg) {\n",
       "    fig.message.textContent = msg['message'];\n",
       "}\n",
       "\n",
       "mpl.figure.prototype.handle_draw = function(fig, msg) {\n",
       "    // Request the server to send over a new figure.\n",
       "    fig.send_draw_message();\n",
       "}\n",
       "\n",
       "mpl.figure.prototype.handle_image_mode = function(fig, msg) {\n",
       "    fig.image_mode = msg['mode'];\n",
       "}\n",
       "\n",
       "mpl.figure.prototype.updated_canvas_event = function() {\n",
       "    // Called whenever the canvas gets updated.\n",
       "    this.send_message(\"ack\", {});\n",
       "}\n",
       "\n",
       "// A function to construct a web socket function for onmessage handling.\n",
       "// Called in the figure constructor.\n",
       "mpl.figure.prototype._make_on_message_function = function(fig) {\n",
       "    return function socket_on_message(evt) {\n",
       "        if (evt.data instanceof Blob) {\n",
       "            /* FIXME: We get \"Resource interpreted as Image but\n",
       "             * transferred with MIME type text/plain:\" errors on\n",
       "             * Chrome.  But how to set the MIME type?  It doesn't seem\n",
       "             * to be part of the websocket stream */\n",
       "            evt.data.type = \"image/png\";\n",
       "\n",
       "            /* Free the memory for the previous frames */\n",
       "            if (fig.imageObj.src) {\n",
       "                (window.URL || window.webkitURL).revokeObjectURL(\n",
       "                    fig.imageObj.src);\n",
       "            }\n",
       "\n",
       "            fig.imageObj.src = (window.URL || window.webkitURL).createObjectURL(\n",
       "                evt.data);\n",
       "            fig.updated_canvas_event();\n",
       "            fig.waiting = false;\n",
       "            return;\n",
       "        }\n",
       "        else if (typeof evt.data === 'string' && evt.data.slice(0, 21) == \"data:image/png;base64\") {\n",
       "            fig.imageObj.src = evt.data;\n",
       "            fig.updated_canvas_event();\n",
       "            fig.waiting = false;\n",
       "            return;\n",
       "        }\n",
       "\n",
       "        var msg = JSON.parse(evt.data);\n",
       "        var msg_type = msg['type'];\n",
       "\n",
       "        // Call the  \"handle_{type}\" callback, which takes\n",
       "        // the figure and JSON message as its only arguments.\n",
       "        try {\n",
       "            var callback = fig[\"handle_\" + msg_type];\n",
       "        } catch (e) {\n",
       "            console.log(\"No handler for the '\" + msg_type + \"' message type: \", msg);\n",
       "            return;\n",
       "        }\n",
       "\n",
       "        if (callback) {\n",
       "            try {\n",
       "                // console.log(\"Handling '\" + msg_type + \"' message: \", msg);\n",
       "                callback(fig, msg);\n",
       "            } catch (e) {\n",
       "                console.log(\"Exception inside the 'handler_\" + msg_type + \"' callback:\", e, e.stack, msg);\n",
       "            }\n",
       "        }\n",
       "    };\n",
       "}\n",
       "\n",
       "// from http://stackoverflow.com/questions/1114465/getting-mouse-location-in-canvas\n",
       "mpl.findpos = function(e) {\n",
       "    //this section is from http://www.quirksmode.org/js/events_properties.html\n",
       "    var targ;\n",
       "    if (!e)\n",
       "        e = window.event;\n",
       "    if (e.target)\n",
       "        targ = e.target;\n",
       "    else if (e.srcElement)\n",
       "        targ = e.srcElement;\n",
       "    if (targ.nodeType == 3) // defeat Safari bug\n",
       "        targ = targ.parentNode;\n",
       "\n",
       "    // jQuery normalizes the pageX and pageY\n",
       "    // pageX,Y are the mouse positions relative to the document\n",
       "    // offset() returns the position of the element relative to the document\n",
       "    var x = e.pageX - $(targ).offset().left;\n",
       "    var y = e.pageY - $(targ).offset().top;\n",
       "\n",
       "    return {\"x\": x, \"y\": y};\n",
       "};\n",
       "\n",
       "/*\n",
       " * return a copy of an object with only non-object keys\n",
       " * we need this to avoid circular references\n",
       " * http://stackoverflow.com/a/24161582/3208463\n",
       " */\n",
       "function simpleKeys (original) {\n",
       "  return Object.keys(original).reduce(function (obj, key) {\n",
       "    if (typeof original[key] !== 'object')\n",
       "        obj[key] = original[key]\n",
       "    return obj;\n",
       "  }, {});\n",
       "}\n",
       "\n",
       "mpl.figure.prototype.mouse_event = function(event, name) {\n",
       "    var canvas_pos = mpl.findpos(event)\n",
       "\n",
       "    if (name === 'button_press')\n",
       "    {\n",
       "        this.canvas.focus();\n",
       "        this.canvas_div.focus();\n",
       "    }\n",
       "\n",
       "    var x = canvas_pos.x * mpl.ratio;\n",
       "    var y = canvas_pos.y * mpl.ratio;\n",
       "\n",
       "    this.send_message(name, {x: x, y: y, button: event.button,\n",
       "                             step: event.step,\n",
       "                             guiEvent: simpleKeys(event)});\n",
       "\n",
       "    /* This prevents the web browser from automatically changing to\n",
       "     * the text insertion cursor when the button is pressed.  We want\n",
       "     * to control all of the cursor setting manually through the\n",
       "     * 'cursor' event from matplotlib */\n",
       "    event.preventDefault();\n",
       "    return false;\n",
       "}\n",
       "\n",
       "mpl.figure.prototype._key_event_extra = function(event, name) {\n",
       "    // Handle any extra behaviour associated with a key event\n",
       "}\n",
       "\n",
       "mpl.figure.prototype.key_event = function(event, name) {\n",
       "\n",
       "    // Prevent repeat events\n",
       "    if (name == 'key_press')\n",
       "    {\n",
       "        if (event.which === this._key)\n",
       "            return;\n",
       "        else\n",
       "            this._key = event.which;\n",
       "    }\n",
       "    if (name == 'key_release')\n",
       "        this._key = null;\n",
       "\n",
       "    var value = '';\n",
       "    if (event.ctrlKey && event.which != 17)\n",
       "        value += \"ctrl+\";\n",
       "    if (event.altKey && event.which != 18)\n",
       "        value += \"alt+\";\n",
       "    if (event.shiftKey && event.which != 16)\n",
       "        value += \"shift+\";\n",
       "\n",
       "    value += 'k';\n",
       "    value += event.which.toString();\n",
       "\n",
       "    this._key_event_extra(event, name);\n",
       "\n",
       "    this.send_message(name, {key: value,\n",
       "                             guiEvent: simpleKeys(event)});\n",
       "    return false;\n",
       "}\n",
       "\n",
       "mpl.figure.prototype.toolbar_button_onclick = function(name) {\n",
       "    if (name == 'download') {\n",
       "        this.handle_save(this, null);\n",
       "    } else {\n",
       "        this.send_message(\"toolbar_button\", {name: name});\n",
       "    }\n",
       "};\n",
       "\n",
       "mpl.figure.prototype.toolbar_button_onmouseover = function(tooltip) {\n",
       "    this.message.textContent = tooltip;\n",
       "};\n",
       "mpl.toolbar_items = [[\"Home\", \"Reset original view\", \"fa fa-home icon-home\", \"home\"], [\"Back\", \"Back to  previous view\", \"fa fa-arrow-left icon-arrow-left\", \"back\"], [\"Forward\", \"Forward to next view\", \"fa fa-arrow-right icon-arrow-right\", \"forward\"], [\"\", \"\", \"\", \"\"], [\"Pan\", \"Pan axes with left mouse, zoom with right\", \"fa fa-arrows icon-move\", \"pan\"], [\"Zoom\", \"Zoom to rectangle\", \"fa fa-square-o icon-check-empty\", \"zoom\"], [\"\", \"\", \"\", \"\"], [\"Download\", \"Download plot\", \"fa fa-floppy-o icon-save\", \"download\"]];\n",
       "\n",
       "mpl.extensions = [\"eps\", \"jpeg\", \"pdf\", \"png\", \"ps\", \"raw\", \"svg\", \"tif\"];\n",
       "\n",
       "mpl.default_extension = \"png\";var comm_websocket_adapter = function(comm) {\n",
       "    // Create a \"websocket\"-like object which calls the given IPython comm\n",
       "    // object with the appropriate methods. Currently this is a non binary\n",
       "    // socket, so there is still some room for performance tuning.\n",
       "    var ws = {};\n",
       "\n",
       "    ws.close = function() {\n",
       "        comm.close()\n",
       "    };\n",
       "    ws.send = function(m) {\n",
       "        //console.log('sending', m);\n",
       "        comm.send(m);\n",
       "    };\n",
       "    // Register the callback with on_msg.\n",
       "    comm.on_msg(function(msg) {\n",
       "        //console.log('receiving', msg['content']['data'], msg);\n",
       "        // Pass the mpl event to the overridden (by mpl) onmessage function.\n",
       "        ws.onmessage(msg['content']['data'])\n",
       "    });\n",
       "    return ws;\n",
       "}\n",
       "\n",
       "mpl.mpl_figure_comm = function(comm, msg) {\n",
       "    // This is the function which gets called when the mpl process\n",
       "    // starts-up an IPython Comm through the \"matplotlib\" channel.\n",
       "\n",
       "    var id = msg.content.data.id;\n",
       "    // Get hold of the div created by the display call when the Comm\n",
       "    // socket was opened in Python.\n",
       "    var element = $(\"#\" + id);\n",
       "    var ws_proxy = comm_websocket_adapter(comm)\n",
       "\n",
       "    function ondownload(figure, format) {\n",
       "        window.open(figure.imageObj.src);\n",
       "    }\n",
       "\n",
       "    var fig = new mpl.figure(id, ws_proxy,\n",
       "                           ondownload,\n",
       "                           element.get(0));\n",
       "\n",
       "    // Call onopen now - mpl needs it, as it is assuming we've passed it a real\n",
       "    // web socket which is closed, not our websocket->open comm proxy.\n",
       "    ws_proxy.onopen();\n",
       "\n",
       "    fig.parent_element = element.get(0);\n",
       "    fig.cell_info = mpl.find_output_cell(\"<div id='\" + id + \"'></div>\");\n",
       "    if (!fig.cell_info) {\n",
       "        console.error(\"Failed to find cell for figure\", id, fig);\n",
       "        return;\n",
       "    }\n",
       "\n",
       "    var output_index = fig.cell_info[2]\n",
       "    var cell = fig.cell_info[0];\n",
       "\n",
       "};\n",
       "\n",
       "mpl.figure.prototype.handle_close = function(fig, msg) {\n",
       "    var width = fig.canvas.width/mpl.ratio\n",
       "    fig.root.unbind('remove')\n",
       "\n",
       "    // Update the output cell to use the data from the current canvas.\n",
       "    fig.push_to_output();\n",
       "    var dataURL = fig.canvas.toDataURL();\n",
       "    // Re-enable the keyboard manager in IPython - without this line, in FF,\n",
       "    // the notebook keyboard shortcuts fail.\n",
       "    IPython.keyboard_manager.enable()\n",
       "    $(fig.parent_element).html('<img src=\"' + dataURL + '\" width=\"' + width + '\">');\n",
       "    fig.close_ws(fig, msg);\n",
       "}\n",
       "\n",
       "mpl.figure.prototype.close_ws = function(fig, msg){\n",
       "    fig.send_message('closing', msg);\n",
       "    // fig.ws.close()\n",
       "}\n",
       "\n",
       "mpl.figure.prototype.push_to_output = function(remove_interactive) {\n",
       "    // Turn the data on the canvas into data in the output cell.\n",
       "    var width = this.canvas.width/mpl.ratio\n",
       "    var dataURL = this.canvas.toDataURL();\n",
       "    this.cell_info[1]['text/html'] = '<img src=\"' + dataURL + '\" width=\"' + width + '\">';\n",
       "}\n",
       "\n",
       "mpl.figure.prototype.updated_canvas_event = function() {\n",
       "    // Tell IPython that the notebook contents must change.\n",
       "    IPython.notebook.set_dirty(true);\n",
       "    this.send_message(\"ack\", {});\n",
       "    var fig = this;\n",
       "    // Wait a second, then push the new image to the DOM so\n",
       "    // that it is saved nicely (might be nice to debounce this).\n",
       "    setTimeout(function () { fig.push_to_output() }, 1000);\n",
       "}\n",
       "\n",
       "mpl.figure.prototype._init_toolbar = function() {\n",
       "    var fig = this;\n",
       "\n",
       "    var nav_element = $('<div/>')\n",
       "    nav_element.attr('style', 'width: 100%');\n",
       "    this.root.append(nav_element);\n",
       "\n",
       "    // Define a callback function for later on.\n",
       "    function toolbar_event(event) {\n",
       "        return fig.toolbar_button_onclick(event['data']);\n",
       "    }\n",
       "    function toolbar_mouse_event(event) {\n",
       "        return fig.toolbar_button_onmouseover(event['data']);\n",
       "    }\n",
       "\n",
       "    for(var toolbar_ind in mpl.toolbar_items){\n",
       "        var name = mpl.toolbar_items[toolbar_ind][0];\n",
       "        var tooltip = mpl.toolbar_items[toolbar_ind][1];\n",
       "        var image = mpl.toolbar_items[toolbar_ind][2];\n",
       "        var method_name = mpl.toolbar_items[toolbar_ind][3];\n",
       "\n",
       "        if (!name) { continue; };\n",
       "\n",
       "        var button = $('<button class=\"btn btn-default\" href=\"#\" title=\"' + name + '\"><i class=\"fa ' + image + ' fa-lg\"></i></button>');\n",
       "        button.click(method_name, toolbar_event);\n",
       "        button.mouseover(tooltip, toolbar_mouse_event);\n",
       "        nav_element.append(button);\n",
       "    }\n",
       "\n",
       "    // Add the status bar.\n",
       "    var status_bar = $('<span class=\"mpl-message\" style=\"text-align:right; float: right;\"/>');\n",
       "    nav_element.append(status_bar);\n",
       "    this.message = status_bar[0];\n",
       "\n",
       "    // Add the close button to the window.\n",
       "    var buttongrp = $('<div class=\"btn-group inline pull-right\"></div>');\n",
       "    var button = $('<button class=\"btn btn-mini btn-primary\" href=\"#\" title=\"Stop Interaction\"><i class=\"fa fa-power-off icon-remove icon-large\"></i></button>');\n",
       "    button.click(function (evt) { fig.handle_close(fig, {}); } );\n",
       "    button.mouseover('Stop Interaction', toolbar_mouse_event);\n",
       "    buttongrp.append(button);\n",
       "    var titlebar = this.root.find($('.ui-dialog-titlebar'));\n",
       "    titlebar.prepend(buttongrp);\n",
       "}\n",
       "\n",
       "mpl.figure.prototype._root_extra_style = function(el){\n",
       "    var fig = this\n",
       "    el.on(\"remove\", function(){\n",
       "\tfig.close_ws(fig, {});\n",
       "    });\n",
       "}\n",
       "\n",
       "mpl.figure.prototype._canvas_extra_style = function(el){\n",
       "    // this is important to make the div 'focusable\n",
       "    el.attr('tabindex', 0)\n",
       "    // reach out to IPython and tell the keyboard manager to turn it's self\n",
       "    // off when our div gets focus\n",
       "\n",
       "    // location in version 3\n",
       "    if (IPython.notebook.keyboard_manager) {\n",
       "        IPython.notebook.keyboard_manager.register_events(el);\n",
       "    }\n",
       "    else {\n",
       "        // location in version 2\n",
       "        IPython.keyboard_manager.register_events(el);\n",
       "    }\n",
       "\n",
       "}\n",
       "\n",
       "mpl.figure.prototype._key_event_extra = function(event, name) {\n",
       "    var manager = IPython.notebook.keyboard_manager;\n",
       "    if (!manager)\n",
       "        manager = IPython.keyboard_manager;\n",
       "\n",
       "    // Check for shift+enter\n",
       "    if (event.shiftKey && event.which == 13) {\n",
       "        this.canvas_div.blur();\n",
       "        event.shiftKey = false;\n",
       "        // Send a \"J\" for go to next cell\n",
       "        event.which = 74;\n",
       "        event.keyCode = 74;\n",
       "        manager.command_mode();\n",
       "        manager.handle_keydown(event);\n",
       "    }\n",
       "}\n",
       "\n",
       "mpl.figure.prototype.handle_save = function(fig, msg) {\n",
       "    fig.ondownload(fig, null);\n",
       "}\n",
       "\n",
       "\n",
       "mpl.find_output_cell = function(html_output) {\n",
       "    // Return the cell and output element which can be found *uniquely* in the notebook.\n",
       "    // Note - this is a bit hacky, but it is done because the \"notebook_saving.Notebook\"\n",
       "    // IPython event is triggered only after the cells have been serialised, which for\n",
       "    // our purposes (turning an active figure into a static one), is too late.\n",
       "    var cells = IPython.notebook.get_cells();\n",
       "    var ncells = cells.length;\n",
       "    for (var i=0; i<ncells; i++) {\n",
       "        var cell = cells[i];\n",
       "        if (cell.cell_type === 'code'){\n",
       "            for (var j=0; j<cell.output_area.outputs.length; j++) {\n",
       "                var data = cell.output_area.outputs[j];\n",
       "                if (data.data) {\n",
       "                    // IPython >= 3 moved mimebundle to data attribute of output\n",
       "                    data = data.data;\n",
       "                }\n",
       "                if (data['text/html'] == html_output) {\n",
       "                    return [cell, data, j];\n",
       "                }\n",
       "            }\n",
       "        }\n",
       "    }\n",
       "}\n",
       "\n",
       "// Register the function which deals with the matplotlib target/channel.\n",
       "// The kernel may be null if the page has been refreshed.\n",
       "if (IPython.notebook.kernel != null) {\n",
       "    IPython.notebook.kernel.comm_manager.register_target('matplotlib', mpl.mpl_figure_comm);\n",
       "}\n"
      ],
      "text/plain": [
       "<IPython.core.display.Javascript object>"
      ]
     },
     "metadata": {},
     "output_type": "display_data"
    },
    {
     "data": {
      "text/html": [
       "<img src=\"data:image/png;base64,iVBORw0KGgoAAAANSUhEUgAAA4QAAAJYCAYAAAA6xSjbAAAIRElEQVR4nO3BMQEAAADCoPVPbQsvoAAAAAAAAAAAAAAAAAAAAAAAAAAAAAAAAAAAAAAAAAAAAAAAAAAAAAAAAAAAAAAAAAAAAAAAAAAAAAAAAAAAAAAAAAAAAAAAAAAAAAAAAAAAAAAAAAAAAAAAAAAAAAAAAAAAAAAAAAAAAAAAAAAAAAAAAAAAAAAAAAAAAAAAAAAAAAAAAAAAAAAAAAAAAAAAAAAAAAAAAAAAAAAAAAAAAAAAAAAAAAAAAAAAAAAAAAAAAAAAAAAAAAAAAAAAAAAAAAAAAAAAAAAAAAAAAAAAAAAAAAAAAAAAAAAAAAAAAAAAAAAAAAAAAAAAAAAAAAAAAAAAAAAAAAAAAAAAAAAAAAAAAAAAAAAAAAAAAAAAAAAAAAAAAAAAAAAAAAAAAAAAAAAAAAAAAAAAAAAAAAAAAAAAAAAAAAAAAAAAAAAAAAAAAAAAAAAAAAAAAAAAAAAAAAAAAAAAAAAAAAAAAAAAAAAAAAAAAAAAAAAAAAAAAAAAAAAAAAAAAAAAAAAAAAAAAAAAAAAAAAAAAAAAAAAAAAAAAAAAAAAAAAAAAAAAAAAAAAAAAAAAAAAAAAAAAAAAAAAAAAAAAAAAAAAAAAAAAAAAAAAAAAAAAAAAAAAAAAAAAAAAAAAAAAAAAAAAAAAAAAAAAAAAAAAAAAAAAAAAAAAAAAAAAAAAAAAAAAAAAAAAAAAAAAAAAAAAAAAAAAAAAAAAAAAAAAAAAAAAAAAAAAAAAAAAAAAAAAAAAAAAAAAAAAAAAAAAAAAAAAAAAAAAAAAAAAAAAAAAAAAAAAAAAAAAAAAAAAAAAAAAAAAAAAAAAAAAAAAAAAAAAAAAAAAAAAAAAAAAAAAAAAAAAAAAAAAAAAAAAAAAAAAAAAAAAAAAAAAAAAAAAAAAAAAAAAAAAAAAAAAAAAAAAAAAAAAAAAAAAAAAAAAAAAAAAAAAAAAAAAAAAAAAAAAAAAAAAAAAAAAAAAAAAAAAAAAAAAAAAAAAAAAAAAAAAAAAAAAAAAAAAAAAAAAAAAAAAAAAAAAAAAAAAAAAAAAAAAAAAAAAAAAAAAAAAAAAAAAAAAAAAAAAAAAAAAAAAAAAAAAAAAAAAAAAAAAAAAAAAAAAAAAAAAAAAAAAAAAAAAAAAAAAAAAAAAAAAAAAAAAAAAAAAAAAAAAAAAAAAAAAAAAAAAAAAAAAAAAAAAAAAAAAAAAAAAAAAAAAAAAAAAAAAAAAAAAAAAAAAAAAAAAAAAAAAAAAAAAAAAAAAAAAAAAAAAAAAAAAAAAAAAAAAAAAAAAAAAAAAAAAAAAAAAAAAAAAAAAAAAAAAAAAAAAAAAAAAAAAAAAAAAAAAAAAAAAAAAAAAAAAAAAAAAAAAAAAAAAAAAAAAAAAAAAAAAAAAAAAAAAAAAAAAAAAAAAAAAAAAAAAAAAAAAAAAAAAAAAAAAAAAAAAAAAAAAAAAAAAAAAAAAAAAAAAAAAAAAAAAAAAAAAAAAAAAAAAAAAAAAAAAAAAAAAAAAAAAAAAAAAAAAAAAAAAAAAAAAAAAAAAAAAAAAAAAAAAAAAAAAAAAAAAAAAAAAAAAAAAAAAAAAAAAAAAAAAAAAAAAAAAAAAAAAAAAAAAAAAAAAAAAAAAAAAAAAAAAAAAAAAAAAAAAAAAAAAAAAAAAAAAAAAAAAAAAAAAAAAAAAAAAAAAAAAAAAAAAAAAAAAAAAAAAAAAAAAAAAAAAAAAAAAAAAAAAAAAAAAAAAAAAAAAAAAAAAAAAAAAAAAAAAAAAAAAAAAAAAAAAAAAAAAAAAAAAAAAAAAAAAAAAAAAAAAAAAAAAAAAAAAAAAAAAAAAAAAAAAAAAAAAAAAAAAAAAAAAAAAAAAAAAAAAAAAAAAAAAAAAAAAAAAAAAAAAAAAAAAAAAAAAAAAAAAAAAAAAAAAAAAAAAAAAAAAAAAAAAAAAAAAAAAAAAAAAAAAAAAAAAAAAAAAAAAAAAAAAAAAAAAAAAAAAAAAAAAAAAAAAAAAAAAAAAAAAAAAAAAAAAAAAAAAAAAAAAAAAAAAAAAAAAAAAAAAAAAAAAAAAAAAAAAAAAAAAAAAAAAAAAAAAAAAAAAAAAAAAAAAAAAAAAAAAAAAAAAAAAAAAAAAAAAAAAAAAAAAAAAAAAAAAAAAAAAAAAAAAAAAAAAAAAAAAAAAAAAAAAAAAAAAAAAAAAAAAAAAAAAAAAAAAAAAAAAAAAAAAAAAAAAAAAAAAAAAAAAAAAAAAAAAAAAAAAAAAAAAAAAAAAAAAAAAAAAAAAAAAAAAAAAAAAAAAAAAAAAAAAAAAAAAAAAAAAAAAAAAAAAAAAAAAAAAAAAAAAAAAAAAAAAAAAAAAAAAAAAAAAAAAAAAAAAAAAAAAAAAAAAAAAAAAAAAAAAAAAAAAAAAAAAAAAAAAAAAAAAAAAAAAAAAAAAAAAAAAAAAAAAAAAAAAAAAAAAAAAAAAAAAAAAAAAAAAAAAAAAAAAAAAAAAAAAAAAAAAAAAAAAAAAAAAAAAAAAAAAAAAAAAAAAAAAAAAAAAAAAAAAAAAAAAAAAAAAAAAAAAAAAAAAAAAAAAAAAAAAAAAAAAAAAAAAAAAAAAAAAAAAAAAAAAAAAAAAAAAAAAAAAAAAAAAAAAAAAAAAAAAAAAAAAAAAAAAAAAAAAAAAAAAAAAAAAAAAAAAAAAAAAAAAAAAAAAAAAAAAAAAAAAAAAAAAAAAAAAAAAAAAAAAAAAAAAAAAAAAAAAAAAAAAAAAAAAAAAAAAAAAAAAAAAAAAAAAAAAAAAAAAAAAAAAAAAAAAAAAAAAAAAAAAAAAAAAAAAAA4Gf5uAABkHuu4AAAAABJRU5ErkJggg==\" width=\"900\">"
      ],
      "text/plain": [
       "<IPython.core.display.HTML object>"
      ]
     },
     "metadata": {},
     "output_type": "display_data"
    }
   ],
   "source": [
    "import matplotlib.pyplot as plt\n",
    "import matplotlib.patches as mpatches\n",
    "from statsmodels.tsa.seasonal import seasonal_decompose\n",
    "from matplotlib import rc\n",
    "import seaborn as sns\n",
    "from statsmodels.tsa.seasonal import seasonal_decompose\n",
    "\n",
    "%matplotlib notebook\n",
    "\n",
    "#sns.set_style('whitegrid')\n",
    "sns.set_style('dark')\n",
    "\n",
    "iStartYear=2013\n",
    "\n",
    "country1=[CarDataFrame(sales_ru), CarDataFrame(sales_ukraine), CarDataFrame(sales_poland)]\n",
    "country2=[CarDataFrame(sales_germany), CarDataFrame(sales_uk), CarDataFrame(sales_france)]\n",
    "country3=[CarDataFrame(sales_china), CarDataFrame(sales_usa), CarDataFrame(sales_japan)]\n",
    "country4=[CarDataFrame(sales_india), CarDataFrame(sales_brazil), CarDataFrame(sales_sar)]\n",
    "\n",
    "\n",
    "def plot_triple(frames, names, colors, mst=1e4):\n",
    "\n",
    "    lst1=[pdf.to_datetime()[pdf['date'].dt.year >=iStartYear].groupby(pd.Grouper(key='date', freq='M'))['Count'].sum()/mst for pdf in frames]\n",
    "    lst1[0].name=names[0]\n",
    "    lst1[1].name=names[1]\n",
    "    lst1[2].name=names[2]\n",
    "    ax0, ax1, ax2=pd.concat(lst1, axis=1).plot.line(subplots=True, sharex=True, figsize=(9, 6), \n",
    "                                                    color=colors, rot=0, fontsize=8, lw=4, alpha=0.5, legend=False)\n",
    "\n",
    "    ax0.set_title(names[0], fontsize=10, color=colors[0])\n",
    "    pdfRu_trend=seasonal_decompose(lst1[0], model='additive', freq=12).trend\n",
    "    pdfRu_trend.plot.line(ax=ax0, legend=False, color=colors[0], grid=True, fontsize=10, lw=1)\n",
    "\n",
    "\n",
    "    ax1.set_title(names[1], fontsize=10, color=colors[1])\n",
    "    pdfUkr_trend=seasonal_decompose(lst1[1], model='additive', freq=12).trend\n",
    "    pdfUkr_trend.plot.line(ax=ax1, legend=False, color=colors[1], grid=True, fontsize=10, lw=1)\n",
    "\n",
    "    ax2.set_title(names[2], fontsize=10, color=colors[2])\n",
    "    pdfPol_trend=seasonal_decompose(lst1[2], model='additive', freq=12).trend\n",
    "    pdfPol_trend.plot.line(ax=ax2, legend=False, color=colors[2], grid=True, fontsize=10, lw=1)\n",
    "\n",
    "    ax0.tick_params(axis='both', which='major', labelsize=8)\n",
    "    ax1.tick_params(axis='both', which='major', labelsize=8)\n",
    "    ax2.tick_params(axis='both', which='major', labelsize=8)\n",
    "    ax2.set_xlabel('Date', fontsize=8)\n",
    "    plt.tight_layout()\n",
    "    \n",
    "    st=plt.gcf().suptitle('Car sales, {:.0f} cars'.format(mst), fontsize=12, color='maroon', weight='bold')\n",
    "    plt.gcf().subplots_adjust(top=0.9)\n",
    "    plt.show();\n",
    "    return plt\n",
    "\n",
    "plot_triple(country1, ['Russia', 'Ukraine', 'Poland'], ['navy', 'orange', 'darkred']).savefig(r'/home/egor/Изображения/car_sales_ru-ukr-pol.png')"
   ]
  },
  {
   "cell_type": "code",
   "execution_count": 20,
   "metadata": {},
   "outputs": [
    {
     "ename": "NonGuiException",
     "evalue": "",
     "output_type": "error",
     "traceback": [
      "\u001b[0;31m---------------------------------------------------------------------------\u001b[0m",
      "\u001b[0;31mNonGuiException\u001b[0m                           Traceback (most recent call last)",
      "\u001b[0;32m<ipython-input-20-20fbe262c089>\u001b[0m in \u001b[0;36m<module>\u001b[0;34m()\u001b[0m\n\u001b[0;32m----> 1\u001b[0;31m \u001b[0mplot_triple\u001b[0m\u001b[0;34m(\u001b[0m\u001b[0mcountry2\u001b[0m\u001b[0;34m,\u001b[0m \u001b[0;34m[\u001b[0m\u001b[0;34m'Germany'\u001b[0m\u001b[0;34m,\u001b[0m \u001b[0;34m'United Kingdom'\u001b[0m\u001b[0;34m,\u001b[0m \u001b[0;34m'France'\u001b[0m\u001b[0;34m]\u001b[0m\u001b[0;34m,\u001b[0m \u001b[0;34m[\u001b[0m\u001b[0;34m'black'\u001b[0m\u001b[0;34m,\u001b[0m \u001b[0;34m'red'\u001b[0m\u001b[0;34m,\u001b[0m \u001b[0;34m'blue'\u001b[0m\u001b[0;34m]\u001b[0m\u001b[0;34m)\u001b[0m\u001b[0;34m.\u001b[0m\u001b[0msavefig\u001b[0m\u001b[0;34m(\u001b[0m\u001b[0;34mr'/home/egor/Изображения/car_sales_ger_uk_fra.png'\u001b[0m\u001b[0;34m)\u001b[0m\u001b[0;34m\u001b[0m\u001b[0m\n\u001b[0m",
      "\u001b[0;32m<ipython-input-19-3001ccc55288>\u001b[0m in \u001b[0;36mplot_triple\u001b[0;34m(frames, names, colors, mst)\u001b[0m\n\u001b[1;32m     26\u001b[0m     \u001b[0mlst1\u001b[0m\u001b[0;34m[\u001b[0m\u001b[0;36m2\u001b[0m\u001b[0;34m]\u001b[0m\u001b[0;34m.\u001b[0m\u001b[0mname\u001b[0m\u001b[0;34m=\u001b[0m\u001b[0mnames\u001b[0m\u001b[0;34m[\u001b[0m\u001b[0;36m2\u001b[0m\u001b[0;34m]\u001b[0m\u001b[0;34m\u001b[0m\u001b[0m\n\u001b[1;32m     27\u001b[0m     ax0, ax1, ax2=pd.concat(lst1, axis=1).plot.line(subplots=True, sharex=True, figsize=(9, 6), \n\u001b[0;32m---> 28\u001b[0;31m                                                     color=colors, rot=0, fontsize=8, lw=4, alpha=0.5, legend=False)\n\u001b[0m\u001b[1;32m     29\u001b[0m \u001b[0;34m\u001b[0m\u001b[0m\n\u001b[1;32m     30\u001b[0m     \u001b[0max0\u001b[0m\u001b[0;34m.\u001b[0m\u001b[0mset_title\u001b[0m\u001b[0;34m(\u001b[0m\u001b[0mnames\u001b[0m\u001b[0;34m[\u001b[0m\u001b[0;36m0\u001b[0m\u001b[0;34m]\u001b[0m\u001b[0;34m,\u001b[0m \u001b[0mfontsize\u001b[0m\u001b[0;34m=\u001b[0m\u001b[0;36m10\u001b[0m\u001b[0;34m,\u001b[0m \u001b[0mcolor\u001b[0m\u001b[0;34m=\u001b[0m\u001b[0mcolors\u001b[0m\u001b[0;34m[\u001b[0m\u001b[0;36m0\u001b[0m\u001b[0;34m]\u001b[0m\u001b[0;34m)\u001b[0m\u001b[0;34m\u001b[0m\u001b[0m\n",
      "\u001b[0;32m~/anaconda3/lib/python3.6/site-packages/pandas/plotting/_core.py\u001b[0m in \u001b[0;36mline\u001b[0;34m(self, x, y, **kwds)\u001b[0m\n\u001b[1;32m   3003\u001b[0m             \u001b[0;34m>>\u001b[0m\u001b[0;34m>\u001b[0m \u001b[0mlines\u001b[0m \u001b[0;34m=\u001b[0m \u001b[0mdf\u001b[0m\u001b[0;34m.\u001b[0m\u001b[0mplot\u001b[0m\u001b[0;34m.\u001b[0m\u001b[0mline\u001b[0m\u001b[0;34m(\u001b[0m\u001b[0mx\u001b[0m\u001b[0;34m=\u001b[0m\u001b[0;34m'pig'\u001b[0m\u001b[0;34m,\u001b[0m \u001b[0my\u001b[0m\u001b[0;34m=\u001b[0m\u001b[0;34m'horse'\u001b[0m\u001b[0;34m)\u001b[0m\u001b[0;34m\u001b[0m\u001b[0m\n\u001b[1;32m   3004\u001b[0m         \"\"\"\n\u001b[0;32m-> 3005\u001b[0;31m         \u001b[0;32mreturn\u001b[0m \u001b[0mself\u001b[0m\u001b[0;34m(\u001b[0m\u001b[0mkind\u001b[0m\u001b[0;34m=\u001b[0m\u001b[0;34m'line'\u001b[0m\u001b[0;34m,\u001b[0m \u001b[0mx\u001b[0m\u001b[0;34m=\u001b[0m\u001b[0mx\u001b[0m\u001b[0;34m,\u001b[0m \u001b[0my\u001b[0m\u001b[0;34m=\u001b[0m\u001b[0my\u001b[0m\u001b[0;34m,\u001b[0m \u001b[0;34m**\u001b[0m\u001b[0mkwds\u001b[0m\u001b[0;34m)\u001b[0m\u001b[0;34m\u001b[0m\u001b[0m\n\u001b[0m\u001b[1;32m   3006\u001b[0m \u001b[0;34m\u001b[0m\u001b[0m\n\u001b[1;32m   3007\u001b[0m     \u001b[0;32mdef\u001b[0m \u001b[0mbar\u001b[0m\u001b[0;34m(\u001b[0m\u001b[0mself\u001b[0m\u001b[0;34m,\u001b[0m \u001b[0mx\u001b[0m\u001b[0;34m=\u001b[0m\u001b[0;32mNone\u001b[0m\u001b[0;34m,\u001b[0m \u001b[0my\u001b[0m\u001b[0;34m=\u001b[0m\u001b[0;32mNone\u001b[0m\u001b[0;34m,\u001b[0m \u001b[0;34m**\u001b[0m\u001b[0mkwds\u001b[0m\u001b[0;34m)\u001b[0m\u001b[0;34m:\u001b[0m\u001b[0;34m\u001b[0m\u001b[0m\n",
      "\u001b[0;32m~/anaconda3/lib/python3.6/site-packages/pandas/plotting/_core.py\u001b[0m in \u001b[0;36m__call__\u001b[0;34m(self, x, y, kind, ax, subplots, sharex, sharey, layout, figsize, use_index, title, grid, legend, style, logx, logy, loglog, xticks, yticks, xlim, ylim, rot, fontsize, colormap, table, yerr, xerr, secondary_y, sort_columns, **kwds)\u001b[0m\n\u001b[1;32m   2939\u001b[0m                           \u001b[0mfontsize\u001b[0m\u001b[0;34m=\u001b[0m\u001b[0mfontsize\u001b[0m\u001b[0;34m,\u001b[0m \u001b[0mcolormap\u001b[0m\u001b[0;34m=\u001b[0m\u001b[0mcolormap\u001b[0m\u001b[0;34m,\u001b[0m \u001b[0mtable\u001b[0m\u001b[0;34m=\u001b[0m\u001b[0mtable\u001b[0m\u001b[0;34m,\u001b[0m\u001b[0;34m\u001b[0m\u001b[0m\n\u001b[1;32m   2940\u001b[0m                           \u001b[0myerr\u001b[0m\u001b[0;34m=\u001b[0m\u001b[0myerr\u001b[0m\u001b[0;34m,\u001b[0m \u001b[0mxerr\u001b[0m\u001b[0;34m=\u001b[0m\u001b[0mxerr\u001b[0m\u001b[0;34m,\u001b[0m \u001b[0msecondary_y\u001b[0m\u001b[0;34m=\u001b[0m\u001b[0msecondary_y\u001b[0m\u001b[0;34m,\u001b[0m\u001b[0;34m\u001b[0m\u001b[0m\n\u001b[0;32m-> 2941\u001b[0;31m                           sort_columns=sort_columns, **kwds)\n\u001b[0m\u001b[1;32m   2942\u001b[0m     \u001b[0m__call__\u001b[0m\u001b[0;34m.\u001b[0m\u001b[0m__doc__\u001b[0m \u001b[0;34m=\u001b[0m \u001b[0mplot_frame\u001b[0m\u001b[0;34m.\u001b[0m\u001b[0m__doc__\u001b[0m\u001b[0;34m\u001b[0m\u001b[0m\n\u001b[1;32m   2943\u001b[0m \u001b[0;34m\u001b[0m\u001b[0m\n",
      "\u001b[0;32m~/anaconda3/lib/python3.6/site-packages/pandas/plotting/_core.py\u001b[0m in \u001b[0;36mplot_frame\u001b[0;34m(data, x, y, kind, ax, subplots, sharex, sharey, layout, figsize, use_index, title, grid, legend, style, logx, logy, loglog, xticks, yticks, xlim, ylim, rot, fontsize, colormap, table, yerr, xerr, secondary_y, sort_columns, **kwds)\u001b[0m\n\u001b[1;32m   1975\u001b[0m                  \u001b[0myerr\u001b[0m\u001b[0;34m=\u001b[0m\u001b[0myerr\u001b[0m\u001b[0;34m,\u001b[0m \u001b[0mxerr\u001b[0m\u001b[0;34m=\u001b[0m\u001b[0mxerr\u001b[0m\u001b[0;34m,\u001b[0m\u001b[0;34m\u001b[0m\u001b[0m\n\u001b[1;32m   1976\u001b[0m                  \u001b[0msecondary_y\u001b[0m\u001b[0;34m=\u001b[0m\u001b[0msecondary_y\u001b[0m\u001b[0;34m,\u001b[0m \u001b[0msort_columns\u001b[0m\u001b[0;34m=\u001b[0m\u001b[0msort_columns\u001b[0m\u001b[0;34m,\u001b[0m\u001b[0;34m\u001b[0m\u001b[0m\n\u001b[0;32m-> 1977\u001b[0;31m                  **kwds)\n\u001b[0m\u001b[1;32m   1978\u001b[0m \u001b[0;34m\u001b[0m\u001b[0m\n\u001b[1;32m   1979\u001b[0m \u001b[0;34m\u001b[0m\u001b[0m\n",
      "\u001b[0;32m~/anaconda3/lib/python3.6/site-packages/pandas/plotting/_core.py\u001b[0m in \u001b[0;36m_plot\u001b[0;34m(data, x, y, subplots, ax, kind, **kwds)\u001b[0m\n\u001b[1;32m   1802\u001b[0m         \u001b[0mplot_obj\u001b[0m \u001b[0;34m=\u001b[0m \u001b[0mklass\u001b[0m\u001b[0;34m(\u001b[0m\u001b[0mdata\u001b[0m\u001b[0;34m,\u001b[0m \u001b[0msubplots\u001b[0m\u001b[0;34m=\u001b[0m\u001b[0msubplots\u001b[0m\u001b[0;34m,\u001b[0m \u001b[0max\u001b[0m\u001b[0;34m=\u001b[0m\u001b[0max\u001b[0m\u001b[0;34m,\u001b[0m \u001b[0mkind\u001b[0m\u001b[0;34m=\u001b[0m\u001b[0mkind\u001b[0m\u001b[0;34m,\u001b[0m \u001b[0;34m**\u001b[0m\u001b[0mkwds\u001b[0m\u001b[0;34m)\u001b[0m\u001b[0;34m\u001b[0m\u001b[0m\n\u001b[1;32m   1803\u001b[0m \u001b[0;34m\u001b[0m\u001b[0m\n\u001b[0;32m-> 1804\u001b[0;31m     \u001b[0mplot_obj\u001b[0m\u001b[0;34m.\u001b[0m\u001b[0mgenerate\u001b[0m\u001b[0;34m(\u001b[0m\u001b[0;34m)\u001b[0m\u001b[0;34m\u001b[0m\u001b[0m\n\u001b[0m\u001b[1;32m   1805\u001b[0m     \u001b[0mplot_obj\u001b[0m\u001b[0;34m.\u001b[0m\u001b[0mdraw\u001b[0m\u001b[0;34m(\u001b[0m\u001b[0;34m)\u001b[0m\u001b[0;34m\u001b[0m\u001b[0m\n\u001b[1;32m   1806\u001b[0m     \u001b[0;32mreturn\u001b[0m \u001b[0mplot_obj\u001b[0m\u001b[0;34m.\u001b[0m\u001b[0mresult\u001b[0m\u001b[0;34m\u001b[0m\u001b[0m\n",
      "\u001b[0;32m~/anaconda3/lib/python3.6/site-packages/pandas/plotting/_core.py\u001b[0m in \u001b[0;36mgenerate\u001b[0;34m(self)\u001b[0m\n\u001b[1;32m    258\u001b[0m         \u001b[0mself\u001b[0m\u001b[0;34m.\u001b[0m\u001b[0m_compute_plot_data\u001b[0m\u001b[0;34m(\u001b[0m\u001b[0;34m)\u001b[0m\u001b[0;34m\u001b[0m\u001b[0m\n\u001b[1;32m    259\u001b[0m         \u001b[0mself\u001b[0m\u001b[0;34m.\u001b[0m\u001b[0m_setup_subplots\u001b[0m\u001b[0;34m(\u001b[0m\u001b[0;34m)\u001b[0m\u001b[0;34m\u001b[0m\u001b[0m\n\u001b[0;32m--> 260\u001b[0;31m         \u001b[0mself\u001b[0m\u001b[0;34m.\u001b[0m\u001b[0m_make_plot\u001b[0m\u001b[0;34m(\u001b[0m\u001b[0;34m)\u001b[0m\u001b[0;34m\u001b[0m\u001b[0m\n\u001b[0m\u001b[1;32m    261\u001b[0m         \u001b[0mself\u001b[0m\u001b[0;34m.\u001b[0m\u001b[0m_add_table\u001b[0m\u001b[0;34m(\u001b[0m\u001b[0;34m)\u001b[0m\u001b[0;34m\u001b[0m\u001b[0m\n\u001b[1;32m    262\u001b[0m         \u001b[0mself\u001b[0m\u001b[0;34m.\u001b[0m\u001b[0m_make_legend\u001b[0m\u001b[0;34m(\u001b[0m\u001b[0;34m)\u001b[0m\u001b[0;34m\u001b[0m\u001b[0m\n",
      "\u001b[0;32m~/anaconda3/lib/python3.6/site-packages/pandas/plotting/_core.py\u001b[0m in \u001b[0;36m_make_plot\u001b[0;34m(self)\u001b[0m\n\u001b[1;32m    983\u001b[0m                              \u001b[0mstacking_id\u001b[0m\u001b[0;34m=\u001b[0m\u001b[0mstacking_id\u001b[0m\u001b[0;34m,\u001b[0m\u001b[0;34m\u001b[0m\u001b[0m\n\u001b[1;32m    984\u001b[0m                              \u001b[0mis_errorbar\u001b[0m\u001b[0;34m=\u001b[0m\u001b[0mis_errorbar\u001b[0m\u001b[0;34m,\u001b[0m\u001b[0;34m\u001b[0m\u001b[0m\n\u001b[0;32m--> 985\u001b[0;31m                              **kwds)\n\u001b[0m\u001b[1;32m    986\u001b[0m             \u001b[0mself\u001b[0m\u001b[0;34m.\u001b[0m\u001b[0m_add_legend_handle\u001b[0m\u001b[0;34m(\u001b[0m\u001b[0mnewlines\u001b[0m\u001b[0;34m[\u001b[0m\u001b[0;36m0\u001b[0m\u001b[0;34m]\u001b[0m\u001b[0;34m,\u001b[0m \u001b[0mlabel\u001b[0m\u001b[0;34m,\u001b[0m \u001b[0mindex\u001b[0m\u001b[0;34m=\u001b[0m\u001b[0mi\u001b[0m\u001b[0;34m)\u001b[0m\u001b[0;34m\u001b[0m\u001b[0m\n\u001b[1;32m    987\u001b[0m \u001b[0;34m\u001b[0m\u001b[0m\n",
      "\u001b[0;32m~/anaconda3/lib/python3.6/site-packages/pandas/plotting/_core.py\u001b[0m in \u001b[0;36m_ts_plot\u001b[0;34m(cls, ax, x, data, style, **kwds)\u001b[0m\n\u001b[1;32m   1024\u001b[0m         \u001b[0mlines\u001b[0m \u001b[0;34m=\u001b[0m \u001b[0mcls\u001b[0m\u001b[0;34m.\u001b[0m\u001b[0m_plot\u001b[0m\u001b[0;34m(\u001b[0m\u001b[0max\u001b[0m\u001b[0;34m,\u001b[0m \u001b[0mdata\u001b[0m\u001b[0;34m.\u001b[0m\u001b[0mindex\u001b[0m\u001b[0;34m,\u001b[0m \u001b[0mdata\u001b[0m\u001b[0;34m.\u001b[0m\u001b[0mvalues\u001b[0m\u001b[0;34m,\u001b[0m \u001b[0mstyle\u001b[0m\u001b[0;34m=\u001b[0m\u001b[0mstyle\u001b[0m\u001b[0;34m,\u001b[0m \u001b[0;34m**\u001b[0m\u001b[0mkwds\u001b[0m\u001b[0;34m)\u001b[0m\u001b[0;34m\u001b[0m\u001b[0m\n\u001b[1;32m   1025\u001b[0m         \u001b[0;31m# set date formatter, locators and rescale limits\u001b[0m\u001b[0;34m\u001b[0m\u001b[0;34m\u001b[0m\u001b[0m\n\u001b[0;32m-> 1026\u001b[0;31m         \u001b[0mformat_dateaxis\u001b[0m\u001b[0;34m(\u001b[0m\u001b[0max\u001b[0m\u001b[0;34m,\u001b[0m \u001b[0max\u001b[0m\u001b[0;34m.\u001b[0m\u001b[0mfreq\u001b[0m\u001b[0;34m,\u001b[0m \u001b[0mdata\u001b[0m\u001b[0;34m.\u001b[0m\u001b[0mindex\u001b[0m\u001b[0;34m)\u001b[0m\u001b[0;34m\u001b[0m\u001b[0m\n\u001b[0m\u001b[1;32m   1027\u001b[0m         \u001b[0;32mreturn\u001b[0m \u001b[0mlines\u001b[0m\u001b[0;34m\u001b[0m\u001b[0m\n\u001b[1;32m   1028\u001b[0m \u001b[0;34m\u001b[0m\u001b[0m\n",
      "\u001b[0;32m~/anaconda3/lib/python3.6/site-packages/pandas/plotting/_timeseries.py\u001b[0m in \u001b[0;36mformat_dateaxis\u001b[0;34m(subplot, freq, index)\u001b[0m\n\u001b[1;32m    350\u001b[0m         \u001b[0;32mraise\u001b[0m \u001b[0mTypeError\u001b[0m\u001b[0;34m(\u001b[0m\u001b[0;34m'index type not supported'\u001b[0m\u001b[0;34m)\u001b[0m\u001b[0;34m\u001b[0m\u001b[0m\n\u001b[1;32m    351\u001b[0m \u001b[0;34m\u001b[0m\u001b[0m\n\u001b[0;32m--> 352\u001b[0;31m     \u001b[0mpylab\u001b[0m\u001b[0;34m.\u001b[0m\u001b[0mdraw_if_interactive\u001b[0m\u001b[0;34m(\u001b[0m\u001b[0;34m)\u001b[0m\u001b[0;34m\u001b[0m\u001b[0m\n\u001b[0m",
      "\u001b[0;32m~/anaconda3/lib/python3.6/site-packages/IPython/utils/decorators.py\u001b[0m in \u001b[0;36mwrapper\u001b[0;34m(*args, **kw)\u001b[0m\n\u001b[1;32m     41\u001b[0m     \u001b[0;32mdef\u001b[0m \u001b[0mwrapper\u001b[0m\u001b[0;34m(\u001b[0m\u001b[0;34m*\u001b[0m\u001b[0margs\u001b[0m\u001b[0;34m,\u001b[0m\u001b[0;34m**\u001b[0m\u001b[0mkw\u001b[0m\u001b[0;34m)\u001b[0m\u001b[0;34m:\u001b[0m\u001b[0;34m\u001b[0m\u001b[0m\n\u001b[1;32m     42\u001b[0m         \u001b[0mwrapper\u001b[0m\u001b[0;34m.\u001b[0m\u001b[0mcalled\u001b[0m \u001b[0;34m=\u001b[0m \u001b[0;32mFalse\u001b[0m\u001b[0;34m\u001b[0m\u001b[0m\n\u001b[0;32m---> 43\u001b[0;31m         \u001b[0mout\u001b[0m \u001b[0;34m=\u001b[0m \u001b[0mfunc\u001b[0m\u001b[0;34m(\u001b[0m\u001b[0;34m*\u001b[0m\u001b[0margs\u001b[0m\u001b[0;34m,\u001b[0m\u001b[0;34m**\u001b[0m\u001b[0mkw\u001b[0m\u001b[0;34m)\u001b[0m\u001b[0;34m\u001b[0m\u001b[0m\n\u001b[0m\u001b[1;32m     44\u001b[0m         \u001b[0mwrapper\u001b[0m\u001b[0;34m.\u001b[0m\u001b[0mcalled\u001b[0m \u001b[0;34m=\u001b[0m \u001b[0;32mTrue\u001b[0m\u001b[0;34m\u001b[0m\u001b[0m\n\u001b[1;32m     45\u001b[0m         \u001b[0;32mreturn\u001b[0m \u001b[0mout\u001b[0m\u001b[0;34m\u001b[0m\u001b[0m\n",
      "\u001b[0;32m~/anaconda3/lib/python3.6/site-packages/matplotlib/backend_bases.py\u001b[0m in \u001b[0;36mdraw_if_interactive\u001b[0;34m(cls)\u001b[0m\n\u001b[1;32m    174\u001b[0m             \u001b[0mmanager\u001b[0m \u001b[0;34m=\u001b[0m \u001b[0mGcf\u001b[0m\u001b[0;34m.\u001b[0m\u001b[0mget_active\u001b[0m\u001b[0;34m(\u001b[0m\u001b[0;34m)\u001b[0m\u001b[0;34m\u001b[0m\u001b[0m\n\u001b[1;32m    175\u001b[0m             \u001b[0;32mif\u001b[0m \u001b[0mmanager\u001b[0m\u001b[0;34m:\u001b[0m\u001b[0;34m\u001b[0m\u001b[0m\n\u001b[0;32m--> 176\u001b[0;31m                 \u001b[0mcls\u001b[0m\u001b[0;34m.\u001b[0m\u001b[0mtrigger_manager_draw\u001b[0m\u001b[0;34m(\u001b[0m\u001b[0mmanager\u001b[0m\u001b[0;34m)\u001b[0m\u001b[0;34m\u001b[0m\u001b[0m\n\u001b[0m\u001b[1;32m    177\u001b[0m \u001b[0;34m\u001b[0m\u001b[0m\n\u001b[1;32m    178\u001b[0m     \u001b[0;34m@\u001b[0m\u001b[0mclassmethod\u001b[0m\u001b[0;34m\u001b[0m\u001b[0m\n",
      "\u001b[0;32m~/anaconda3/lib/python3.6/site-packages/matplotlib/backends/backend_nbagg.py\u001b[0m in \u001b[0;36mtrigger_manager_draw\u001b[0;34m(manager)\u001b[0m\n\u001b[1;32m    244\u001b[0m     \u001b[0;34m@\u001b[0m\u001b[0mstaticmethod\u001b[0m\u001b[0;34m\u001b[0m\u001b[0m\n\u001b[1;32m    245\u001b[0m     \u001b[0;32mdef\u001b[0m \u001b[0mtrigger_manager_draw\u001b[0m\u001b[0;34m(\u001b[0m\u001b[0mmanager\u001b[0m\u001b[0;34m)\u001b[0m\u001b[0;34m:\u001b[0m\u001b[0;34m\u001b[0m\u001b[0m\n\u001b[0;32m--> 246\u001b[0;31m         \u001b[0mmanager\u001b[0m\u001b[0;34m.\u001b[0m\u001b[0mshow\u001b[0m\u001b[0;34m(\u001b[0m\u001b[0;34m)\u001b[0m\u001b[0;34m\u001b[0m\u001b[0m\n\u001b[0m\u001b[1;32m    247\u001b[0m \u001b[0;34m\u001b[0m\u001b[0m\n\u001b[1;32m    248\u001b[0m     \u001b[0;34m@\u001b[0m\u001b[0mstaticmethod\u001b[0m\u001b[0;34m\u001b[0m\u001b[0m\n",
      "\u001b[0;32m~/anaconda3/lib/python3.6/site-packages/matplotlib/backend_bases.py\u001b[0m in \u001b[0;36mshow\u001b[0;34m(self)\u001b[0m\n\u001b[1;32m   2685\u001b[0m         \u001b[0moptional\u001b[0m \u001b[0mwarning\u001b[0m\u001b[0;34m.\u001b[0m\u001b[0;34m\u001b[0m\u001b[0m\n\u001b[1;32m   2686\u001b[0m         \"\"\"\n\u001b[0;32m-> 2687\u001b[0;31m         \u001b[0;32mraise\u001b[0m \u001b[0mNonGuiException\u001b[0m\u001b[0;34m(\u001b[0m\u001b[0;34m)\u001b[0m\u001b[0;34m\u001b[0m\u001b[0m\n\u001b[0m\u001b[1;32m   2688\u001b[0m \u001b[0;34m\u001b[0m\u001b[0m\n\u001b[1;32m   2689\u001b[0m     \u001b[0;32mdef\u001b[0m \u001b[0mdestroy\u001b[0m\u001b[0;34m(\u001b[0m\u001b[0mself\u001b[0m\u001b[0;34m)\u001b[0m\u001b[0;34m:\u001b[0m\u001b[0;34m\u001b[0m\u001b[0m\n",
      "\u001b[0;31mNonGuiException\u001b[0m: "
     ]
    },
    {
     "data": {
      "image/png": "[encoded data removed]",
      "text/plain": [
       "<Figure size 648x432 with 3 Axes>"
      ]
     },
     "metadata": {},
     "output_type": "display_data"
    }
   ],
   "source": [
    "plot_triple(country2, ['Germany', 'United Kingdom', 'France'], ['black', 'red', 'blue']).savefig(r'/home/egor/Изображения/car_sales_ger_uk_fra.png')"
   ]
  },
  {
   "cell_type": "code",
   "execution_count": null,
   "metadata": {},
   "outputs": [],
   "source": [
    "plot_triple(country3, ['China', 'USA', 'Japan'], ['goldenrod', 'royalblue', 'tomato']).savefig(r'/home/egor/Изображения/car_sales_ch_usa_jp.png')"
   ]
  },
  {
   "cell_type": "code",
   "execution_count": null,
   "metadata": {},
   "outputs": [],
   "source": [
    "plot_triple(country4, ['India', 'Brazil', 'South Africa'], ['sienna', 'darkgreen', 'dimgrey']).savefig(r'/home/egor/Изображения/car_sales_ind_bra_sar.png')"
   ]
  },
  {
   "cell_type": "markdown",
   "metadata": {},
   "source": [
    "## 2. Car production (https://auto.vercity.ru/statistics/production/)\n",
    "###  For Russia\n",
    "\n",
    "https://auto.vercity.ru/statistics/production/europe/2018/russia/"
   ]
  },
  {
   "cell_type": "code",
   "execution_count": 21,
   "metadata": {},
   "outputs": [
    {
     "name": "stdout",
     "output_type": "stream",
     "text": [
      "Reading from  https://auto.vercity.ru/statistics/production/europe/2010/russia/01-12/ ... Year 2010, country russia, reading (65, 13) items\n",
      "Reading from  https://auto.vercity.ru/statistics/production/europe/2011/russia/01-12/ ... Year 2011, country russia, reading (62, 13) items\n",
      "Reading from  https://auto.vercity.ru/statistics/production/europe/2012/russia/01-12/ ... Year 2012, country russia, reading (62, 13) items\n",
      "Reading from  https://auto.vercity.ru/statistics/production/europe/2013/russia/01-12/ ... Year 2013, country russia, reading (61, 13) items\n",
      "Reading from  https://auto.vercity.ru/statistics/production/europe/2014/russia/01-12/ ... Year 2014, country russia, reading (60, 13) items\n",
      "Reading from  https://auto.vercity.ru/statistics/production/europe/2015/russia/01-12/ ... Year 2015, country russia, reading (57, 13) items\n",
      "Reading from  https://auto.vercity.ru/statistics/production/europe/2016/russia/01-12/ ... Year 2016, country russia, reading (54, 13) items\n",
      "Reading from  https://auto.vercity.ru/statistics/production/europe/2017/russia/01-12/ ... Year 2017, country russia, reading (50, 13) items\n",
      "Reading from  https://auto.vercity.ru/statistics/production/europe/2018/russia/01-12/ ... Year 2018, country russia, reading (50, 13) items\n"
     ]
    },
    {
     "name": "stderr",
     "output_type": "stream",
     "text": [
      "/home/egor/anaconda3/lib/python3.6/site-packages/ipykernel_launcher.py:1: FutureWarning: Sorting because non-concatenation axis is not aligned. A future version\n",
      "of pandas will change to not sort by default.\n",
      "\n",
      "To accept the future behavior, pass 'sort=False'.\n",
      "\n",
      "To retain the current behavior and silence the warning, pass 'sort=True'.\n",
      "\n",
      "  \"\"\"Entry point for launching an IPython kernel.\n"
     ]
    },
    {
     "name": "stdout",
     "output_type": "stream",
     "text": [
      "  Model      date  Count\n",
      "0   BAW  Jan-2010      0\n",
      "1   BAW  Feb-2010      0\n",
      "2   BAW  Mar-2010      0\n",
      "3   BAW  Apr-2010      0\n",
      "4   BAW  May-2010      0\n",
      "5   BAW  Jun-2010      0\n",
      "6   BAW  Jul-2010      0\n",
      "7   BAW  Aug-2010      0\n",
      "8   BAW  Sep-2010      0\n",
      "9   BAW  Oct-2010      0\n"
     ]
    }
   ],
   "source": [
    "prod_df=pd.concat([GetYearsSalesData(Y, strSource=strCarProdsQ) for Y in range(2010, 2019)], axis=1) \n",
    "\n",
    "prod_df=prod_df.stack().reset_index().rename(columns={'level_0':'Model', 'level_1':'date', 0:'Count'})\n",
    "prod_df['Count']=prod_df['Count'].apply(pd.to_numeric)\n",
    "\n",
    "print(prod_df.head(10))\n",
    "\n",
    "prod_df=prod_df[prod_df['Count']!=0]\n",
    "\n",
    "#prod_df.to_sql('production_ru', con=conn, if_exists='replace', index=False)"
   ]
  },
  {
   "cell_type": "markdown",
   "metadata": {},
   "source": [
    "## For Ukraine"
   ]
  },
  {
   "cell_type": "markdown",
   "metadata": {},
   "source": [
    "### Sales"
   ]
  },
  {
   "cell_type": "code",
   "execution_count": 22,
   "metadata": {},
   "outputs": [
    {
     "name": "stdout",
     "output_type": "stream",
     "text": [
      "Reading from  https://auto.vercity.ru/statistics/sales/europe/2011/ukraine/01-12/ ... Year 2011, country ukraine, reading (35, 13) items\n",
      "Reading from  https://auto.vercity.ru/statistics/sales/europe/2012/ukraine/01-12/ ... Year 2012, country ukraine, reading (34, 13) items\n",
      "Reading from  https://auto.vercity.ru/statistics/sales/europe/2013/ukraine/01-12/ ... Year 2013, country ukraine, reading (22, 13) items\n",
      "Reading from  https://auto.vercity.ru/statistics/sales/europe/2014/ukraine/01-12/ ... Year 2014, country ukraine, reading (25, 13) items\n",
      "Reading from  https://auto.vercity.ru/statistics/sales/europe/2015/ukraine/01-12/ ... Year 2015, country ukraine, reading (27, 13) items\n",
      "Reading from  https://auto.vercity.ru/statistics/sales/europe/2016/ukraine/01-12/ ... Year 2016, country ukraine, reading (30, 13) items\n",
      "Reading from  https://auto.vercity.ru/statistics/sales/europe/2017/ukraine/01-12/ ... Year 2017, country ukraine, reading (26, 13) items\n",
      "Reading from  https://auto.vercity.ru/statistics/sales/europe/2018/ukraine/01-12/ ... Year 2018, country ukraine, reading (23, 13) items\n",
      "  Model      date  Count\n",
      "0  Audi  Jan-2011     75\n",
      "1  Audi  Feb-2011     99\n",
      "2  Audi  Mar-2011    118\n",
      "3  Audi  Apr-2011    101\n",
      "4  Audi  May-2011     97\n",
      "5  Audi  Jun-2011    128\n",
      "6  Audi  Jul-2011    126\n",
      "7  Audi  Aug-2011    161\n",
      "8  Audi  Sep-2011    173\n",
      "9  Audi  Oct-2011    130\n"
     ]
    },
    {
     "name": "stderr",
     "output_type": "stream",
     "text": [
      "/home/egor/anaconda3/lib/python3.6/site-packages/ipykernel_launcher.py:1: FutureWarning: Sorting because non-concatenation axis is not aligned. A future version\n",
      "of pandas will change to not sort by default.\n",
      "\n",
      "To accept the future behavior, pass 'sort=False'.\n",
      "\n",
      "To retain the current behavior and silence the warning, pass 'sort=True'.\n",
      "\n",
      "  \"\"\"Entry point for launching an IPython kernel.\n"
     ]
    }
   ],
   "source": [
    "sales_df_uk=pd.concat([GetYearsSalesData(Y, country='ukraine') for Y in range(2011, 2019)], axis=1) \n",
    "\n",
    "sales_df_uk=sales_df_uk.stack().reset_index().rename(columns={'level_0':'Model', 'level_1':'date', 0:'Count'})\n",
    "sales_df_uk['Count']=sales_df_uk['Count'].apply(pd.to_numeric)\n",
    "\n",
    "sales_df_uk=sales_df_uk[sales_df_uk['Count']!=0]\n",
    "\n",
    "print(sales_df_uk.head(10))\n",
    "\n",
    "sales_df_uk.to_sql('sales_ukraine', con=eng_co, if_exists='replace', index=False)"
   ]
  },
  {
   "cell_type": "markdown",
   "metadata": {},
   "source": [
    "### Production"
   ]
  },
  {
   "cell_type": "code",
   "execution_count": 23,
   "metadata": {},
   "outputs": [
    {
     "name": "stdout",
     "output_type": "stream",
     "text": [
      "Reading from  https://auto.vercity.ru/statistics/production/europe/2010/ukraine/01-12/ ... Year 2010, country ukraine, reading (14, 13) items\n",
      "Reading from  https://auto.vercity.ru/statistics/production/europe/2011/ukraine/01-12/ ... Year 2011, country ukraine, reading (14, 13) items\n",
      "Reading from  https://auto.vercity.ru/statistics/production/europe/2012/ukraine/01-12/ ... Year 2012, country ukraine, reading (14, 13) items\n",
      "Reading from  https://auto.vercity.ru/statistics/production/europe/2013/ukraine/01-12/ ... Year 2013, country ukraine, reading (11, 13) items\n",
      "Reading from  https://auto.vercity.ru/statistics/production/europe/2014/ukraine/01-12/ ... Year 2014, country ukraine, reading (11, 13) items\n",
      "Reading from  https://auto.vercity.ru/statistics/production/europe/2015/ukraine/01-12/ ... Year 2015, country ukraine, reading (10, 13) items\n",
      "Reading from  https://auto.vercity.ru/statistics/production/europe/2016/ukraine/01-12/ ... Year 2016, country ukraine, reading (10, 13) items\n",
      "Reading from  https://auto.vercity.ru/statistics/production/europe/2017/ukraine/01-12/ ... Year 2017, country ukraine, reading (5, 13) items\n",
      "Reading from  https://auto.vercity.ru/statistics/production/europe/2018/ukraine/01-12/ ... Year 2018, country ukraine, reading (5, 13) items\n",
      "    Model      date  Count\n",
      "15  Chery  Apr-2011    240\n",
      "16  Chery  May-2011    720\n",
      "17  Chery  Jun-2011    360\n",
      "18  Chery  Jul-2011    480\n",
      "19  Chery  Aug-2011    720\n",
      "20  Chery  Sep-2011    840\n",
      "21  Chery  Oct-2011    960\n",
      "22  Chery  Nov-2011    960\n",
      "23  Chery  Dec-2011    600\n",
      "24  Chery  Jan-2012    240\n",
      "['Chery', 'Chevrolet', 'Isuzu', 'Kia', 'Lada', 'Naza', 'Skoda', 'Tata', 'БАЗ', 'Богдан', 'ЗАЗ', 'КрАЗ', 'ЛАЗ', 'ЧАЗ']\n"
     ]
    },
    {
     "name": "stderr",
     "output_type": "stream",
     "text": [
      "/home/egor/anaconda3/lib/python3.6/site-packages/ipykernel_launcher.py:1: FutureWarning: Sorting because non-concatenation axis is not aligned. A future version\n",
      "of pandas will change to not sort by default.\n",
      "\n",
      "To accept the future behavior, pass 'sort=False'.\n",
      "\n",
      "To retain the current behavior and silence the warning, pass 'sort=True'.\n",
      "\n",
      "  \"\"\"Entry point for launching an IPython kernel.\n"
     ]
    }
   ],
   "source": [
    "prod_df_uk=pd.concat([GetYearsSalesData(Y, strSource=strCarProdsQ, country='ukraine') for Y in range(2010, 2019)], axis=1) \n",
    "\n",
    "prod_df_uk=prod_df_uk.stack().reset_index().rename(columns={'level_0':'Model', 'level_1':'date', 0:'Count'})\n",
    "prod_df_uk['Count']=prod_df_uk['Count'].apply(pd.to_numeric)\n",
    "\n",
    "prod_df_uk=prod_df_uk[prod_df_uk['Count']!=0]\n",
    "print(prod_df_uk.head(10))\n",
    "print(prod_df_uk['Model'].unique().tolist())\n",
    "prod_df_uk.to_sql('production_ukraine', con=eng_co, if_exists='replace', index=False)"
   ]
  },
  {
   "cell_type": "markdown",
   "metadata": {},
   "source": [
    "## Germany"
   ]
  },
  {
   "cell_type": "markdown",
   "metadata": {},
   "source": [
    "### Sales"
   ]
  },
  {
   "cell_type": "code",
   "execution_count": 24,
   "metadata": {},
   "outputs": [
    {
     "name": "stdout",
     "output_type": "stream",
     "text": [
      "Reading from  https://auto.vercity.ru/statistics/sales/europe/2010/germany/01-12/ ... Year 2010, country germany, reading (51, 13) items\n",
      "Reading from  https://auto.vercity.ru/statistics/sales/europe/2011/germany/01-12/ ... Year 2011, country germany, reading (59, 13) items\n",
      "Reading from  https://auto.vercity.ru/statistics/sales/europe/2012/germany/01-12/ ... Year 2012, country germany, reading (58, 13) items\n",
      "Reading from  https://auto.vercity.ru/statistics/sales/europe/2013/germany/01-12/ ... Year 2013, country germany, reading (55, 13) items\n",
      "Reading from  https://auto.vercity.ru/statistics/sales/europe/2014/germany/01-12/ ... Year 2014, country germany, reading (63, 13) items\n",
      "Reading from  https://auto.vercity.ru/statistics/sales/europe/2015/germany/01-12/ ... Year 2015, country germany, reading (66, 13) items\n",
      "Reading from  https://auto.vercity.ru/statistics/sales/europe/2016/germany/01-12/ ... Year 2016, country germany, reading (62, 13) items\n",
      "Reading from  https://auto.vercity.ru/statistics/sales/europe/2017/germany/01-12/ ... Year 2017, country germany, reading (65, 13) items\n",
      "Reading from  https://auto.vercity.ru/statistics/sales/europe/2018/germany/01-12/ ... Year 2018, country germany, reading (63, 13) items\n"
     ]
    },
    {
     "name": "stderr",
     "output_type": "stream",
     "text": [
      "/home/egor/anaconda3/lib/python3.6/site-packages/ipykernel_launcher.py:1: FutureWarning: Sorting because non-concatenation axis is not aligned. A future version\n",
      "of pandas will change to not sort by default.\n",
      "\n",
      "To accept the future behavior, pass 'sort=False'.\n",
      "\n",
      "To retain the current behavior and silence the warning, pass 'sort=True'.\n",
      "\n",
      "  \"\"\"Entry point for launching an IPython kernel.\n"
     ]
    },
    {
     "name": "stdout",
     "output_type": "stream",
     "text": [
      "       Model      date  Count\n",
      "0  AlfaRomeo  Jan-2010    493\n",
      "1  AlfaRomeo  Feb-2010    530\n",
      "2  AlfaRomeo  Mar-2010    513\n",
      "3  AlfaRomeo  Apr-2010    642\n",
      "4  AlfaRomeo  May-2010    503\n",
      "5  AlfaRomeo  Jun-2010    832\n",
      "6  AlfaRomeo  Jul-2010    771\n",
      "7  AlfaRomeo  Aug-2010    798\n",
      "8  AlfaRomeo  Sep-2010    865\n",
      "9  AlfaRomeo  Oct-2010    963\n"
     ]
    }
   ],
   "source": [
    "sales_df_ger=pd.concat([GetYearsSalesData(Y, country='germany') for Y in range(2010, 2019)], axis=1) \n",
    "\n",
    "sales_df_ger=sales_df_ger.stack().reset_index().rename(columns={'level_0':'Model', 'level_1':'date', 0:'Count'})\n",
    "sales_df_ger['Count']=sales_df_ger['Count'].apply(pd.to_numeric)\n",
    "\n",
    "sales_df_ger=sales_df_ger[sales_df_ger['Count']!=0]\n",
    "\n",
    "print(sales_df_ger.head(10))\n",
    "\n",
    "sales_df_ger.to_sql('sales_germany', con=eng_co, if_exists='replace', index=False)"
   ]
  },
  {
   "cell_type": "markdown",
   "metadata": {},
   "source": [
    "### Production"
   ]
  },
  {
   "cell_type": "code",
   "execution_count": 25,
   "metadata": {},
   "outputs": [
    {
     "name": "stdout",
     "output_type": "stream",
     "text": [
      "Reading from  https://auto.vercity.ru/statistics/production/europe/2010/germany/01-12/ ... Year 2010, country germany, reading (14, 13) items\n",
      "Reading from  https://auto.vercity.ru/statistics/production/europe/2011/germany/01-12/ ... Year 2011, country germany, reading (14, 13) items\n",
      "Reading from  https://auto.vercity.ru/statistics/production/europe/2012/germany/01-12/ ... Year 2012, country germany, reading (14, 13) items\n",
      "Reading from  https://auto.vercity.ru/statistics/production/europe/2013/germany/01-12/ ... Year 2013, country germany, reading (14, 13) items\n",
      "Reading from  https://auto.vercity.ru/statistics/production/europe/2014/germany/01-12/ ... Year 2014, country germany, reading (13, 13) items\n",
      "Reading from  https://auto.vercity.ru/statistics/production/europe/2015/germany/01-12/ ... Year 2015, country germany, reading (13, 13) items\n",
      "Reading from  https://auto.vercity.ru/statistics/production/europe/2016/germany/01-12/ ... Year 2016, country germany, reading (13, 13) items\n",
      "Reading from  https://auto.vercity.ru/statistics/production/europe/2017/germany/01-12/ ... Year 2017, country germany, reading (8, 13) items\n",
      "Reading from  https://auto.vercity.ru/statistics/production/europe/2018/germany/01-12/ ... Year 2018, country germany, reading (8, 13) items\n",
      "  Model      date  Count\n",
      "0  Audi  Jan-2010  58061\n",
      "1  Audi  Feb-2010  63281\n",
      "2  Audi  Mar-2010  97635\n",
      "3  Audi  Apr-2010  74743\n",
      "4  Audi  May-2010  76752\n",
      "5  Audi  Jun-2010  72899\n",
      "6  Audi  Jul-2010  66516\n",
      "7  Audi  Aug-2010  51671\n",
      "8  Audi  Sep-2010  83047\n",
      "9  Audi  Oct-2010  83333\n",
      "['Audi', 'BMW', 'Ford', 'Maybach', 'Mercedes-Benz', 'Opel', 'Porsche', 'Seat', 'Volkswagen']\n"
     ]
    },
    {
     "name": "stderr",
     "output_type": "stream",
     "text": [
      "/home/egor/anaconda3/lib/python3.6/site-packages/ipykernel_launcher.py:1: FutureWarning: Sorting because non-concatenation axis is not aligned. A future version\n",
      "of pandas will change to not sort by default.\n",
      "\n",
      "To accept the future behavior, pass 'sort=False'.\n",
      "\n",
      "To retain the current behavior and silence the warning, pass 'sort=True'.\n",
      "\n",
      "  \"\"\"Entry point for launching an IPython kernel.\n"
     ]
    }
   ],
   "source": [
    "prod_df_ger=pd.concat([GetYearsSalesData(Y, strSource=strCarProdsQ, country='germany') for Y in range(2010, 2019)], axis=1) \n",
    "\n",
    "prod_df_ger=prod_df_ger.stack().reset_index().rename(columns={'level_0':'Model', 'level_1':'date', 0:'Count'})\n",
    "prod_df_ger['Count']=prod_df_ger['Count'].apply(pd.to_numeric)\n",
    "\n",
    "prod_df_ger=prod_df_ger[prod_df_ger['Count']!=0]\n",
    "print(prod_df_ger.head(10))\n",
    "print(prod_df_ger['Model'].unique().tolist())\n",
    "prod_df_ger.to_sql('production_germany', con=eng_co, if_exists='replace', index=False)"
   ]
  },
  {
   "cell_type": "markdown",
   "metadata": {},
   "source": [
    "## France"
   ]
  },
  {
   "cell_type": "markdown",
   "metadata": {},
   "source": [
    "### sales"
   ]
  },
  {
   "cell_type": "code",
   "execution_count": 26,
   "metadata": {},
   "outputs": [
    {
     "name": "stdout",
     "output_type": "stream",
     "text": [
      "Reading from  https://auto.vercity.ru/statistics/sales/europe/2010/france/01-12/ ... Year 2010, country france, reading (43, 13) items\n",
      "Reading from  https://auto.vercity.ru/statistics/sales/europe/2011/france/01-12/ ... Year 2011, country france, reading (55, 13) items\n",
      "Reading from  https://auto.vercity.ru/statistics/sales/europe/2012/france/01-12/ ... Year 2012, country france, reading (57, 13) items\n",
      "Reading from  https://auto.vercity.ru/statistics/sales/europe/2013/france/01-12/ ... Year 2013, country france, reading (57, 13) items\n",
      "Reading from  https://auto.vercity.ru/statistics/sales/europe/2014/france/01-12/ ... Year 2014, country france, reading (55, 13) items\n",
      "Reading from  https://auto.vercity.ru/statistics/sales/europe/2015/france/01-12/ ... Year 2015, country france, reading (62, 13) items\n",
      "Reading from  https://auto.vercity.ru/statistics/sales/europe/2016/france/01-12/ ... Year 2016, country france, reading (60, 13) items\n",
      "Reading from  https://auto.vercity.ru/statistics/sales/europe/2017/france/01-12/ ... Year 2017, country france, reading (60, 13) items\n",
      "Reading from  https://auto.vercity.ru/statistics/sales/europe/2018/france/01-12/ ... Year 2018, country france, reading (60, 13) items\n"
     ]
    },
    {
     "name": "stderr",
     "output_type": "stream",
     "text": [
      "/home/egor/anaconda3/lib/python3.6/site-packages/ipykernel_launcher.py:1: FutureWarning: Sorting because non-concatenation axis is not aligned. A future version\n",
      "of pandas will change to not sort by default.\n",
      "\n",
      "To accept the future behavior, pass 'sort=False'.\n",
      "\n",
      "To retain the current behavior and silence the warning, pass 'sort=True'.\n",
      "\n",
      "  \"\"\"Entry point for launching an IPython kernel.\n"
     ]
    },
    {
     "name": "stdout",
     "output_type": "stream",
     "text": [
      "       Model      date  Count\n",
      "0  AlfaRomeo  Jan-2010    978\n",
      "1  AlfaRomeo  Feb-2010    827\n",
      "2  AlfaRomeo  Mar-2010    989\n",
      "3  AlfaRomeo  Apr-2010    795\n",
      "4  AlfaRomeo  May-2010   1027\n",
      "5  AlfaRomeo  Jun-2010   1250\n",
      "6  AlfaRomeo  Jul-2010    974\n",
      "7  AlfaRomeo  Aug-2010    690\n",
      "8  AlfaRomeo  Sep-2010   1653\n",
      "9  AlfaRomeo  Oct-2010   1315\n"
     ]
    }
   ],
   "source": [
    "sales_df_fra=pd.concat([GetYearsSalesData(Y, country='france') for Y in range(2010, 2019)], axis=1) \n",
    "\n",
    "sales_df_fra=sales_df_fra.stack().reset_index().rename(columns={'level_0':'Model', 'level_1':'date', 0:'Count'})\n",
    "sales_df_fra['Count']=sales_df_fra['Count'].apply(pd.to_numeric)\n",
    "\n",
    "sales_df_fra=sales_df_fra[sales_df_fra['Count']!=0]\n",
    "\n",
    "print(sales_df_fra.head(10))\n",
    "\n",
    "sales_df_fra.to_sql('sales_france', con=eng_co, if_exists='replace', index=False)"
   ]
  },
  {
   "cell_type": "markdown",
   "metadata": {},
   "source": [
    "## Production"
   ]
  },
  {
   "cell_type": "markdown",
   "metadata": {},
   "source": [
    "### Russia"
   ]
  },
  {
   "cell_type": "code",
   "execution_count": 27,
   "metadata": {},
   "outputs": [
    {
     "name": "stdout",
     "output_type": "stream",
     "text": [
      "Reading from  https://auto.vercity.ru/statistics/production/europe/2010/russia/01-12/ ... Year 2010, country russia, reading (65, 13) items\n",
      "Reading from  https://auto.vercity.ru/statistics/production/europe/2011/russia/01-12/ ... Year 2011, country russia, reading (62, 13) items\n",
      "Reading from  https://auto.vercity.ru/statistics/production/europe/2012/russia/01-12/ ... Year 2012, country russia, reading (62, 13) items\n",
      "Reading from  https://auto.vercity.ru/statistics/production/europe/2013/russia/01-12/ ... Year 2013, country russia, reading (61, 13) items\n",
      "Reading from  https://auto.vercity.ru/statistics/production/europe/2014/russia/01-12/ ... Year 2014, country russia, reading (60, 13) items\n",
      "Reading from  https://auto.vercity.ru/statistics/production/europe/2015/russia/01-12/ ... Year 2015, country russia, reading (57, 13) items\n",
      "Reading from  https://auto.vercity.ru/statistics/production/europe/2016/russia/01-12/ ... Year 2016, country russia, reading (54, 13) items\n",
      "Reading from  https://auto.vercity.ru/statistics/production/europe/2017/russia/01-12/ ... Year 2017, country russia, reading (50, 13) items\n",
      "Reading from  https://auto.vercity.ru/statistics/production/europe/2018/russia/01-12/ ... Year 2018, country russia, reading (50, 13) items\n"
     ]
    },
    {
     "name": "stderr",
     "output_type": "stream",
     "text": [
      "/home/egor/anaconda3/lib/python3.6/site-packages/ipykernel_launcher.py:43: FutureWarning: Sorting because non-concatenation axis is not aligned. A future version\n",
      "of pandas will change to not sort by default.\n",
      "\n",
      "To accept the future behavior, pass 'sort=False'.\n",
      "\n",
      "To retain the current behavior and silence the warning, pass 'sort=True'.\n",
      "\n"
     ]
    },
    {
     "name": "stdout",
     "output_type": "stream",
     "text": [
      "           Model      date  Count\n",
      "4424  Volkswagen  Sep-2018  13642\n",
      "2048       Haval  Sep-2018    101\n",
      "824    Chevrolet  Sep-2018   2952\n",
      "4532       Volvo  Sep-2018    521\n",
      "1880     Genesis  Sep-2018    106\n",
      "5492       КамАЗ  Sep-2018   3358\n",
      "2900        Lada  Sep-2018  31482\n",
      "4664        БЗКТ  Sep-2018     15\n",
      "3740      Nissan  Sep-2018   7136\n",
      "2276     Hyundai  Sep-2018   5484\n",
      "608      ChangAn  Sep-2018     51\n",
      "6140         УАЗ  Sep-2018   3645\n"
     ]
    }
   ],
   "source": [
    "prod_ru=crawldata(strCarProdsQ) #, country='ukraine')\n",
    "\n",
    "prod_ru.to_sql('production_ru', con=eng_co, if_exists=update_behaviour, index=False)\n",
    "\n",
    "print(prod_ru.tail(12))"
   ]
  },
  {
   "cell_type": "markdown",
   "metadata": {},
   "source": [
    "### Ukraine"
   ]
  },
  {
   "cell_type": "code",
   "execution_count": 28,
   "metadata": {},
   "outputs": [
    {
     "name": "stdout",
     "output_type": "stream",
     "text": [
      "Reading from  https://auto.vercity.ru/statistics/production/europe/2010/ukraine/01-12/ ... Year 2010, country ukraine, reading (14, 13) items\n",
      "Reading from  https://auto.vercity.ru/statistics/production/europe/2011/ukraine/01-12/ ... Year 2011, country ukraine, reading (14, 13) items\n",
      "Reading from  https://auto.vercity.ru/statistics/production/europe/2012/ukraine/01-12/ ... Year 2012, country ukraine, reading (14, 13) items\n",
      "Reading from  https://auto.vercity.ru/statistics/production/europe/2013/ukraine/01-12/ ... Year 2013, country ukraine, reading (11, 13) items\n",
      "Reading from  https://auto.vercity.ru/statistics/production/europe/2014/ukraine/01-12/ ... Year 2014, country ukraine, reading (11, 13) items\n",
      "Reading from  https://auto.vercity.ru/statistics/production/europe/2015/ukraine/01-12/ ... Year 2015, country ukraine, reading (10, 13) items\n",
      "Reading from  https://auto.vercity.ru/statistics/production/europe/2016/ukraine/01-12/ ... Year 2016, country ukraine, reading (10, 13) items\n",
      "Reading from  https://auto.vercity.ru/statistics/production/europe/2017/ukraine/01-12/ ... Year 2017, country ukraine, reading (5, 13) items\n",
      "Reading from  https://auto.vercity.ru/statistics/production/europe/2018/ukraine/01-12/ ... Year 2018, country ukraine, reading (5, 13) items\n"
     ]
    },
    {
     "name": "stderr",
     "output_type": "stream",
     "text": [
      "/home/egor/anaconda3/lib/python3.6/site-packages/ipykernel_launcher.py:43: FutureWarning: Sorting because non-concatenation axis is not aligned. A future version\n",
      "of pandas will change to not sort by default.\n",
      "\n",
      "To accept the future behavior, pass 'sort=False'.\n",
      "\n",
      "To retain the current behavior and silence the warning, pass 'sort=True'.\n",
      "\n"
     ]
    },
    {
     "name": "stdout",
     "output_type": "stream",
     "text": [
      "      Model      date  Count\n",
      "629     БАЗ  Jun-2018     22\n",
      "437   Skoda  Jun-2018    592\n",
      "438   Skoda  Jul-2018    150\n",
      "630     БАЗ  Jul-2018     20\n",
      "846     ЗАЗ  Jul-2018      2\n",
      "631     БАЗ  Aug-2018     18\n",
      "847     ЗАЗ  Aug-2018      6\n",
      "439   Skoda  Aug-2018    413\n",
      "848     ЗАЗ  Sep-2018      2\n",
      "440   Skoda  Sep-2018    476\n",
      "632     БАЗ  Sep-2018     21\n",
      "740  Богдан  Sep-2018      4\n"
     ]
    }
   ],
   "source": [
    "prod_ukraine=crawldata(strCarProdsQ, country='ukraine')\n",
    "\n",
    "prod_ukraine.to_sql('production_ukraine', con=eng_co, if_exists=update_behaviour, index=False)\n",
    "\n",
    "print(prod_ukraine.tail(12))"
   ]
  },
  {
   "cell_type": "markdown",
   "metadata": {},
   "source": [
    "### Poland"
   ]
  },
  {
   "cell_type": "code",
   "execution_count": 29,
   "metadata": {},
   "outputs": [
    {
     "name": "stdout",
     "output_type": "stream",
     "text": [
      "Reading from  https://auto.vercity.ru/statistics/production/europe/2010/poland/01-12/ ... Year 2010, country poland, reading (7, 13) items\n",
      "Reading from  https://auto.vercity.ru/statistics/production/europe/2011/poland/01-12/ ... Year 2011, country poland, reading (7, 13) items\n",
      "Reading from  https://auto.vercity.ru/statistics/production/europe/2012/poland/01-12/ ... Year 2012, country poland, reading (7, 13) items\n",
      "Reading from  https://auto.vercity.ru/statistics/production/europe/2013/poland/01-12/ ... Year 2013, country poland, reading (7, 13) items\n",
      "Reading from  https://auto.vercity.ru/statistics/production/europe/2014/poland/01-12/ ... Year 2014, country poland, reading (6, 13) items\n",
      "Reading from  https://auto.vercity.ru/statistics/production/europe/2015/poland/01-12/ ... Year 2015, country poland, reading (6, 13) items\n",
      "Reading from  https://auto.vercity.ru/statistics/production/europe/2016/poland/01-12/ ... Year 2016, country poland, reading (6, 13) items\n",
      "Reading from  https://auto.vercity.ru/statistics/production/europe/2017/poland/01-12/ ... Year 2017, country poland, reading (5, 13) items\n",
      "Reading from  https://auto.vercity.ru/statistics/production/europe/2018/poland/01-12/ ... Year 2018, country poland, reading (4, 13) items\n"
     ]
    },
    {
     "name": "stderr",
     "output_type": "stream",
     "text": [
      "/home/egor/anaconda3/lib/python3.6/site-packages/ipykernel_launcher.py:43: FutureWarning: Sorting because non-concatenation axis is not aligned. A future version\n",
      "of pandas will change to not sort by default.\n",
      "\n",
      "To accept the future behavior, pass 'sort=False'.\n",
      "\n",
      "To retain the current behavior and silence the warning, pass 'sort=True'.\n",
      "\n"
     ]
    },
    {
     "name": "stdout",
     "output_type": "stream",
     "text": [
      "          Model      date  Count\n",
      "355      Lancia  Aug-2018   1378\n",
      "655  Volkswagen  Aug-2018  12536\n",
      "151        Fiat  Aug-2018  11958\n",
      "547        Opel  Aug-2018   7947\n",
      "656  Volkswagen  Sep-2018  13092\n",
      "356      Lancia  Sep-2018   3626\n",
      "548        Opel  Sep-2018   9207\n",
      "152        Fiat  Sep-2018  12614\n",
      "357      Lancia  Oct-2018   4823\n",
      "549        Opel  Oct-2018   9136\n",
      "153        Fiat  Oct-2018   9527\n",
      "657  Volkswagen  Oct-2018  11646\n"
     ]
    }
   ],
   "source": [
    "prod_poland=crawldata(strCarProdsQ, country='poland')\n",
    "\n",
    "prod_poland.to_sql('production_poland', con=eng_co, if_exists=update_behaviour, index=False)\n",
    "\n",
    "print(prod_poland.tail(12))"
   ]
  },
  {
   "cell_type": "markdown",
   "metadata": {},
   "source": [
    "### Czech Republic"
   ]
  },
  {
   "cell_type": "code",
   "execution_count": 30,
   "metadata": {},
   "outputs": [
    {
     "name": "stdout",
     "output_type": "stream",
     "text": [
      "Reading from  https://auto.vercity.ru/statistics/production/europe/2010/czech_republic/01-12/ ... Year 2010, country czech_republic, reading (12, 13) items\n",
      "Reading from  https://auto.vercity.ru/statistics/production/europe/2011/czech_republic/01-12/ ... Year 2011, country czech_republic, reading (12, 13) items\n",
      "Reading from  https://auto.vercity.ru/statistics/production/europe/2012/czech_republic/01-12/ ... Year 2012, country czech_republic, reading (12, 13) items\n",
      "Reading from  https://auto.vercity.ru/statistics/production/europe/2013/czech_republic/01-12/ ... Year 2013, country czech_republic, reading (11, 13) items\n",
      "Reading from  https://auto.vercity.ru/statistics/production/europe/2014/czech_republic/01-12/ ... Year 2014, country czech_republic, reading (11, 13) items\n",
      "Reading from  https://auto.vercity.ru/statistics/production/europe/2015/czech_republic/01-12/ ... Year 2015, country czech_republic, reading (11, 13) items\n",
      "Reading from  https://auto.vercity.ru/statistics/production/europe/2016/czech_republic/01-12/ ... Year 2016, country czech_republic, reading (11, 13) items\n",
      "Reading from  https://auto.vercity.ru/statistics/production/europe/2017/czech_republic/01-12/ ... Year 2017, country czech_republic, reading (6, 13) items\n",
      "Reading from  https://auto.vercity.ru/statistics/production/europe/2018/czech_republic/01-12/ ... Year 2018, country czech_republic, reading (6, 13) items\n"
     ]
    },
    {
     "name": "stderr",
     "output_type": "stream",
     "text": [
      "/home/egor/anaconda3/lib/python3.6/site-packages/ipykernel_launcher.py:43: FutureWarning: Sorting because non-concatenation axis is not aligned. A future version\n",
      "of pandas will change to not sort by default.\n",
      "\n",
      "To accept the future behavior, pass 'sort=False'.\n",
      "\n",
      "To retain the current behavior and silence the warning, pass 'sort=True'.\n",
      "\n"
     ]
    },
    {
     "name": "stdout",
     "output_type": "stream",
     "text": [
      "        Model      date  Count\n",
      "296   Hyundai  Sep-2018  25092\n",
      "824     Skoda  Sep-2018  42991\n",
      "716      Seat  Sep-2018   6354\n",
      "188   Citroen  Sep-2018   6657\n",
      "1100   Toyota  Sep-2018  10650\n",
      "524   Peugeot  Sep-2018   7167\n",
      "825     Skoda  Oct-2018  51511\n",
      "297   Hyundai  Oct-2018  18259\n",
      "717      Seat  Oct-2018   7657\n",
      "189   Citroen  Oct-2018   5770\n",
      "525   Peugeot  Oct-2018   5780\n",
      "1101   Toyota  Oct-2018   7743\n"
     ]
    }
   ],
   "source": [
    "prod_czech_republic=crawldata(strCarProdsQ, country='czech_republic')\n",
    "\n",
    "prod_czech_republic.to_sql('production_czech', con=eng_co, if_exists=update_behaviour, index=False)\n",
    "\n",
    "print(prod_czech_republic.tail(12))"
   ]
  },
  {
   "cell_type": "markdown",
   "metadata": {},
   "source": [
    "### Italy"
   ]
  },
  {
   "cell_type": "code",
   "execution_count": 31,
   "metadata": {},
   "outputs": [
    {
     "name": "stdout",
     "output_type": "stream",
     "text": [
      "Reading from  https://auto.vercity.ru/statistics/production/europe/2010/italy/01-12/ ... Year 2010, country italy, reading (14, 13) items\n",
      "Reading from  https://auto.vercity.ru/statistics/production/europe/2011/italy/01-12/ ... Year 2011, country italy, reading (14, 13) items\n",
      "Reading from  https://auto.vercity.ru/statistics/production/europe/2012/italy/01-12/ ... Year 2012, country italy, reading (13, 13) items\n",
      "Reading from  https://auto.vercity.ru/statistics/production/europe/2013/italy/01-12/ ... Year 2013, country italy, reading (13, 13) items\n",
      "Reading from  https://auto.vercity.ru/statistics/production/europe/2014/italy/01-12/ ... Year 2014, country italy, reading (13, 13) items\n",
      "Reading from  https://auto.vercity.ru/statistics/production/europe/2015/italy/01-12/ ... Year 2015, country italy, reading (12, 13) items\n",
      "Reading from  https://auto.vercity.ru/statistics/production/europe/2016/italy/01-12/ ... Year 2016, country italy, reading (11, 13) items\n",
      "Reading from  https://auto.vercity.ru/statistics/production/europe/2017/italy/01-12/ ... Year 2017, country italy, reading (8, 13) items\n",
      "Reading from  https://auto.vercity.ru/statistics/production/europe/2018/italy/01-12/ ... Year 2018, country italy, reading (8, 13) items\n"
     ]
    },
    {
     "name": "stderr",
     "output_type": "stream",
     "text": [
      "/home/egor/anaconda3/lib/python3.6/site-packages/ipykernel_launcher.py:43: FutureWarning: Sorting because non-concatenation axis is not aligned. A future version\n",
      "of pandas will change to not sort by default.\n",
      "\n",
      "To accept the future behavior, pass 'sort=False'.\n",
      "\n",
      "To retain the current behavior and silence the warning, pass 'sort=True'.\n",
      "\n"
     ]
    },
    {
     "name": "stdout",
     "output_type": "stream",
     "text": [
      "            Model      date  Count\n",
      "104     AlfaRomeo  Sep-2018   5467\n",
      "812          Jeep  Sep-2018  12439\n",
      "1100     Maserati  Sep-2018   2994\n",
      "920   Lamborghini  Sep-2018    365\n",
      "921   Lamborghini  Oct-2018    350\n",
      "381       Citroen  Oct-2018   6557\n",
      "1209      Peugeot  Oct-2018   6944\n",
      "1101     Maserati  Oct-2018   2910\n",
      "597          Fiat  Oct-2018  32851\n",
      "813          Jeep  Oct-2018  12368\n",
      "105     AlfaRomeo  Oct-2018   6099\n",
      "489       Ferrari  Oct-2018    850\n"
     ]
    }
   ],
   "source": [
    "prod_italy=crawldata(strCarProdsQ, country='italy')\n",
    "\n",
    "prod_italy.to_sql('production_italy', con=eng_co, if_exists=update_behaviour, index=False)\n",
    "\n",
    "print(prod_italy.tail(12))"
   ]
  },
  {
   "cell_type": "markdown",
   "metadata": {},
   "source": [
    "### Slovakia"
   ]
  },
  {
   "cell_type": "code",
   "execution_count": 32,
   "metadata": {},
   "outputs": [
    {
     "name": "stdout",
     "output_type": "stream",
     "text": [
      "Reading from  https://auto.vercity.ru/statistics/production/europe/2010/slovakia/01-12/ ... Year 2010, country slovakia, reading (8, 13) items\n",
      "Reading from  https://auto.vercity.ru/statistics/production/europe/2011/slovakia/01-12/ ... Year 2011, country slovakia, reading (8, 13) items\n",
      "Reading from  https://auto.vercity.ru/statistics/production/europe/2012/slovakia/01-12/ ... Year 2012, country slovakia, reading (8, 13) items\n",
      "Reading from  https://auto.vercity.ru/statistics/production/europe/2013/slovakia/01-12/ ... Year 2013, country slovakia, reading (7, 13) items\n",
      "Reading from  https://auto.vercity.ru/statistics/production/europe/2014/slovakia/01-12/ ... Year 2014, country slovakia, reading (7, 13) items\n",
      "Reading from  https://auto.vercity.ru/statistics/production/europe/2015/slovakia/01-12/ ... Year 2015, country slovakia, reading (7, 13) items\n",
      "Reading from  https://auto.vercity.ru/statistics/production/europe/2016/slovakia/01-12/ ... Year 2016, country slovakia, reading (7, 13) items\n",
      "Reading from  https://auto.vercity.ru/statistics/production/europe/2017/slovakia/01-12/ ... Year 2017, country slovakia, reading (7, 13) items\n",
      "Reading from  https://auto.vercity.ru/statistics/production/europe/2018/slovakia/01-12/ ... Year 2018, country slovakia, reading (7, 13) items\n"
     ]
    },
    {
     "name": "stderr",
     "output_type": "stream",
     "text": [
      "/home/egor/anaconda3/lib/python3.6/site-packages/ipykernel_launcher.py:43: FutureWarning: Sorting because non-concatenation axis is not aligned. A future version\n",
      "of pandas will change to not sort by default.\n",
      "\n",
      "To accept the future behavior, pass 'sort=False'.\n",
      "\n",
      "To retain the current behavior and silence the warning, pass 'sort=True'.\n",
      "\n"
     ]
    },
    {
     "name": "stdout",
     "output_type": "stream",
     "text": [
      "          Model      date  Count\n",
      "788  Volkswagen  Sep-2018  14399\n",
      "104        Audi  Sep-2018   6415\n",
      "680       Skoda  Sep-2018   2295\n",
      "212     Citroen  Sep-2018  16131\n",
      "356         Kia  Sep-2018  20969\n",
      "573        Seat  Oct-2018    937\n",
      "465     Peugeot  Oct-2018  15082\n",
      "213     Citroen  Oct-2018  18719\n",
      "681       Skoda  Oct-2018   2283\n",
      "105        Audi  Oct-2018   7062\n",
      "789  Volkswagen  Oct-2018  13102\n",
      "357         Kia  Oct-2018  16320\n"
     ]
    }
   ],
   "source": [
    "prod_slovakia=crawldata(strCarProdsQ, country='slovakia')\n",
    "\n",
    "prod_slovakia.to_sql('production_slovakia', con=eng_co, if_exists=update_behaviour, index=False)\n",
    "\n",
    "print(prod_slovakia.tail(12))"
   ]
  },
  {
   "cell_type": "markdown",
   "metadata": {},
   "source": [
    "### Slovenia"
   ]
  },
  {
   "cell_type": "code",
   "execution_count": 33,
   "metadata": {},
   "outputs": [
    {
     "name": "stdout",
     "output_type": "stream",
     "text": [
      "Reading from  https://auto.vercity.ru/statistics/production/europe/2010/slovenia/01-12/ ... Year 2010, country slovenia, reading (2, 13) items\n",
      "Reading from  https://auto.vercity.ru/statistics/production/europe/2011/slovenia/01-12/ ... Year 2011, country slovenia, reading (2, 13) items\n",
      "Reading from  https://auto.vercity.ru/statistics/production/europe/2012/slovenia/01-12/ ... Year 2012, country slovenia, reading (2, 13) items\n",
      "Reading from  https://auto.vercity.ru/statistics/production/europe/2013/slovenia/01-12/ ... Year 2013, country slovenia, reading (2, 13) items\n",
      "Reading from  https://auto.vercity.ru/statistics/production/europe/2014/slovenia/01-12/ ... Year 2014, country slovenia, reading (2, 13) items\n",
      "Reading from  https://auto.vercity.ru/statistics/production/europe/2015/slovenia/01-12/ ... Year 2015, country slovenia, reading (2, 13) items\n",
      "Reading from  https://auto.vercity.ru/statistics/production/europe/2016/slovenia/01-12/ ... Year 2016, country slovenia, reading (2, 13) items\n",
      "Reading from  https://auto.vercity.ru/statistics/production/europe/2017/slovenia/01-12/ ... Year 2017, country slovenia, reading (2, 13) items\n",
      "Reading from  https://auto.vercity.ru/statistics/production/europe/2018/slovenia/01-12/ ... Year 2018, country slovenia, reading (2, 13) items\n",
      "       Model      date  Count\n",
      "208    Smart  May-2018   5976\n",
      "100  Renault  May-2018  12634\n",
      "209    Smart  Jun-2018   7097\n",
      "101  Renault  Jun-2018  15746\n",
      "102  Renault  Jul-2018  10570\n",
      "210    Smart  Jul-2018   5026\n",
      "211    Smart  Aug-2018   3315\n",
      "103  Renault  Aug-2018  10941\n",
      "212    Smart  Sep-2018   3797\n",
      "104  Renault  Sep-2018   9685\n",
      "213    Smart  Oct-2018   4308\n",
      "105  Renault  Oct-2018  10918\n"
     ]
    }
   ],
   "source": [
    "prod_slovenia=crawldata(strCarProdsQ, country='slovenia')\n",
    "\n",
    "prod_slovenia.to_sql('production_slovenia', con=eng_co, if_exists=update_behaviour, index=False)\n",
    "\n",
    "print(prod_slovenia.tail(12))"
   ]
  },
  {
   "cell_type": "markdown",
   "metadata": {},
   "source": [
    "### Belarus"
   ]
  },
  {
   "cell_type": "code",
   "execution_count": 34,
   "metadata": {},
   "outputs": [
    {
     "name": "stdout",
     "output_type": "stream",
     "text": [
      "Reading from  https://auto.vercity.ru/statistics/production/europe/2010/belarus/01-12/ ... Year 2010, country belarus, reading (6, 13) items\n",
      "Reading from  https://auto.vercity.ru/statistics/production/europe/2011/belarus/01-12/ ... Year 2011, country belarus, reading (6, 13) items\n",
      "Reading from  https://auto.vercity.ru/statistics/production/europe/2012/belarus/01-12/ ... Year 2012, country belarus, reading (6, 13) items\n",
      "Reading from  https://auto.vercity.ru/statistics/production/europe/2013/belarus/01-12/ ... Year 2013, country belarus, reading (6, 13) items\n",
      "Reading from  https://auto.vercity.ru/statistics/production/europe/2014/belarus/01-12/ ... Year 2014, country belarus, reading (5, 13) items\n",
      "Reading from  https://auto.vercity.ru/statistics/production/europe/2015/belarus/01-12/ ... Year 2015, country belarus, reading (4, 13) items\n",
      "Reading from  https://auto.vercity.ru/statistics/production/europe/2016/belarus/01-12/ ... Year 2016, country belarus, reading (4, 13) items\n",
      "Reading from  https://auto.vercity.ru/statistics/production/europe/2017/belarus/01-12/ ... Year 2017, country belarus, reading (4, 13) items\n",
      "Reading from  https://auto.vercity.ru/statistics/production/europe/2018/belarus/01-12/ ... Year 2018, country belarus, reading (4, 13) items\n"
     ]
    },
    {
     "name": "stderr",
     "output_type": "stream",
     "text": [
      "/home/egor/anaconda3/lib/python3.6/site-packages/ipykernel_launcher.py:43: FutureWarning: Sorting because non-concatenation axis is not aligned. A future version\n",
      "of pandas will change to not sort by default.\n",
      "\n",
      "To accept the future behavior, pass 'sort=False'.\n",
      "\n",
      "To retain the current behavior and silence the warning, pass 'sort=True'.\n",
      "\n"
     ]
    },
    {
     "name": "stdout",
     "output_type": "stream",
     "text": [
      "     Model      date  Count\n",
      "100  Geely  May-2018    205\n",
      "316  БелАЗ  May-2018    100\n",
      "101  Geely  Jun-2018    252\n",
      "317  БелАЗ  Jun-2018    100\n",
      "425    МАЗ  Jun-2018    810\n",
      "102  Geely  Jul-2018    257\n",
      "426    МАЗ  Jul-2018    770\n",
      "318  БелАЗ  Jul-2018    100\n",
      "427    МАЗ  Aug-2018    761\n",
      "319  БелАЗ  Aug-2018     98\n",
      "428    МАЗ  Sep-2018    732\n",
      "320  БелАЗ  Sep-2018     90\n"
     ]
    }
   ],
   "source": [
    "prod_belarus=crawldata(strCarProdsQ, country='belarus')\n",
    "\n",
    "prod_belarus.to_sql('production_belarus', con=eng_co, if_exists=update_behaviour, index=False)\n",
    "\n",
    "print(prod_belarus.tail(12))"
   ]
  },
  {
   "cell_type": "markdown",
   "metadata": {},
   "source": [
    "### Germany"
   ]
  },
  {
   "cell_type": "code",
   "execution_count": 35,
   "metadata": {},
   "outputs": [
    {
     "name": "stdout",
     "output_type": "stream",
     "text": [
      "Reading from  https://auto.vercity.ru/statistics/production/europe/2010/germany/01-12/ ... Year 2010, country germany, reading (14, 13) items\n",
      "Reading from  https://auto.vercity.ru/statistics/production/europe/2011/germany/01-12/ ... Year 2011, country germany, reading (14, 13) items\n",
      "Reading from  https://auto.vercity.ru/statistics/production/europe/2012/germany/01-12/ ... Year 2012, country germany, reading (14, 13) items\n",
      "Reading from  https://auto.vercity.ru/statistics/production/europe/2013/germany/01-12/ ... Year 2013, country germany, reading (14, 13) items\n",
      "Reading from  https://auto.vercity.ru/statistics/production/europe/2014/germany/01-12/ ... Year 2014, country germany, reading (13, 13) items\n",
      "Reading from  https://auto.vercity.ru/statistics/production/europe/2015/germany/01-12/ ... Year 2015, country germany, reading (13, 13) items\n",
      "Reading from  https://auto.vercity.ru/statistics/production/europe/2016/germany/01-12/ ... Year 2016, country germany, reading (13, 13) items\n",
      "Reading from  https://auto.vercity.ru/statistics/production/europe/2017/germany/01-12/ ... Year 2017, country germany, reading (8, 13) items\n",
      "Reading from  https://auto.vercity.ru/statistics/production/europe/2018/germany/01-12/ ... Year 2018, country germany, reading (8, 13) items\n"
     ]
    },
    {
     "name": "stderr",
     "output_type": "stream",
     "text": [
      "/home/egor/anaconda3/lib/python3.6/site-packages/ipykernel_launcher.py:43: FutureWarning: Sorting because non-concatenation axis is not aligned. A future version\n",
      "of pandas will change to not sort by default.\n",
      "\n",
      "To accept the future behavior, pass 'sort=False'.\n",
      "\n",
      "To retain the current behavior and silence the warning, pass 'sort=True'.\n",
      "\n"
     ]
    },
    {
     "name": "stdout",
     "output_type": "stream",
     "text": [
      "              Model      date   Count\n",
      "1328     Volkswagen  Sep-2018   61789\n",
      "104            Audi  Sep-2018   26186\n",
      "728   Mercedes-Benz  Sep-2018  133622\n",
      "404            Ford  Sep-2018   47544\n",
      "213             BMW  Oct-2018  115659\n",
      "1221           Seat  Oct-2018      33\n",
      "105            Audi  Oct-2018   33698\n",
      "1005           Opel  Oct-2018   20407\n",
      "405            Ford  Oct-2018   52593\n",
      "729   Mercedes-Benz  Oct-2018  131713\n",
      "1113        Porsche  Oct-2018    9141\n",
      "1329     Volkswagen  Oct-2018  104918\n"
     ]
    }
   ],
   "source": [
    "prod_germany=crawldata(strCarProdsQ, country='germany')\n",
    "\n",
    "prod_germany.to_sql('production_germany', con=eng_co, if_exists=update_behaviour, index=False)\n",
    "\n",
    "print(prod_germany.tail(12))"
   ]
  },
  {
   "cell_type": "markdown",
   "metadata": {},
   "source": [
    "### Spain"
   ]
  },
  {
   "cell_type": "code",
   "execution_count": 36,
   "metadata": {},
   "outputs": [
    {
     "name": "stdout",
     "output_type": "stream",
     "text": [
      "Reading from  https://auto.vercity.ru/statistics/production/europe/2010/spain/01-12/ ... Year 2010, country spain, reading (12, 13) items\n",
      "Reading from  https://auto.vercity.ru/statistics/production/europe/2011/spain/01-12/ ... Year 2011, country spain, reading (11, 13) items\n",
      "Reading from  https://auto.vercity.ru/statistics/production/europe/2012/spain/01-12/ ... Year 2012, country spain, reading (11, 13) items\n",
      "Reading from  https://auto.vercity.ru/statistics/production/europe/2013/spain/01-12/ ... Year 2013, country spain, reading (11, 13) items\n",
      "Reading from  https://auto.vercity.ru/statistics/production/europe/2014/spain/01-12/ ... Year 2014, country spain, reading (11, 13) items\n",
      "Reading from  https://auto.vercity.ru/statistics/production/europe/2015/spain/01-12/ ... Year 2015, country spain, reading (11, 13) items\n",
      "Reading from  https://auto.vercity.ru/statistics/production/europe/2016/spain/01-12/ ... Year 2016, country spain, reading (11, 13) items\n",
      "Reading from  https://auto.vercity.ru/statistics/production/europe/2017/spain/01-12/ ... Year 2017, country spain, reading (11, 13) items\n",
      "Reading from  https://auto.vercity.ru/statistics/production/europe/2018/spain/01-12/ ... Year 2018, country spain, reading (11, 13) items\n"
     ]
    },
    {
     "name": "stderr",
     "output_type": "stream",
     "text": [
      "/home/egor/anaconda3/lib/python3.6/site-packages/ipykernel_launcher.py:43: FutureWarning: Sorting because non-concatenation axis is not aligned. A future version\n",
      "of pandas will change to not sort by default.\n",
      "\n",
      "To accept the future behavior, pass 'sort=False'.\n",
      "\n",
      "To retain the current behavior and silence the warning, pass 'sort=True'.\n",
      "\n"
     ]
    },
    {
     "name": "stdout",
     "output_type": "stream",
     "text": [
      "              Model      date  Count\n",
      "752            Opel  Sep-2018  39703\n",
      "537   Mercedes-Benz  Oct-2018  13248\n",
      "1077           Seat  Oct-2018  23861\n",
      "1197     Volkswagen  Oct-2018  20877\n",
      "321            Ford  Oct-2018  24506\n",
      "753            Opel  Oct-2018  27949\n",
      "429           Iveco  Oct-2018   3765\n",
      "969         Renault  Oct-2018  26900\n",
      "105            Audi  Oct-2018   1923\n",
      "645          Nissan  Oct-2018   6493\n",
      "213         Citroen  Oct-2018  32834\n",
      "861         Peugeot  Oct-2018   9032\n"
     ]
    }
   ],
   "source": [
    "prod_spain=crawldata(strCarProdsQ, country='spain')\n",
    "\n",
    "prod_spain.to_sql('production_spain', con=eng_co, if_exists=update_behaviour, index=False)\n",
    "\n",
    "print(prod_spain.tail(12))"
   ]
  },
  {
   "cell_type": "markdown",
   "metadata": {},
   "source": [
    "### France"
   ]
  },
  {
   "cell_type": "code",
   "execution_count": 37,
   "metadata": {},
   "outputs": [
    {
     "name": "stdout",
     "output_type": "stream",
     "text": [
      "Reading from  https://auto.vercity.ru/statistics/production/europe/2010/france/01-12/ ... Year 2010, country france, reading (15, 13) items\n",
      "Reading from  https://auto.vercity.ru/statistics/production/europe/2011/france/01-12/ ... Year 2011, country france, reading (15, 13) items\n",
      "Reading from  https://auto.vercity.ru/statistics/production/europe/2012/france/01-12/ ... Year 2012, country france, reading (14, 13) items\n",
      "Reading from  https://auto.vercity.ru/statistics/production/europe/2013/france/01-12/ ... Year 2013, country france, reading (14, 13) items\n",
      "Reading from  https://auto.vercity.ru/statistics/production/europe/2014/france/01-12/ ... Year 2014, country france, reading (14, 13) items\n",
      "Reading from  https://auto.vercity.ru/statistics/production/europe/2015/france/01-12/ ... Year 2015, country france, reading (14, 13) items\n",
      "Reading from  https://auto.vercity.ru/statistics/production/europe/2016/france/01-12/ ... Year 2016, country france, reading (14, 13) items\n",
      "Reading from  https://auto.vercity.ru/statistics/production/europe/2017/france/01-12/ ... Year 2017, country france, reading (11, 13) items\n",
      "Reading from  https://auto.vercity.ru/statistics/production/europe/2018/france/01-12/ ... Year 2018, country france, reading (11, 13) items\n"
     ]
    },
    {
     "name": "stderr",
     "output_type": "stream",
     "text": [
      "/home/egor/anaconda3/lib/python3.6/site-packages/ipykernel_launcher.py:43: FutureWarning: Sorting because non-concatenation axis is not aligned. A future version\n",
      "of pandas will change to not sort by default.\n",
      "\n",
      "To accept the future behavior, pass 'sort=False'.\n",
      "\n",
      "To retain the current behavior and silence the warning, pass 'sort=True'.\n",
      "\n"
     ]
    },
    {
     "name": "stdout",
     "output_type": "stream",
     "text": [
      "              Model      date  Count\n",
      "104          Alpine  Sep-2018     50\n",
      "1461         Toyota  Oct-2018  23558\n",
      "1161        Renault  Oct-2018  39872\n",
      "513            Fiat  Oct-2018   2813\n",
      "729   Mercedes-Benz  Oct-2018   2513\n",
      "1053        Peugeot  Oct-2018  75708\n",
      "321              DS  Oct-2018   3165\n",
      "213         Citroen  Oct-2018   6034\n",
      "945            Opel  Oct-2018  10275\n",
      "1353          Smart  Oct-2018   8360\n",
      "837          Nissan  Oct-2018   5549\n",
      "105          Alpine  Oct-2018    123\n"
     ]
    }
   ],
   "source": [
    "prod_france=crawldata(strCarProdsQ, country='france')\n",
    "\n",
    "prod_france.to_sql('production_france', con=eng_co, if_exists=update_behaviour, index=False)\n",
    "\n",
    "print(prod_france.tail(12))"
   ]
  },
  {
   "cell_type": "markdown",
   "metadata": {},
   "source": [
    "### United Kingdom"
   ]
  },
  {
   "cell_type": "code",
   "execution_count": 38,
   "metadata": {},
   "outputs": [
    {
     "name": "stdout",
     "output_type": "stream",
     "text": [
      "Reading from  https://auto.vercity.ru/statistics/production/europe/2010/united_kingdom/01-12/ ... Year 2010, country united_kingdom, reading (27, 13) items\n",
      "Reading from  https://auto.vercity.ru/statistics/production/europe/2011/united_kingdom/01-12/ ... Year 2011, country united_kingdom, reading (25, 13) items\n",
      "Reading from  https://auto.vercity.ru/statistics/production/europe/2012/united_kingdom/01-12/ ... Year 2012, country united_kingdom, reading (23, 13) items\n",
      "Reading from  https://auto.vercity.ru/statistics/production/europe/2013/united_kingdom/01-12/ ... Year 2013, country united_kingdom, reading (23, 13) items\n",
      "Reading from  https://auto.vercity.ru/statistics/production/europe/2014/united_kingdom/01-12/ ... Year 2014, country united_kingdom, reading (22, 13) items\n",
      "Reading from  https://auto.vercity.ru/statistics/production/europe/2015/united_kingdom/01-12/ ... Year 2015, country united_kingdom, reading (22, 13) items\n",
      "Reading from  https://auto.vercity.ru/statistics/production/europe/2016/united_kingdom/01-12/ ... Year 2016, country united_kingdom, reading (21, 13) items\n",
      "Reading from  https://auto.vercity.ru/statistics/production/europe/2017/united_kingdom/01-12/ ... Year 2017, country united_kingdom, reading (17, 13) items\n",
      "Reading from  https://auto.vercity.ru/statistics/production/europe/2018/united_kingdom/01-12/ ... Year 2018, country united_kingdom, reading (16, 13) items\n"
     ]
    },
    {
     "name": "stderr",
     "output_type": "stream",
     "text": [
      "/home/egor/anaconda3/lib/python3.6/site-packages/ipykernel_launcher.py:43: FutureWarning: Sorting because non-concatenation axis is not aligned. A future version\n",
      "of pandas will change to not sort by default.\n",
      "\n",
      "To accept the future behavior, pass 'sort=False'.\n",
      "\n",
      "To retain the current behavior and silence the warning, pass 'sort=True'.\n",
      "\n"
     ]
    },
    {
     "name": "stdout",
     "output_type": "stream",
     "text": [
      "            Model      date  Count\n",
      "1629      Minerva  Oct-2018  16330\n",
      "1509      McLaren  Oct-2018    325\n",
      "1953         Opel  Oct-2018  14009\n",
      "1113    LandRover  Oct-2018  34905\n",
      "2217  Rolls-Royce  Oct-2018    275\n",
      "1737       Morgan  Oct-2018     55\n",
      "777        Jaguar  Oct-2018   5576\n",
      "897          LEVC  Oct-2018    185\n",
      "189   AstonMartin  Oct-2018    350\n",
      "2325       Toyota  Oct-2018   8793\n",
      "297       Bentley  Oct-2018   1050\n",
      "669      Infiniti  Oct-2018   1228\n"
     ]
    }
   ],
   "source": [
    "prod_uk=crawldata(strCarProdsQ, country='united_kingdom')\n",
    "\n",
    "prod_uk.to_sql('production_uk', con=eng_co, if_exists=update_behaviour, index=False)\n",
    "\n",
    "print(prod_uk.tail(12))"
   ]
  },
  {
   "cell_type": "markdown",
   "metadata": {},
   "source": [
    "### China"
   ]
  },
  {
   "cell_type": "code",
   "execution_count": 49,
   "metadata": {},
   "outputs": [
    {
     "name": "stdout",
     "output_type": "stream",
     "text": [
      "Reading from  https://auto.vercity.ru/statistics/production/europe/2010/china/01-12/ ... Year 2010, country china, reading (126, 13) items\n",
      "Reading from  https://auto.vercity.ru/statistics/production/europe/2011/china/01-12/ ... Year 2011, country china, reading (123, 13) items\n",
      "Reading from  https://auto.vercity.ru/statistics/production/europe/2012/china/01-12/ ... Year 2012, country china, reading (122, 13) items\n",
      "Reading from  https://auto.vercity.ru/statistics/production/europe/2013/china/01-12/ ... Year 2013, country china, reading (119, 13) items\n",
      "Reading from  https://auto.vercity.ru/statistics/production/europe/2014/china/01-12/ ... Year 2014, country china, reading (118, 13) items\n",
      "Reading from  https://auto.vercity.ru/statistics/production/europe/2015/china/01-12/ ... Year 2015, country china, reading (118, 13) items\n",
      "Reading from  https://auto.vercity.ru/statistics/production/europe/2016/china/01-12/ ... Year 2016, country china, reading (117, 13) items\n",
      "Reading from  https://auto.vercity.ru/statistics/production/europe/2017/china/01-12/ ... Year 2017, country china, reading (115, 13) items\n",
      "Reading from  https://auto.vercity.ru/statistics/production/europe/2018/china/01-12/ ... Year 2018, country china, reading (110, 13) items\n"
     ]
    },
    {
     "name": "stderr",
     "output_type": "stream",
     "text": [
      "/home/egor/anaconda3/lib/python3.6/site-packages/ipykernel_launcher.py:43: FutureWarning: Sorting because non-concatenation axis is not aligned. A future version\n",
      "of pandas will change to not sort by default.\n",
      "\n",
      "To accept the future behavior, pass 'sort=False'.\n",
      "\n",
      "To retain the current behavior and silence the warning, pass 'sort=True'.\n",
      "\n"
     ]
    },
    {
     "name": "stdout",
     "output_type": "stream",
     "text": [
      "              Model      date   Count\n",
      "428            BAIC  Sep-2018       3\n",
      "2636          Cowin  Sep-2018     978\n",
      "7964          Lifan  Sep-2018    2299\n",
      "4544   GoldenDragon  Sep-2018    2282\n",
      "3680            FAW  Sep-2018   34997\n",
      "5144         Hawtai  Sep-2018   13891\n",
      "5612          Honda  Sep-2018  129006\n",
      "11840          XCMG  Sep-2018     993\n",
      "5936        Huasong  Sep-2018     391\n",
      "4004           Ford  Sep-2018   36022\n",
      "10544       Sunlong  Sep-2018     270\n",
      "7640       LYNK&Co;  Sep-2018   14634\n"
     ]
    }
   ],
   "source": [
    "prod_china=crawldata(strCarProdsQ, country='china')\n",
    "\n",
    "prod_china.to_sql('production_china', con=eng_co, if_exists=update_behaviour, index=False)\n",
    "\n",
    "print(prod_china.tail(12))"
   ]
  },
  {
   "cell_type": "markdown",
   "metadata": {},
   "source": [
    "### Japan"
   ]
  },
  {
   "cell_type": "code",
   "execution_count": 50,
   "metadata": {},
   "outputs": [
    {
     "name": "stdout",
     "output_type": "stream",
     "text": [
      "Reading from  https://auto.vercity.ru/statistics/production/europe/2010/japan/01-12/ ... Year 2010, country japan, reading (19, 13) items\n",
      "Reading from  https://auto.vercity.ru/statistics/production/europe/2011/japan/01-12/ ... Year 2011, country japan, reading (18, 13) items\n",
      "Reading from  https://auto.vercity.ru/statistics/production/europe/2012/japan/01-12/ ... Year 2012, country japan, reading (16, 13) items\n",
      "Reading from  https://auto.vercity.ru/statistics/production/europe/2013/japan/01-12/ ... Year 2013, country japan, reading (16, 13) items\n",
      "Reading from  https://auto.vercity.ru/statistics/production/europe/2014/japan/01-12/ ... Year 2014, country japan, reading (16, 13) items\n",
      "Reading from  https://auto.vercity.ru/statistics/production/europe/2015/japan/01-12/ ... Year 2015, country japan, reading (16, 13) items\n",
      "Reading from  https://auto.vercity.ru/statistics/production/europe/2016/japan/01-12/ ... Year 2016, country japan, reading (15, 13) items\n",
      "Reading from  https://auto.vercity.ru/statistics/production/europe/2017/japan/01-12/ ... Year 2017, country japan, reading (15, 13) items\n",
      "Reading from  https://auto.vercity.ru/statistics/production/europe/2018/japan/01-12/ ... Year 2018, country japan, reading (14, 13) items\n"
     ]
    },
    {
     "name": "stderr",
     "output_type": "stream",
     "text": [
      "/home/egor/anaconda3/lib/python3.6/site-packages/ipykernel_launcher.py:43: FutureWarning: Sorting because non-concatenation axis is not aligned. A future version\n",
      "of pandas will change to not sort by default.\n",
      "\n",
      "To accept the future behavior, pass 'sort=False'.\n",
      "\n",
      "To retain the current behavior and silence the warning, pass 'sort=True'.\n",
      "\n"
     ]
    },
    {
     "name": "stdout",
     "output_type": "stream",
     "text": [
      "           Model      date   Count\n",
      "1099  Mitsubishi  Aug-2018   31067\n",
      "1628      Toyota  Sep-2018  191311\n",
      "200     Daihatsu  Sep-2018   43676\n",
      "1412      Subaru  Sep-2018   61053\n",
      "1520      Suzuki  Sep-2018   64859\n",
      "1100  Mitsubishi  Sep-2018   48330\n",
      "992        Mazda  Sep-2018   78558\n",
      "1208      Nissan  Sep-2018   75952\n",
      "884        Lexus  Sep-2018   45478\n",
      "656     Infiniti  Sep-2018    8219\n",
      "308         Fiat  Sep-2018     273\n",
      "548        Honda  Sep-2018   70420\n"
     ]
    }
   ],
   "source": [
    "prod_japan=crawldata(strCarProdsQ, country='japan')\n",
    "\n",
    "prod_japan.to_sql('production_japan', con=eng_co, if_exists=update_behaviour, index=False)\n",
    "\n",
    "print(prod_japan.tail(12))"
   ]
  },
  {
   "cell_type": "markdown",
   "metadata": {},
   "source": [
    "### India"
   ]
  },
  {
   "cell_type": "code",
   "execution_count": 51,
   "metadata": {},
   "outputs": [
    {
     "name": "stdout",
     "output_type": "stream",
     "text": [
      "Reading from  https://auto.vercity.ru/statistics/production/europe/2010/india/01-12/ ... Year 2010, country india, reading (32, 13) items\n",
      "Reading from  https://auto.vercity.ru/statistics/production/europe/2011/india/01-12/ ... Year 2011, country india, reading (32, 13) items\n",
      "Reading from  https://auto.vercity.ru/statistics/production/europe/2012/india/01-12/ ... Year 2012, country india, reading (31, 13) items\n",
      "Reading from  https://auto.vercity.ru/statistics/production/europe/2013/india/01-12/ ... Year 2013, country india, reading (31, 13) items\n",
      "Reading from  https://auto.vercity.ru/statistics/production/europe/2014/india/01-12/ ... Year 2014, country india, reading (31, 13) items\n",
      "Reading from  https://auto.vercity.ru/statistics/production/europe/2015/india/01-12/ ... Year 2015, country india, reading (31, 13) items\n",
      "Reading from  https://auto.vercity.ru/statistics/production/europe/2016/india/01-12/ ... Year 2016, country india, reading (30, 13) items\n",
      "Reading from  https://auto.vercity.ru/statistics/production/europe/2017/india/01-12/ ... Year 2017, country india, reading (30, 13) items\n",
      "Reading from  https://auto.vercity.ru/statistics/production/europe/2018/india/01-12/ ... Year 2018, country india, reading (30, 13) items\n"
     ]
    },
    {
     "name": "stderr",
     "output_type": "stream",
     "text": [
      "/home/egor/anaconda3/lib/python3.6/site-packages/ipykernel_launcher.py:43: FutureWarning: Sorting because non-concatenation axis is not aligned. A future version\n",
      "of pandas will change to not sort by default.\n",
      "\n",
      "To accept the future behavior, pass 'sort=False'.\n",
      "\n",
      "To retain the current behavior and silence the warning, pass 'sort=True'.\n",
      "\n"
     ]
    },
    {
     "name": "stdout",
     "output_type": "stream",
     "text": [
      "           Model      date  Count\n",
      "1076        Ford  Sep-2018  18377\n",
      "2360      Nissan  Sep-2018   5875\n",
      "860         Fiat  Sep-2018     73\n",
      "536    Chevrolet  Sep-2018   5894\n",
      "2792   SsangYong  Sep-2018    113\n",
      "3332       Volvo  Sep-2018     38\n",
      "644       Datsun  Sep-2018   2637\n",
      "3116      Toyota  Sep-2018  13584\n",
      "1904        Jeep  Sep-2018   1616\n",
      "3224  Volkswagen  Sep-2018   6784\n",
      "752       Eicher  Sep-2018   6553\n",
      "2468     Piaggio  Sep-2018    129\n"
     ]
    }
   ],
   "source": [
    "prod_india=crawldata(strCarProdsQ, country='india')\n",
    "\n",
    "prod_india.to_sql('production_india', con=eng_co, if_exists=update_behaviour, index=False)\n",
    "\n",
    "print(prod_india.tail(12))"
   ]
  },
  {
   "cell_type": "markdown",
   "metadata": {},
   "source": [
    "### South Korea"
   ]
  },
  {
   "cell_type": "code",
   "execution_count": 52,
   "metadata": {},
   "outputs": [
    {
     "name": "stdout",
     "output_type": "stream",
     "text": [
      "Reading from  https://auto.vercity.ru/statistics/production/europe/2010/south_korea/01-12/ ... Year 2010, country south_korea, reading (9, 13) items\n",
      "Reading from  https://auto.vercity.ru/statistics/production/europe/2011/south_korea/01-12/ ... Year 2011, country south_korea, reading (9, 13) items\n",
      "Reading from  https://auto.vercity.ru/statistics/production/europe/2012/south_korea/01-12/ ... Year 2012, country south_korea, reading (9, 13) items\n",
      "Reading from  https://auto.vercity.ru/statistics/production/europe/2013/south_korea/01-12/ ... Year 2013, country south_korea, reading (9, 13) items\n",
      "Reading from  https://auto.vercity.ru/statistics/production/europe/2014/south_korea/01-12/ ... Year 2014, country south_korea, reading (9, 13) items\n",
      "Reading from  https://auto.vercity.ru/statistics/production/europe/2015/south_korea/01-12/ ... Year 2015, country south_korea, reading (9, 13) items\n",
      "Reading from  https://auto.vercity.ru/statistics/production/europe/2016/south_korea/01-12/ ... Year 2016, country south_korea, reading (9, 13) items\n",
      "Reading from  https://auto.vercity.ru/statistics/production/europe/2017/south_korea/01-12/ ... Year 2017, country south_korea, reading (8, 13) items\n",
      "Reading from  https://auto.vercity.ru/statistics/production/europe/2018/south_korea/01-12/ ... Year 2018, country south_korea, reading (8, 13) items\n"
     ]
    },
    {
     "name": "stderr",
     "output_type": "stream",
     "text": [
      "/home/egor/anaconda3/lib/python3.6/site-packages/ipykernel_launcher.py:43: FutureWarning: Sorting because non-concatenation axis is not aligned. A future version\n",
      "of pandas will change to not sort by default.\n",
      "\n",
      "To accept the future behavior, pass 'sort=False'.\n",
      "\n",
      "To retain the current behavior and silence the warning, pass 'sort=True'.\n",
      "\n"
     ]
    },
    {
     "name": "stdout",
     "output_type": "stream",
     "text": [
      "         Model      date   Count\n",
      "835    Samsung  Aug-2018    6449\n",
      "943  SsangYong  Aug-2018   10179\n",
      "727     Nissan  Aug-2018    4991\n",
      "295     Daewoo  Aug-2018    1252\n",
      "296     Daewoo  Sep-2018    1012\n",
      "404    Genesis  Sep-2018    7312\n",
      "728     Nissan  Sep-2018    6246\n",
      "620        Kia  Sep-2018   98688\n",
      "188  Chevrolet  Sep-2018   14270\n",
      "944  SsangYong  Sep-2018   10767\n",
      "836    Samsung  Sep-2018    7959\n",
      "512    Hyundai  Sep-2018  127635\n"
     ]
    }
   ],
   "source": [
    "prod_south_korea=crawldata(strCarProdsQ, country='south_korea')\n",
    "\n",
    "prod_south_korea.to_sql('production_south_korea', con=eng_co, if_exists=update_behaviour, index=False)\n",
    "\n",
    "print(prod_south_korea.tail(12))"
   ]
  },
  {
   "cell_type": "markdown",
   "metadata": {},
   "source": [
    "### Brazil"
   ]
  },
  {
   "cell_type": "code",
   "execution_count": 53,
   "metadata": {},
   "outputs": [
    {
     "name": "stdout",
     "output_type": "stream",
     "text": [
      "Reading from  https://auto.vercity.ru/statistics/production/europe/2010/brazil/01-12/ ... Year 2010, country brazil, reading (30, 13) items\n",
      "Reading from  https://auto.vercity.ru/statistics/production/europe/2011/brazil/01-12/ ... Year 2011, country brazil, reading (30, 13) items\n",
      "Reading from  https://auto.vercity.ru/statistics/production/europe/2012/brazil/01-12/ ... Year 2012, country brazil, reading (29, 13) items\n",
      "Reading from  https://auto.vercity.ru/statistics/production/europe/2013/brazil/01-12/ ... Year 2013, country brazil, reading (28, 13) items\n",
      "Reading from  https://auto.vercity.ru/statistics/production/europe/2014/brazil/01-12/ ... Year 2014, country brazil, reading (28, 13) items\n",
      "Reading from  https://auto.vercity.ru/statistics/production/europe/2015/brazil/01-12/ ... Year 2015, country brazil, reading (27, 13) items\n",
      "Reading from  https://auto.vercity.ru/statistics/production/europe/2016/brazil/01-12/ ... Year 2016, country brazil, reading (27, 13) items\n",
      "Reading from  https://auto.vercity.ru/statistics/production/europe/2017/brazil/01-12/ ... Year 2017, country brazil, reading (21, 13) items\n",
      "Reading from  https://auto.vercity.ru/statistics/production/europe/2018/brazil/01-12/ ... Year 2018, country brazil, reading (21, 13) items\n"
     ]
    },
    {
     "name": "stderr",
     "output_type": "stream",
     "text": [
      "/home/egor/anaconda3/lib/python3.6/site-packages/ipykernel_launcher.py:43: FutureWarning: Sorting because non-concatenation axis is not aligned. A future version\n",
      "of pandas will change to not sort by default.\n",
      "\n",
      "To accept the future behavior, pass 'sort=False'.\n",
      "\n",
      "To retain the current behavior and silence the warning, pass 'sort=True'.\n",
      "\n"
     ]
    },
    {
     "name": "stdout",
     "output_type": "stream",
     "text": [
      "           Model      date  Count\n",
      "188         Audi  Sep-2018    179\n",
      "296          BMW  Sep-2018    713\n",
      "2288     Renault  Sep-2018  21454\n",
      "860         Ford  Sep-2018  18258\n",
      "2072      Nissan  Sep-2018   9169\n",
      "2696     Troller  Sep-2018    115\n",
      "752         Fiat  Sep-2018  24005\n",
      "1328       Iveco  Sep-2018    314\n",
      "404        Chery  Sep-2018    750\n",
      "2588      Toyota  Sep-2018  12878\n",
      "1544   LandRover  Sep-2018    325\n",
      "2804  Volkswagen  Sep-2018  36274\n"
     ]
    }
   ],
   "source": [
    "prod_brazil=crawldata(strCarProdsQ, country='brazil')\n",
    "\n",
    "prod_brazil.to_sql('production_brazil', con=eng_co, if_exists=update_behaviour, index=False)\n",
    "\n",
    "print(prod_brazil.tail(12))"
   ]
  },
  {
   "cell_type": "markdown",
   "metadata": {},
   "source": [
    "### United States"
   ]
  },
  {
   "cell_type": "code",
   "execution_count": 54,
   "metadata": {},
   "outputs": [
    {
     "name": "stdout",
     "output_type": "stream",
     "text": [
      "Reading from  https://auto.vercity.ru/statistics/production/europe/2010/united_states/01-12/ ... Year 2010, country united_states, reading (44, 13) items\n",
      "Reading from  https://auto.vercity.ru/statistics/production/europe/2011/united_states/01-12/ ... Year 2011, country united_states, reading (42, 13) items\n",
      "Reading from  https://auto.vercity.ru/statistics/production/europe/2012/united_states/01-12/ ... Year 2012, country united_states, reading (38, 13) items\n",
      "Reading from  https://auto.vercity.ru/statistics/production/europe/2013/united_states/01-12/ ... Year 2013, country united_states, reading (38, 13) items\n",
      "Reading from  https://auto.vercity.ru/statistics/production/europe/2014/united_states/01-12/ ... Year 2014, country united_states, reading (36, 13) items\n",
      "Reading from  https://auto.vercity.ru/statistics/production/europe/2015/united_states/01-12/ ... Year 2015, country united_states, reading (36, 13) items\n",
      "Reading from  https://auto.vercity.ru/statistics/production/europe/2016/united_states/01-12/ ... Year 2016, country united_states, reading (35, 13) items\n",
      "Reading from  https://auto.vercity.ru/statistics/production/europe/2017/united_states/01-12/ ... Year 2017, country united_states, reading (34, 13) items\n",
      "Reading from  https://auto.vercity.ru/statistics/production/europe/2018/united_states/01-12/ ... Year 2018, country united_states, reading (26, 13) items\n"
     ]
    },
    {
     "name": "stderr",
     "output_type": "stream",
     "text": [
      "/home/egor/anaconda3/lib/python3.6/site-packages/ipykernel_launcher.py:43: FutureWarning: Sorting because non-concatenation axis is not aligned. A future version\n",
      "of pandas will change to not sort by default.\n",
      "\n",
      "To accept the future behavior, pass 'sort=False'.\n",
      "\n",
      "To retain the current behavior and silence the warning, pass 'sort=True'.\n",
      "\n"
     ]
    },
    {
     "name": "stdout",
     "output_type": "stream",
     "text": [
      "        Model      date   Count\n",
      "3212      Ram  Sep-2018   54002\n",
      "2984     Opel  Sep-2018     214\n",
      "320     Buick  Sep-2018    5315\n",
      "1364    Honda  Sep-2018   93778\n",
      "2120      Kia  Sep-2018   20400\n",
      "1496  Hyundai  Sep-2018   30800\n",
      "3524    Tesla  Sep-2018   35263\n",
      "1916     Jeep  Sep-2018   67942\n",
      "848      Ford  Sep-2018  179551\n",
      "1256   Holden  Sep-2018     705\n",
      "2876   Nissan  Sep-2018   57100\n",
      "3632   Toyota  Sep-2018   93297\n"
     ]
    }
   ],
   "source": [
    "prod_usa=crawldata(strCarProdsQ, country='united_states')\n",
    "\n",
    "prod_usa.to_sql('production_usa', con=eng_co, if_exists=update_behaviour, index=False)\n",
    "\n",
    "print(prod_usa.tail(12))"
   ]
  },
  {
   "cell_type": "markdown",
   "metadata": {},
   "source": [
    "### Mexico"
   ]
  },
  {
   "cell_type": "code",
   "execution_count": 55,
   "metadata": {},
   "outputs": [
    {
     "name": "stdout",
     "output_type": "stream",
     "text": [
      "Reading from  https://auto.vercity.ru/statistics/production/europe/2010/mexico/01-12/ ... Year 2010, country mexico, reading (34, 13) items\n",
      "Reading from  https://auto.vercity.ru/statistics/production/europe/2011/mexico/01-12/ ... Year 2011, country mexico, reading (33, 13) items\n",
      "Reading from  https://auto.vercity.ru/statistics/production/europe/2012/mexico/01-12/ ... Year 2012, country mexico, reading (30, 13) items\n",
      "Reading from  https://auto.vercity.ru/statistics/production/europe/2013/mexico/01-12/ ... Year 2013, country mexico, reading (19, 13) items\n",
      "Reading from  https://auto.vercity.ru/statistics/production/europe/2014/mexico/01-12/ ... Year 2014, country mexico, reading (19, 13) items\n",
      "Reading from  https://auto.vercity.ru/statistics/production/europe/2015/mexico/01-12/ ... Year 2015, country mexico, reading (19, 13) items\n",
      "Reading from  https://auto.vercity.ru/statistics/production/europe/2016/mexico/01-12/ ... Year 2016, country mexico, reading (19, 13) items\n",
      "Reading from  https://auto.vercity.ru/statistics/production/europe/2017/mexico/01-12/ ... Year 2017, country mexico, reading (19, 13) items\n",
      "Reading from  https://auto.vercity.ru/statistics/production/europe/2018/mexico/01-12/ ... Year 2018, country mexico, reading (17, 13) items\n"
     ]
    },
    {
     "name": "stderr",
     "output_type": "stream",
     "text": [
      "/home/egor/anaconda3/lib/python3.6/site-packages/ipykernel_launcher.py:43: FutureWarning: Sorting because non-concatenation axis is not aligned. A future version\n",
      "of pandas will change to not sort by default.\n",
      "\n",
      "To accept the future behavior, pass 'sort=False'.\n",
      "\n",
      "To retain the current behavior and silence the warning, pass 'sort=True'.\n",
      "\n"
     ]
    },
    {
     "name": "stdout",
     "output_type": "stream",
     "text": [
      "           Model      date  Count\n",
      "956        Honda  Sep-2018   3589\n",
      "2360      Toyota  Sep-2018  18410\n",
      "704         Ford  Sep-2018  19302\n",
      "488        Dodge  Sep-2018  27704\n",
      "1172    Infiniti  Sep-2018   3196\n",
      "1604     Lincoln  Sep-2018   3111\n",
      "104         Audi  Sep-2018   9758\n",
      "1064     Hyundai  Sep-2018   6159\n",
      "812          GMC  Sep-2018  25707\n",
      "308    Chevrolet  Sep-2018  49303\n",
      "2468  Volkswagen  Sep-2018  29219\n",
      "1496         Kia  Sep-2018  22141\n"
     ]
    }
   ],
   "source": [
    "prod_mexico=crawldata(strCarProdsQ, country='mexico')\n",
    "\n",
    "prod_mexico.to_sql('production_mexico', con=eng_co, if_exists=update_behaviour, index=False)\n",
    "\n",
    "print(prod_mexico.tail(12))"
   ]
  },
  {
   "cell_type": "markdown",
   "metadata": {},
   "source": [
    "### South Africa"
   ]
  },
  {
   "cell_type": "code",
   "execution_count": 56,
   "metadata": {},
   "outputs": [
    {
     "name": "stdout",
     "output_type": "stream",
     "text": [
      "Reading from  https://auto.vercity.ru/statistics/production/europe/2010/south_africa/01-12/ ... Year 2010, country south_africa, reading (12, 13) items\n",
      "Reading from  https://auto.vercity.ru/statistics/production/europe/2011/south_africa/01-12/ ... Year 2011, country south_africa, reading (12, 13) items\n",
      "Reading from  https://auto.vercity.ru/statistics/production/europe/2012/south_africa/01-12/ ... Year 2012, country south_africa, reading (12, 13) items\n",
      "Reading from  https://auto.vercity.ru/statistics/production/europe/2013/south_africa/01-12/ ... Year 2013, country south_africa, reading (12, 13) items\n",
      "Reading from  https://auto.vercity.ru/statistics/production/europe/2014/south_africa/01-12/ ... Year 2014, country south_africa, reading (12, 13) items\n",
      "Reading from  https://auto.vercity.ru/statistics/production/europe/2015/south_africa/01-12/ ... Year 2015, country south_africa, reading (12, 13) items\n",
      "Reading from  https://auto.vercity.ru/statistics/production/europe/2016/south_africa/01-12/ ... Year 2016, country south_africa, reading (12, 13) items\n",
      "Reading from  https://auto.vercity.ru/statistics/production/europe/2017/south_africa/01-12/ ... Year 2017, country south_africa, reading (12, 13) items\n",
      "Reading from  https://auto.vercity.ru/statistics/production/europe/2018/south_africa/01-12/ ... Year 2018, country south_africa, reading (12, 13) items\n"
     ]
    },
    {
     "name": "stderr",
     "output_type": "stream",
     "text": [
      "/home/egor/anaconda3/lib/python3.6/site-packages/ipykernel_launcher.py:43: FutureWarning: Sorting because non-concatenation axis is not aligned. A future version\n",
      "of pandas will change to not sort by default.\n",
      "\n",
      "To accept the future behavior, pass 'sort=False'.\n",
      "\n",
      "To retain the current behavior and silence the warning, pass 'sort=True'.\n",
      "\n"
     ]
    },
    {
     "name": "stdout",
     "output_type": "stream",
     "text": [
      "              Model      date  Count\n",
      "427            Ford  Aug-2018   8134\n",
      "1292     Volkswagen  Sep-2018  12510\n",
      "860   Mercedes-Benz  Sep-2018  11493\n",
      "968          Nissan  Sep-2018   2908\n",
      "212         Beijing  Sep-2018    357\n",
      "104             BMW  Sep-2018   6001\n",
      "536         Hyundai  Sep-2018    276\n",
      "644           Isuzu  Sep-2018   1136\n",
      "752           Mazda  Sep-2018     28\n",
      "428            Ford  Sep-2018   7021\n",
      "1184         Toyota  Sep-2018  11740\n",
      "1076           Tata  Sep-2018     63\n"
     ]
    }
   ],
   "source": [
    "prod_sar=crawldata(strCarProdsQ, country='south_africa')\n",
    "\n",
    "prod_sar.to_sql('production_sar', con=eng_co, if_exists=update_behaviour, index=False)\n",
    "\n",
    "print(prod_sar.tail(12))"
   ]
  },
  {
   "cell_type": "code",
   "execution_count": null,
   "metadata": {},
   "outputs": [],
   "source": []
  },
  {
   "cell_type": "code",
   "execution_count": null,
   "metadata": {},
   "outputs": [],
   "source": []
  }
 ],
 "metadata": {
  "kernelspec": {
   "display_name": "Python 3",
   "language": "python",
   "name": "python3"
  },
  "language_info": {
   "codemirror_mode": {
    "name": "ipython",
    "version": 3
   },
   "file_extension": ".py",
   "mimetype": "text/x-python",
   "name": "python",
   "nbconvert_exporter": "python",
   "pygments_lexer": "ipython3",
   "version": "3.6.4"
  }
 },
 "nbformat": 4,
 "nbformat_minor": 2
}
